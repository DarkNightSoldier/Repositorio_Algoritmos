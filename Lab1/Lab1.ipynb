{
  "nbformat": 4,
  "nbformat_minor": 0,
  "metadata": {
    "colab": {
      "name": "Lab1.ipynb",
      "provenance": [],
      "collapsed_sections": []
    },
    "kernelspec": {
      "display_name": "Python 3",
      "language": "python",
      "name": "python3"
    },
    "language_info": {
      "codemirror_mode": {
        "name": "ipython",
        "version": 3
      },
      "file_extension": ".py",
      "mimetype": "text/x-python",
      "name": "python",
      "nbconvert_exporter": "python",
      "pygments_lexer": "ipython3",
      "version": "3.6.4"
    }
  },
  "cells": [
    {
      "cell_type": "markdown",
      "metadata": {
        "id": "eQzBbvyKQymx"
      },
      "source": [
        "<div align=\"center\">\n",
        "<img style=\"display: block; margin: auto;\" alt=\"photo\" src=\"https://cdn.quantconnect.com/web/i/icon.png\">\n",
        "\n",
        "Quantconnect\n",
        "\n",
        "Introduction to Financial Python\n",
        "</div>\n",
        "\n",
        "# 01 Data Types and Data Structures\n",
        "\n",
        "# Introduction\n",
        "\n",
        "This tutorial provides a basic introduction to the Python programming language. If you are new to Python, you should run the code snippets while reading this tutorial. If you are an advanced Python user, please feel free to skip this chapter.\n",
        "\n",
        "# Basic Variable Types\n",
        "The basic types of variables in Python are: strings, integers, floating point numbers and booleans.\n",
        "\n",
        "Strings in python are identified as a contiguous set of characters represented in either single quotes (' ') or double quotes (\" \").\n"
      ]
    },
    {
      "cell_type": "code",
      "metadata": {
        "colab": {
          "base_uri": "https://localhost:8080/"
        },
        "id": "N5t-UrcfOqid",
        "outputId": "acfa1b4b-63b7-4f33-b548-2e49519b2ef7"
      },
      "source": [
        "my_string1 = 'Welcome to'\n",
        "my_string2 = \"QuantConnect\"\n",
        "print(my_string1 + ' ' + my_string2)"
      ],
      "execution_count": null,
      "outputs": [
        {
          "output_type": "stream",
          "name": "stdout",
          "text": [
            "Welcome to QuantConnect\n"
          ]
        }
      ]
    },
    {
      "cell_type": "code",
      "source": [
        "my_string1 = 'Hola, mi nombre es'\n",
        "my_string2 = \"Alejandro\"\n",
        "print(my_string1 + ' ' + my_string2) #Print and concatenate my_string1 and my_string2"
      ],
      "metadata": {
        "id": "F1h0SCdnAwgE",
        "outputId": "f2a6f181-f6d2-431d-abd9-9980b5d3ef57",
        "colab": {
          "base_uri": "https://localhost:8080/"
        }
      },
      "execution_count": null,
      "outputs": [
        {
          "output_type": "stream",
          "name": "stdout",
          "text": [
            "Hola, mi nombre es Alejandro\n"
          ]
        }
      ]
    },
    {
      "cell_type": "markdown",
      "metadata": {
        "id": "bXHnxZyHSd1M"
      },
      "source": [
        "An integer is a round number with no values after the decimal point."
      ]
    },
    {
      "cell_type": "code",
      "metadata": {
        "colab": {
          "base_uri": "https://localhost:8080/"
        },
        "id": "pNjuz3toOqif",
        "outputId": "8d88989e-c7d9-456c-a415-50b1fba91ad3"
      },
      "source": [
        "my_int = 10 \n",
        "print(my_int)\n",
        "print(type(my_int))"
      ],
      "execution_count": null,
      "outputs": [
        {
          "output_type": "stream",
          "name": "stdout",
          "text": [
            "10\n",
            "<class 'int'>\n"
          ]
        }
      ]
    },
    {
      "cell_type": "code",
      "source": [
        "integer = 15 #Assign a integer to a variable called integer\n",
        "print(integer) #print the content of the variable integer\n",
        "print(type(integer)) #print the class of the variable called integer"
      ],
      "metadata": {
        "id": "eSAqxPqSBBsz",
        "outputId": "5eee9e25-cd28-4e2a-8ff2-ed501f964a85",
        "colab": {
          "base_uri": "https://localhost:8080/"
        }
      },
      "execution_count": null,
      "outputs": [
        {
          "output_type": "stream",
          "name": "stdout",
          "text": [
            "15\n",
            "<class 'int'>\n"
          ]
        }
      ]
    },
    {
      "cell_type": "markdown",
      "metadata": {
        "id": "_1ZanWrYSnzF"
      },
      "source": [
        "The built-in function int() can convert a string into an integer."
      ]
    },
    {
      "cell_type": "code",
      "metadata": {
        "colab": {
          "base_uri": "https://localhost:8080/"
        },
        "id": "zPwGb20FOqif",
        "outputId": "578dce75-668e-4668-c593-f72214175888"
      },
      "source": [
        "my_string = \"100\"\n",
        "print(type(my_string))\n",
        "my_int = int(my_string)\n",
        "print(type(my_int))"
      ],
      "execution_count": null,
      "outputs": [
        {
          "output_type": "stream",
          "name": "stdout",
          "text": [
            "<class 'str'>\n",
            "<class 'int'>\n"
          ]
        }
      ]
    },
    {
      "cell_type": "code",
      "source": [
        "string_example = \"456\" #Define a variable called string_example that contains a string\n",
        "print(f'string_example={string_example} with class={type(string_example)}') #Print the class of the variable string_example and its content\n",
        "int_example = int(string_example) #Make a type cast of the variable string_example to integer and store his content in variable int_example\n",
        "print(f'int_example={int_example} with class={type(int_example)}')#Print the class of the variable int_example and its content"
      ],
      "metadata": {
        "id": "T4Ca4r6rBbet",
        "outputId": "7cec3084-88aa-463b-9e11-2f43b2cff4f3",
        "colab": {
          "base_uri": "https://localhost:8080/"
        }
      },
      "execution_count": null,
      "outputs": [
        {
          "output_type": "stream",
          "name": "stdout",
          "text": [
            "string_example=456 with class=<class 'str'>\n",
            "int_example=456 with class=<class 'int'>\n"
          ]
        }
      ]
    },
    {
      "cell_type": "markdown",
      "metadata": {
        "id": "WqMDPDTHSrE9"
      },
      "source": [
        "A floating point number, or a float, is a real number in mathematics. In Python we need to include a value after a decimal point to define it as a float"
      ]
    },
    {
      "cell_type": "code",
      "metadata": {
        "colab": {
          "base_uri": "https://localhost:8080/"
        },
        "id": "otCzKKW9Oqig",
        "outputId": "a86233ed-3b60-44dd-dbbb-a6ba7b212918"
      },
      "source": [
        "my_string = \"100\"\n",
        "my_float = float(my_string)\n",
        "print(type(my_float))"
      ],
      "execution_count": null,
      "outputs": [
        {
          "output_type": "stream",
          "name": "stdout",
          "text": [
            "<class 'float'>\n"
          ]
        }
      ]
    },
    {
      "cell_type": "code",
      "source": [
        "string_example = \"456.20\" #Define a variable called string_example that contains a string\n",
        "print(f'string_example={string_example} with class={type(string_example)}') #Print the class of the variable string_example and its content\n",
        "float_example = float(string_example) #Make a type cast of the variable string_example to float and store his content in variable float_example\n",
        "print(f'float_example={float_example} with class={type(float_example)}')#Print the class of the variable float_example and its content"
      ],
      "metadata": {
        "id": "WfaMwy3uBpDZ",
        "outputId": "0b051de8-8592-4c92-927d-9b5185c69b41",
        "colab": {
          "base_uri": "https://localhost:8080/"
        }
      },
      "execution_count": null,
      "outputs": [
        {
          "output_type": "stream",
          "name": "stdout",
          "text": [
            "string_example=456.20 with class=<class 'str'>\n",
            "float_example=456.2 with class=<class 'float'>\n"
          ]
        }
      ]
    },
    {
      "cell_type": "markdown",
      "metadata": {
        "id": "2iuyv8Q7StTJ"
      },
      "source": [
        "As you can see above, if we don't include a decimal value, the variable would be defined as an integer. The built-in function float() can convert a string or an integer into a float."
      ]
    },
    {
      "cell_type": "code",
      "metadata": {
        "colab": {
          "base_uri": "https://localhost:8080/"
        },
        "id": "wwLw5VthOqig",
        "outputId": "d9da1137-5370-4cdb-bced-c27acb8ccf68"
      },
      "source": [
        "my_bool = False\n",
        "print(my_bool)\n",
        "print(type(my_bool))"
      ],
      "execution_count": null,
      "outputs": [
        {
          "output_type": "stream",
          "name": "stdout",
          "text": [
            "False\n",
            "<class 'bool'>\n"
          ]
        }
      ]
    },
    {
      "cell_type": "code",
      "source": [
        "bool_example = True\n",
        "\n",
        "if bool_example:     #If statement that evaluates the value of bool_example\n",
        "  print(\"Is true\")   #If the value of bool_example is True, then print \"Is true\"\n",
        "else:  \n",
        "  print(\"Is false\")  #If the value of bool_example is False, then print \"Is false\"\n",
        "\n",
        "print(f'bool_example={bool_example} with class={type(bool_example)}') #Print the class of the variable bool_example and its content"
      ],
      "metadata": {
        "id": "I4ypoAk-BuSm",
        "outputId": "e9f1b986-3f54-4361-faeb-bd2457bedeeb",
        "colab": {
          "base_uri": "https://localhost:8080/"
        }
      },
      "execution_count": null,
      "outputs": [
        {
          "output_type": "stream",
          "name": "stdout",
          "text": [
            "Is true\n",
            "bool_example=True with class=<class 'bool'>\n"
          ]
        }
      ]
    },
    {
      "cell_type": "markdown",
      "metadata": {
        "id": "bnGMwH21Szr_"
      },
      "source": [
        "A boolean, or bool, is a binary variable. Its value can only be True or False. It is useful when we do some logic operations, which would be covered in our next chapter."
      ]
    },
    {
      "cell_type": "code",
      "metadata": {
        "colab": {
          "base_uri": "https://localhost:8080/"
        },
        "id": "DMa6pDl5Oqig",
        "outputId": "c95fb06b-10d2-4860-ee5c-70c3e768ae75"
      },
      "source": [
        "print(\"Addition \", 1+1)\n",
        "print(\"Subtraction \", 5-2)\n",
        "print(\"Multiplication \", 2*3)\n",
        "print(\"Division \", 10/2)\n",
        "print('exponent', 2**3)"
      ],
      "execution_count": null,
      "outputs": [
        {
          "output_type": "stream",
          "name": "stdout",
          "text": [
            "Addition  2\n",
            "Subtraction  3\n",
            "Multiplication  6\n",
            "Division  5.0\n",
            "exponent 8\n"
          ]
        }
      ]
    },
    {
      "cell_type": "code",
      "source": [
        "a = 3\n",
        "b = 10\n",
        "print(\"Addition \", a+b) #Print the result of sum a and b\n",
        "print(\"Subtraction \", a-b) #Print the result of subtract b to a\n",
        "print(\"Multiplication \", a*b) #Print the result of a times b\n",
        "print(\"Division \", a/b) #Print the result of divides a between b\n",
        "print('exponent', a**b) #Print the result of raise a to b"
      ],
      "metadata": {
        "id": "sSEHfT8zB8PN",
        "outputId": "be8ee28e-bf7a-421a-dc49-5f001f70561b",
        "colab": {
          "base_uri": "https://localhost:8080/"
        }
      },
      "execution_count": null,
      "outputs": [
        {
          "output_type": "stream",
          "name": "stdout",
          "text": [
            "Addition  13\n",
            "Subtraction  -7\n",
            "Multiplication  30\n",
            "Division  0.3\n",
            "exponent 59049\n"
          ]
        }
      ]
    },
    {
      "cell_type": "markdown",
      "metadata": {
        "id": "1Xc9G9_sS2ju"
      },
      "source": [
        "# Basic Math Operations\n",
        "\n",
        "The basic math operators in python are demonstrated below:"
      ]
    },
    {
      "cell_type": "code",
      "metadata": {
        "colab": {
          "base_uri": "https://localhost:8080/"
        },
        "id": "KE9gUryAOqig",
        "outputId": "82343653-3452-4cc1-a0d6-510cbc54d7cb"
      },
      "source": [
        "print(1/3)\n",
        "print(1.0/3)"
      ],
      "execution_count": null,
      "outputs": [
        {
          "output_type": "stream",
          "name": "stdout",
          "text": [
            "0.3333333333333333\n",
            "0.3333333333333333\n"
          ]
        }
      ]
    },
    {
      "cell_type": "code",
      "source": [
        "a = 5\n",
        "b = 4\n",
        "\n",
        "print(a/b) #Print the result of a division between two integers\n",
        "\n",
        "c = 1.569\n",
        "d = 4\n",
        "\n",
        "print(c/d) #Print the result of a division between a floating-point number and a integer"
      ],
      "metadata": {
        "id": "kIqatvrhCE7l"
      },
      "execution_count": null,
      "outputs": []
    },
    {
      "cell_type": "markdown",
      "metadata": {
        "id": "AN5Oa3DoS_Nf"
      },
      "source": [
        "# Data Collections\n",
        "\n",
        "## List\n",
        "A list is an ordered collection of values. A list is mutable, which means you can change a list's value without changing the list itself. Creating a list is simply putting different comma-separated values between square brackets."
      ]
    },
    {
      "cell_type": "code",
      "metadata": {
        "colab": {
          "base_uri": "https://localhost:8080/"
        },
        "id": "-tQdNqCvOqig",
        "outputId": "946aa60d-c7d5-4e4c-860a-1b2fa00c3ceb"
      },
      "source": [
        "my_list = ['Quant', 'Connect']#, 1,2,3]\n",
        "print(my_list)"
      ],
      "execution_count": null,
      "outputs": [
        {
          "output_type": "stream",
          "name": "stdout",
          "text": [
            "['Quant', 'Connect', 1, 2, 3]\n"
          ]
        }
      ]
    },
    {
      "cell_type": "code",
      "source": [
        "#Create a list with the string \"Papaya\", the number 2, the number 3.5 and a false\n",
        "my_list = [\"Papaya\",2,3.5,False]\n",
        "#Print the content of the list my_list\n",
        "print(my_list)"
      ],
      "metadata": {
        "id": "Ad73bCrgDSW6",
        "outputId": "f45493e4-f69f-4ed9-d460-d79af8a30bca",
        "colab": {
          "base_uri": "https://localhost:8080/"
        }
      },
      "execution_count": null,
      "outputs": [
        {
          "output_type": "stream",
          "name": "stdout",
          "text": [
            "['Papaya', 2, 3.5, False]\n"
          ]
        }
      ]
    },
    {
      "cell_type": "markdown",
      "metadata": {
        "id": "1O0TsgZCTHrM"
      },
      "source": [
        "The values in a list are called \"elements\". We can access list elements by indexing. Python index starts from 0. So if you have a list of length n, the index of the first element will be 0, and that of the last element will be n − 1. By the way, the length of a list can be obtained by the built-in function len()."
      ]
    },
    {
      "cell_type": "code",
      "metadata": {
        "colab": {
          "base_uri": "https://localhost:8080/"
        },
        "id": "QhuVhRR5Oqih",
        "outputId": "617380f2-c707-4aab-8938-17857e5e5362"
      },
      "source": [
        "my_list = ['Quant', 'Connect', 1,2,3]\n",
        "print(len(my_list))\n",
        "print(my_list[0])\n",
        "print(my_list[len(my_list) -1])"
      ],
      "execution_count": null,
      "outputs": [
        {
          "output_type": "stream",
          "name": "stdout",
          "text": [
            "5\n",
            "Quant\n",
            "3\n"
          ]
        }
      ]
    },
    {
      "cell_type": "code",
      "source": [
        "#Create a list with the string \"Papaya\", the number 2, the number 3.5 and a false\n",
        "my_list = [\"Papaya\",2,3.5,False]\n",
        "#Print the number of elements of the list my_list\n",
        "print(len(my_list))\n",
        "#Print the second element of the list_my_list\n",
        "print(my_list[1])\n",
        "#Print the last element of the list my_list (Alternative form)\n",
        "print(my_list[-1])"
      ],
      "metadata": {
        "id": "mg5XN3QhEbpK",
        "outputId": "342ba6a0-67b7-4c0f-d126-2bca59ab0cf3",
        "colab": {
          "base_uri": "https://localhost:8080/"
        }
      },
      "execution_count": null,
      "outputs": [
        {
          "output_type": "stream",
          "name": "stdout",
          "text": [
            "4\n",
            "2\n",
            "False\n"
          ]
        }
      ]
    },
    {
      "cell_type": "markdown",
      "metadata": {
        "id": "jgSZy1VGTKSc"
      },
      "source": [
        "You can also change the elements in the list by accessing an index and assigning a new value."
      ]
    },
    {
      "cell_type": "code",
      "metadata": {
        "colab": {
          "base_uri": "https://localhost:8080/"
        },
        "id": "NQBNLjAvOqih",
        "outputId": "476b8e55-d299-41aa-9215-9c0098bbf43c"
      },
      "source": [
        "my_list = ['Quant','Connect',1,2,3]\n",
        "my_list[2] = 'go'\n",
        "print(my_list)"
      ],
      "execution_count": null,
      "outputs": [
        {
          "output_type": "stream",
          "name": "stdout",
          "text": [
            "['Quant', 'Connect', 'go', 2, 3]\n"
          ]
        }
      ]
    },
    {
      "cell_type": "code",
      "source": [
        "#Create a list with the string \"Papaya\", the number 2, the number 3.5 and a false\n",
        "my_list = [\"Papaya\",2,3.5,False]\n",
        "#Assign a new value of True to the last item of the list my_list\n",
        "my_list[-1] = True\n",
        "#Print the content of the last index of list my_list\n",
        "print(my_list[-1])"
      ],
      "metadata": {
        "id": "bBWELW_nF_b_"
      },
      "execution_count": null,
      "outputs": []
    },
    {
      "cell_type": "markdown",
      "metadata": {
        "id": "EQPs5ojoTVrk"
      },
      "source": [
        "A list can also be sliced with a colon:"
      ]
    },
    {
      "cell_type": "code",
      "metadata": {
        "colab": {
          "base_uri": "https://localhost:8080/"
        },
        "id": "keNX2RbtOqii",
        "outputId": "01219718-8be6-4b02-b241-f1747bea9ab5"
      },
      "source": [
        "my_list = ['Quant','Connect',1,2,3]\n",
        "print(my_list[1:3])"
      ],
      "execution_count": null,
      "outputs": [
        {
          "output_type": "stream",
          "name": "stdout",
          "text": [
            "['Connect', 1]\n"
          ]
        }
      ]
    },
    {
      "cell_type": "code",
      "source": [
        "#Create a list with the string \"Papaya\", the number 2, the number 3.5 and a false\n",
        "my_list = [\"Papaya\",2,3.5,False]\n",
        "#Print the elements of my_list between the first and third element, excluding the third element\n",
        "print(my_list[0:2])"
      ],
      "metadata": {
        "id": "CyOzQB3fGhyt",
        "outputId": "13394b8c-ad21-4d71-bb24-e32cfe793311",
        "colab": {
          "base_uri": "https://localhost:8080/"
        }
      },
      "execution_count": null,
      "outputs": [
        {
          "output_type": "stream",
          "name": "stdout",
          "text": [
            "['Papaya', 2]\n"
          ]
        }
      ]
    },
    {
      "cell_type": "markdown",
      "metadata": {
        "id": "AZqQd0K8TYul"
      },
      "source": [
        "The slice starts from the first element indicated, but excludes the last element indicated. Here we select all elements starting from index 1, which refers to the second element:"
      ]
    },
    {
      "cell_type": "code",
      "metadata": {
        "colab": {
          "base_uri": "https://localhost:8080/"
        },
        "id": "0-76sLfkOqii",
        "outputId": "e0507043-0cd4-491b-bb9f-26100bf5ffd1"
      },
      "source": [
        "print(my_list[1:])"
      ],
      "execution_count": null,
      "outputs": [
        {
          "output_type": "stream",
          "name": "stdout",
          "text": [
            "['Connect', 1, 2, 3]\n"
          ]
        }
      ]
    },
    {
      "cell_type": "code",
      "source": [
        "#Print the elements of my_list between the third and the last element\n",
        "print(my_list[2:])"
      ],
      "metadata": {
        "id": "hlIZVySRIWWR",
        "outputId": "1230fea8-fea9-4491-9061-58b53f539100",
        "colab": {
          "base_uri": "https://localhost:8080/"
        }
      },
      "execution_count": null,
      "outputs": [
        {
          "output_type": "stream",
          "name": "stdout",
          "text": [
            "[3.5, False]\n"
          ]
        }
      ]
    },
    {
      "cell_type": "markdown",
      "metadata": {
        "id": "XBqvhUdZVKWs"
      },
      "source": [
        "And all elements up to but excluding index 3:"
      ]
    },
    {
      "cell_type": "code",
      "metadata": {
        "colab": {
          "base_uri": "https://localhost:8080/"
        },
        "id": "5NWr75L9Oqii",
        "outputId": "4b51d4c2-40d5-495c-cc54-cefab7fbea0e"
      },
      "source": [
        "print(my_list[:3])"
      ],
      "execution_count": null,
      "outputs": [
        {
          "output_type": "stream",
          "name": "stdout",
          "text": [
            "['Quant', 'Connect', 1]\n"
          ]
        }
      ]
    },
    {
      "cell_type": "code",
      "source": [
        "#Print the elements of my_list between the first and the third element, excluiding the third element\n",
        "print(my_list[:2])"
      ],
      "metadata": {
        "id": "nrpZJb4fJ_84",
        "outputId": "54d9da47-aa60-4997-bdf5-4965ed8f8c69",
        "colab": {
          "base_uri": "https://localhost:8080/"
        }
      },
      "execution_count": null,
      "outputs": [
        {
          "output_type": "stream",
          "name": "stdout",
          "text": [
            "['Papaya', 2]\n"
          ]
        }
      ]
    },
    {
      "cell_type": "markdown",
      "metadata": {
        "id": "eAFmM6bkTZz9"
      },
      "source": [
        "If you wish to add or remove an element from a list, you can use the append() and remove() methods for lists as follows:"
      ]
    },
    {
      "cell_type": "code",
      "metadata": {
        "colab": {
          "base_uri": "https://localhost:8080/"
        },
        "id": "pHmgTPElTo19",
        "outputId": "8a53f054-c2db-4295-9ab5-b2f8d13ce518"
      },
      "source": [
        "my_list = ['Hello', 'Quant']\n",
        "my_list.append('Hello')\n",
        "print(my_list)\n",
        "\n",
        "my_list.remove('Hello')\n",
        "print(my_list)"
      ],
      "execution_count": null,
      "outputs": [
        {
          "output_type": "stream",
          "name": "stdout",
          "text": [
            "['Hello', 'Quant', 'Hello']\n"
          ]
        }
      ]
    },
    {
      "cell_type": "code",
      "metadata": {
        "colab": {
          "base_uri": "https://localhost:8080/"
        },
        "id": "4C4U1Yf0Tr8l",
        "outputId": "b30eadd0-901e-4a49-f93c-f0636af24ade"
      },
      "source": [
        "#Create a list with the string \"Papaya\", the number 2, the number 3.5 and a false\n",
        "my_list = [\"Papaya\",2,3.5,False]\n",
        "\n",
        "#Add number 2.65 to my_list\n",
        "my_list.append(2.65)\n",
        "print(my_list) #Print the content of list my_list\n",
        "\n",
        "#Remove number 2.65 from my_list\n",
        "my_list.remove(2.65)\n",
        "print(my_list) #Print the content of list my_list"
      ],
      "execution_count": null,
      "outputs": [
        {
          "output_type": "stream",
          "name": "stdout",
          "text": [
            "['Papaya', 2, 3.5, False, 2.65]\n",
            "['Papaya', 2, 3.5, False]\n"
          ]
        }
      ]
    },
    {
      "cell_type": "markdown",
      "metadata": {
        "id": "11W1gG-cVmOU"
      },
      "source": [
        "When there are repeated instances of \"Hello\", the first one is removed.\n",
        "\n",
        "## Tuple\n",
        "A tuple is a data structure type similar to a list. The difference is that a tuple is immutable, which means you can't change the elements in it once it's defined. We create a tuple by putting comma-separated values between parentheses."
      ]
    },
    {
      "cell_type": "code",
      "metadata": {
        "collapsed": true,
        "id": "vPmn6BAaOqii"
      },
      "source": [
        "my_tuple = ('Welcome','to','QuantConnect')"
      ],
      "execution_count": null,
      "outputs": []
    },
    {
      "cell_type": "code",
      "source": [
        "#Create a tuple with the string \"Papaya\", the number 2, the number 3.5 and a false\n",
        "tuple_ex = (\"Papaya\",2,3.5,False)"
      ],
      "metadata": {
        "id": "T8C82KwgNuvQ"
      },
      "execution_count": null,
      "outputs": []
    },
    {
      "cell_type": "markdown",
      "metadata": {
        "id": "zMIme4dDV0Wz"
      },
      "source": [
        "Just like a list, a tuple can be sliced by using index."
      ]
    },
    {
      "cell_type": "code",
      "metadata": {
        "colab": {
          "base_uri": "https://localhost:8080/"
        },
        "id": "8P-ddO0sOqii",
        "outputId": "59410ade-8f39-420d-e0cc-cae6c015e1cf"
      },
      "source": [
        "my_tuple = ('Welcome','to','QuantConnect')\n",
        "print(my_tuple[1:])"
      ],
      "execution_count": null,
      "outputs": [
        {
          "output_type": "stream",
          "name": "stdout",
          "text": [
            "('to', 'QuantConnect')\n"
          ]
        }
      ]
    },
    {
      "cell_type": "code",
      "source": [
        "#Create a tuple with the string \"Papaya\", the number 2, the number 3.5 and a false\n",
        "tuple_ex = (\"Papaya\",2,3.5,False)\n",
        "#Print the elements of tuple_ex between the first and third element, excluding the third element\n",
        "print(tuple_ex[0:2])"
      ],
      "metadata": {
        "id": "R5APTWc5OGKN",
        "outputId": "46b0f74a-fe61-49b0-d926-fcb3c112ea1a",
        "colab": {
          "base_uri": "https://localhost:8080/"
        }
      },
      "execution_count": null,
      "outputs": [
        {
          "output_type": "stream",
          "name": "stdout",
          "text": [
            "('Papaya', 2)\n"
          ]
        }
      ]
    },
    {
      "cell_type": "markdown",
      "metadata": {
        "id": "l2JqbusAV1Y2"
      },
      "source": [
        "## Set\n",
        "A set is an **unordered**  collection with **no duplicate** elements. The built-in function **set()** can be used to create sets."
      ]
    },
    {
      "cell_type": "code",
      "metadata": {
        "colab": {
          "base_uri": "https://localhost:8080/"
        },
        "id": "Plau8r-UOqij",
        "outputId": "38956220-c75c-4046-ebfa-810880ea19f4"
      },
      "source": [
        "stock_list = ['AAPL','GOOG','IBM','AAPL','IBM','FB','F','GOOG']\n",
        "stock_set = set(stock_list)\n",
        "print(stock_set)"
      ],
      "execution_count": null,
      "outputs": [
        {
          "output_type": "stream",
          "name": "stdout",
          "text": [
            "{'FB', 'IBM', 'AAPL', 'GOOG', 'F'}\n"
          ]
        }
      ]
    },
    {
      "cell_type": "code",
      "source": [
        "#Create a list with the string \"Papaya\", the number 2, the number 3.5 and a false\n",
        "list_ex = (\"Papaya\",2,3.5,False)\n",
        "#Make a type cast from the list list_ex to set and store it the variable set_ex\n",
        "set_ex = set(list_ex)\n",
        "#Print the content of the set set_ex\n",
        "print(set_ex)"
      ],
      "metadata": {
        "id": "yW-zDPbVRuJr",
        "outputId": "2ec6384a-73a1-4270-840e-aaedf8c188c4",
        "colab": {
          "base_uri": "https://localhost:8080/"
        }
      },
      "execution_count": null,
      "outputs": [
        {
          "output_type": "stream",
          "name": "stdout",
          "text": [
            "{False, 'Papaya', 2, 3.5}\n"
          ]
        }
      ]
    },
    {
      "cell_type": "markdown",
      "metadata": {
        "id": "Jyb4GGIoWIHk"
      },
      "source": [
        "Set is an easy way to remove duplicate elements from a list.\n",
        "\n",
        "\n",
        "##Dictionary\n",
        "A dictionary is one of the most important data structures in Python. Unlike sequences which are indexed by integers, dictionaries are indexed by keys which can be either strings or floats.\n",
        "\n",
        "A dictionary is an **unordered** collection of key : value pairs, with the requirement that the keys are unique. We create a dictionary by placing a comma-separated list of key : value pairs within the braces."
      ]
    },
    {
      "cell_type": "code",
      "metadata": {
        "collapsed": true,
        "id": "36mTe5BaOqij",
        "colab": {
          "base_uri": "https://localhost:8080/"
        },
        "outputId": "2db2d762-6fa1-4943-8906-6c63ffdc9e98"
      },
      "source": [
        "my_dic = {'AAPL':'AAPLE', 'FB':'FaceBook', 'GOOG':'Alphabet'}\n",
        "print(my_dic['GOOG'])"
      ],
      "execution_count": null,
      "outputs": [
        {
          "output_type": "stream",
          "name": "stdout",
          "text": [
            "Alphabet\n"
          ]
        }
      ]
    },
    {
      "cell_type": "code",
      "source": [
        "#Store in the variable dict_ex a dictionary with the keys\n",
        "#Juana,Pepe,Humberto and its respective values 50,40,30 and 25\n",
        "dict_ex = {\"Juana\":50,\"Pepe\":40,\"Humberto\":30,\"Marta\":25}"
      ],
      "metadata": {
        "id": "VpbB_FDbYWfc"
      },
      "execution_count": null,
      "outputs": []
    },
    {
      "cell_type": "markdown",
      "metadata": {
        "id": "gSicoNqDWP4c"
      },
      "source": [
        "After defining a dictionary, we can access any value by indicating its key in brackets."
      ]
    },
    {
      "cell_type": "code",
      "metadata": {
        "colab": {
          "base_uri": "https://localhost:8080/"
        },
        "id": "IrTZdq9FOqij",
        "outputId": "d5ccdda2-e268-4fe7-b79a-05487f00cf0e"
      },
      "source": [
        "my_dic['GOOG'] = 'Alphabet Company'\n",
        "print(my_dic['GOOG'])"
      ],
      "execution_count": null,
      "outputs": [
        {
          "output_type": "stream",
          "name": "stdout",
          "text": [
            "Alphabet Company\n"
          ]
        }
      ]
    },
    {
      "cell_type": "code",
      "source": [
        "#Modify the value associated with the key \"Pepe\" in the dictionary dict_ex\n",
        "dict_ex[\"Pepe\"] = 20\n",
        "#Print the value associated with the key \"Pepe\" in the dictionary dict_ex\n",
        "print(dict_ex[\"Pepe\"])"
      ],
      "metadata": {
        "id": "yX2yRC0-ZaY9"
      },
      "execution_count": null,
      "outputs": []
    },
    {
      "cell_type": "markdown",
      "metadata": {
        "id": "M9sDsTEMWQvc"
      },
      "source": [
        "We can also change the value associated with a specified key:"
      ]
    },
    {
      "cell_type": "code",
      "metadata": {
        "colab": {
          "base_uri": "https://localhost:8080/"
        },
        "id": "lupRHf1_Oqij",
        "outputId": "315ce30c-459c-4a59-fef1-8844e30253bb"
      },
      "source": [
        "print(my_dic.keys())"
      ],
      "execution_count": null,
      "outputs": [
        {
          "output_type": "stream",
          "name": "stdout",
          "text": [
            "dict_keys(['AAPL', 'FB', 'GOOG'])\n"
          ]
        }
      ]
    },
    {
      "cell_type": "code",
      "source": [
        "#Print all the keys of the dictionary dict_ex\n",
        "print(f'Las llaves del diccionario son: {list(dict_ex.keys())}')\n",
        "#Print all the values of the dictionary dict_ex\n",
        "print(f'Los valores contenidos en el diccionario son: {list(dict_ex.values())}')"
      ],
      "metadata": {
        "id": "Rcc6dimcZ9cb",
        "outputId": "4aa0d762-3af9-42eb-b33e-3ec6b6ca7f4a",
        "colab": {
          "base_uri": "https://localhost:8080/"
        }
      },
      "execution_count": null,
      "outputs": [
        {
          "output_type": "stream",
          "name": "stdout",
          "text": [
            "Las llaves del diccionario son: ['Juana', 'Pepe', 'Humberto', 'Marta']\n",
            "Los valores contenidos en el diccionario son: [50, 40, 30, 25]\n"
          ]
        }
      ]
    },
    {
      "cell_type": "markdown",
      "metadata": {
        "id": "VPuDinlwWS9D"
      },
      "source": [
        "The built-in method of the dictionary object dict.keys() returns a list of all the keys used in the dictionary."
      ]
    },
    {
      "cell_type": "markdown",
      "metadata": {
        "id": "kSGzgNb2Womz"
      },
      "source": [
        "# Common String Operations\n",
        "A string is an immutable sequence of characters. It can be sliced by index just like a tuple:"
      ]
    },
    {
      "cell_type": "code",
      "metadata": {
        "colab": {
          "base_uri": "https://localhost:8080/"
        },
        "id": "xPojDnm9Oqik",
        "outputId": "6566c80c-e15d-4a63-e34a-6e3c9393d71e"
      },
      "source": [
        "my_str = 'Welcome to QuantConnect'\n",
        "print(my_str[8:])"
      ],
      "execution_count": null,
      "outputs": [
        {
          "output_type": "stream",
          "name": "stdout",
          "text": [
            "to QuantConnect\n"
          ]
        }
      ]
    },
    {
      "cell_type": "code",
      "source": [
        "str_ex = \"Diego Camilo Talero Osorio\" #Store a string in the variable str_ex\n",
        "print(str_ex[2:7]) #Print the string between the third and eight character, excluiding the eight character"
      ],
      "metadata": {
        "id": "cZ9xSjgCaj6R",
        "outputId": "9855e4ec-77cc-409c-cb72-95e8a8f0e9da",
        "colab": {
          "base_uri": "https://localhost:8080/"
        }
      },
      "execution_count": null,
      "outputs": [
        {
          "output_type": "stream",
          "name": "stdout",
          "text": [
            "ego C\n"
          ]
        }
      ]
    },
    {
      "cell_type": "markdown",
      "metadata": {
        "id": "wuJYy7tvWtM7"
      },
      "source": [
        "There are many methods associated with strings. We can use string.count() to count the occurrences of a character in a string, use string.find() to return the index of a specific character, and use string.replace() to replace characters"
      ]
    },
    {
      "cell_type": "code",
      "metadata": {
        "colab": {
          "base_uri": "https://localhost:8080/"
        },
        "id": "u9deZq1SOqik",
        "outputId": "76dd7ace-0e6c-4768-f67d-4eaeac8d5bd8"
      },
      "source": [
        "print('Counting the number of e appears in this sentence'.count('e'))\n",
        "print('The first time e appears in this sentence'.find('e'))\n",
        "print('all the a in this sentence now becomes e'.replace('a','e'))"
      ],
      "execution_count": null,
      "outputs": [
        {
          "output_type": "stream",
          "name": "stdout",
          "text": [
            "7\n",
            "2\n",
            "ell the e in this sentence now becomes e\n"
          ]
        }
      ]
    },
    {
      "cell_type": "code",
      "source": [
        "#Store a string in the variable str_ex\n",
        "str_ex = \"Diego Camilo Talero Osorio\"\n",
        "#Print the number of times that character 'a' appears in string str_ex\n",
        "print(f'La letra a aparece {str_ex.count(\"a\")} veces')\n",
        "#Print the index where character 'a' appears for first time\n",
        "print(f'El índice en que la letra a aparece por primera vez es: {str_ex.find(\"a\")}')\n",
        "#Print the result of replacing the character 'a' by the character 'i' in the string str_ex\n",
        "print(f'Si reemplazamos la letra a por la i obtenemos: {str_ex.replace(\"a\",\"i\")}')"
      ],
      "metadata": {
        "id": "jiutPuz7bCau",
        "outputId": "5f26caa0-bcf2-4ec9-8496-029ef63303a1",
        "colab": {
          "base_uri": "https://localhost:8080/"
        }
      },
      "execution_count": null,
      "outputs": [
        {
          "output_type": "stream",
          "name": "stdout",
          "text": [
            "La letra a aparece 2 veces\n",
            "El índice en que la letra a aparece por primera vez es: 7\n",
            "Si reemplazamos la letra a por la i obtenemos: Diego Cimilo Tilero Osorio\n"
          ]
        }
      ]
    },
    {
      "cell_type": "markdown",
      "metadata": {
        "id": "sJPn3rkvWwHN"
      },
      "source": [
        "The most commonly used method for strings is string.split(). This method will split the string by the indicated character and return a list:"
      ]
    },
    {
      "cell_type": "code",
      "metadata": {
        "colab": {
          "base_uri": "https://localhost:8080/"
        },
        "id": "hbIaFLFHOqik",
        "outputId": "e135eb46-22eb-4a87-8042-eed2ad79c828"
      },
      "source": [
        "Time = '2016-04-01 09:43:00'\n",
        "splited_list = Time.split(' ')\n",
        "date = splited_list[0]\n",
        "time = splited_list[1]\n",
        "print(date, time)\n",
        "hour = time.split(':')[0]\n",
        "print(hour)"
      ],
      "execution_count": null,
      "outputs": [
        {
          "output_type": "stream",
          "name": "stdout",
          "text": [
            "2016-04-01 09:43:00\n",
            "09\n"
          ]
        }
      ]
    },
    {
      "cell_type": "code",
      "source": [
        "#Store a string in the variable Datos\n",
        "Datos = \"Pepe,Maria,Juan,Camilo;50,20,10,15\"\n",
        "#Separate the string of the variable Datos with the character ';' and return the parts of the separated string in a list\n",
        "Datos = Datos.split(\";\")\n",
        "#Separate the string of the first element of the list Datos with the character ',' and return the parts of the separated string in a list\n",
        "estudiantes = Datos[0].split(\",\")\n",
        "#Separate the string of the second element of the list Datos with the character ',' and return the parts of the separated string in a list\n",
        "notas = Datos[1].split(\",\")\n",
        "\n",
        "print(f\"Las notas de {estudiantes} son {notas}\")"
      ],
      "metadata": {
        "id": "BYAbwIoXc4rU",
        "outputId": "b2ebfe01-ca45-4845-81b7-5f0fc4fadea2",
        "colab": {
          "base_uri": "https://localhost:8080/"
        }
      },
      "execution_count": null,
      "outputs": [
        {
          "output_type": "stream",
          "name": "stdout",
          "text": [
            "Las notas de ['Pepe', 'Maria', 'Juan', 'Camilo'] son ['50', '20', '10', '15']\n"
          ]
        }
      ]
    },
    {
      "cell_type": "markdown",
      "metadata": {
        "id": "9cJQGk96WyVc"
      },
      "source": [
        "We can replace parts of a string by our variable. This is called string formatting."
      ]
    },
    {
      "cell_type": "code",
      "metadata": {
        "colab": {
          "base_uri": "https://localhost:8080/"
        },
        "id": "-E_rIvv6Oqik",
        "outputId": "bec9b731-c4d5-4905-9154-ef979efd6dd0"
      },
      "source": [
        "my_time = 'Hour: {}, Minute:{}'.format('09','43')\n",
        "print(my_time)"
      ],
      "execution_count": null,
      "outputs": [
        {
          "output_type": "stream",
          "name": "stdout",
          "text": [
            "Hour: 09, Minute:43\n"
          ]
        }
      ]
    },
    {
      "cell_type": "code",
      "source": [
        "#.format(var1,...,varn) method replaces {} in a String with the content of var1,...,varn respectively\n",
        "print(\"Las notas de {} son {}\".format(estudiantes,notas)) #Print a formatted string"
      ],
      "metadata": {
        "id": "YqzqXHlEfH8j",
        "outputId": "90015d88-cc2e-4d79-d349-eb03d4c27ce9",
        "colab": {
          "base_uri": "https://localhost:8080/"
        }
      },
      "execution_count": null,
      "outputs": [
        {
          "output_type": "stream",
          "name": "stdout",
          "text": [
            "Las notas de ['Pepe', 'Maria', 'Juan', 'Camilo'] son ['50', '20', '10', '15']\n"
          ]
        }
      ]
    },
    {
      "cell_type": "markdown",
      "metadata": {
        "id": "1_NbVldpWzAs"
      },
      "source": [
        "Another way to format a string is to use the % symbol."
      ]
    },
    {
      "cell_type": "code",
      "metadata": {
        "colab": {
          "base_uri": "https://localhost:8080/"
        },
        "id": "4rZ4rkD2Oqik",
        "outputId": "cd5d93b8-56d7-4406-9c43-d84144bded85"
      },
      "source": [
        "print('the pi number is %f'%3.14)\n",
        "print('%s to %s'%('Welcome','Quantconnect'))"
      ],
      "execution_count": null,
      "outputs": [
        {
          "output_type": "stream",
          "name": "stdout",
          "text": [
            "the pi number is 3.140000\n",
            "Welcome to Quantconnect\n"
          ]
        }
      ]
    },
    {
      "cell_type": "code",
      "source": [
        "#Store a tuple with the elements \"Mario\" and 50 in the variable persona\n",
        "persona = (\"Mario\",50,100.50)\n",
        "#Print a string formatted with the content of the tupple persona\n",
        "#%s is replaced with a string, %i is replaced with a integer and %f is replaced with a float\n",
        "print(\"La edad de %s es %i y su saldo es USD %f\"%persona)"
      ],
      "metadata": {
        "id": "BOiDtGLIgAp0",
        "outputId": "3da82fe0-f475-479b-e950-e0f069baf214",
        "colab": {
          "base_uri": "https://localhost:8080/"
        }
      },
      "execution_count": null,
      "outputs": [
        {
          "output_type": "stream",
          "name": "stdout",
          "text": [
            "La edad de Mario es 50 y su saldo es USD 100.500000\n"
          ]
        }
      ]
    },
    {
      "cell_type": "markdown",
      "metadata": {
        "id": "v_5cocrDW3MN"
      },
      "source": [
        "# Summary\n",
        "\n",
        "Weave seen the basic data types and data structures in Python. It's important to keep practicing to become familiar with these data structures. In the next tutorial, we will cover for and while loops and logical operations in Python."
      ]
    },
    {
      "cell_type": "markdown",
      "metadata": {
        "id": "QL6dNxwCXNEt"
      },
      "source": [
        "<div align=\"center\">\n",
        "<img style=\"display: block; margin: auto;\" alt=\"photo\" src=\"https://cdn.quantconnect.com/web/i/icon.png\">\n",
        "\n",
        "Quantconnect\n",
        "\n",
        "Introduction to Financial Python\n",
        "</div>\n",
        "\n",
        "# 02 Logical Operations and Loops\n",
        "\n",
        "# Introduction\n",
        "We discussed the basic data types and data structures in Python in the last tutorial. This chapter covers logical operations and loops in Python, which are very common in programming.\n",
        "\n",
        "# Logical Operations\n",
        "Like most programming languages, Python has comparison operators:"
      ]
    },
    {
      "cell_type": "code",
      "metadata": {
        "colab": {
          "base_uri": "https://localhost:8080/"
        },
        "id": "70Guys_rOv7a",
        "outputId": "220ac34e-d9dd-4a30-9400-0fd74d9a0158"
      },
      "source": [
        "print(1 == 0)\n",
        "print(1 == 1)\n",
        "print(1 != 0)\n",
        "print(5 >= 5)\n",
        "print(5 >= 6)"
      ],
      "execution_count": null,
      "outputs": [
        {
          "output_type": "stream",
          "name": "stdout",
          "text": [
            "False\n",
            "True\n",
            "True\n",
            "True\n",
            "False\n"
          ]
        }
      ]
    },
    {
      "cell_type": "code",
      "source": [
        "a = \"Pepe\"\n",
        "b = \"Papa\"\n",
        "#Operator == compares two elements, if they are the same returns true, else returns false\n",
        "print(a == b)\n",
        "#Operator != compares two elements, if they are the same returns false, else returns true\n",
        "print(a != b)\n",
        "#Operator > compares two elements, if the element before the operator is greater than the element after the operator returns true, else returns false\n",
        "#In the case of numbers, the operator uses the usual order of the real numbers, in the case of strings uses the lexicographical order\n",
        "print(a > b)\n",
        "#Operator <= compares two elements, if the element before the operator is smaller or equal than the element after the operator returns true, else returns false\n",
        "#In the case of numbers, the operator uses the usual order of the real numbers, in the case of strings uses the lexicographical order\n",
        "print(a <= b)"
      ],
      "metadata": {
        "id": "qWlHZXaKh6b3",
        "outputId": "e0e40407-3486-4abe-c71f-dcf1b7b96515",
        "colab": {
          "base_uri": "https://localhost:8080/"
        }
      },
      "execution_count": null,
      "outputs": [
        {
          "output_type": "stream",
          "name": "stdout",
          "text": [
            "False\n",
            "True\n",
            "True\n",
            "False\n"
          ]
        }
      ]
    },
    {
      "cell_type": "markdown",
      "metadata": {
        "id": "8aFHYDj-YTXt"
      },
      "source": [
        "Each statement above has a boolean value, which must be either True or False, but not both.\n",
        "\n",
        "We can combine simple statements P and Q to form complex statements using logical operators:\n",
        "\n",
        "- The statement \"P and Q\" is true if both P and Q are true, otherwise it is false.\n",
        "- The statement \"P or Q\" is false if both P and Q are false, otherwise it is true.\n",
        "- The statement \"not P\" is true if P is false, and vice versa."
      ]
    },
    {
      "cell_type": "code",
      "metadata": {
        "colab": {
          "base_uri": "https://localhost:8080/"
        },
        "id": "O5YEEcUbOv7d",
        "outputId": "b0b66a4b-5e0b-493a-912d-ea3970a5026c"
      },
      "source": [
        "print(2 > 1 and 3 > 2)\n",
        "print(2 > 1 and 3 < 2) \n",
        "print(2 > 1 or 3 < 2)\n",
        "print(2 < 1 and 3 < 2)"
      ],
      "execution_count": null,
      "outputs": [
        {
          "output_type": "stream",
          "name": "stdout",
          "text": [
            "True\n",
            "False\n",
            "True\n",
            "False\n"
          ]
        }
      ]
    },
    {
      "cell_type": "code",
      "source": [
        "p = 25.5 > 20\n",
        "q = \"Gato\" < \"Abaco\"\n",
        "\n",
        "#Print the result of the logical operator AND beween p and q\n",
        "print(p and q)\n",
        "#Print the result of of the logical operator OR beween p and q\n",
        "print(p or q)\n",
        "#Print the result of the logical operator between NOT p and q\n",
        "print(not p and q)"
      ],
      "metadata": {
        "id": "elg0hRk6k1Qu",
        "outputId": "794fc916-3060-4893-e321-75ffbe5e5891",
        "colab": {
          "base_uri": "https://localhost:8080/"
        }
      },
      "execution_count": null,
      "outputs": [
        {
          "output_type": "stream",
          "name": "stdout",
          "text": [
            "False\n",
            "True\n",
            "False\n"
          ]
        }
      ]
    },
    {
      "cell_type": "markdown",
      "metadata": {
        "id": "Dy7yzoSXYXmL"
      },
      "source": [
        "When dealing with a very complex logical statement that involves in several statements, we can use brackets to separate and combine them."
      ]
    },
    {
      "cell_type": "code",
      "metadata": {
        "colab": {
          "base_uri": "https://localhost:8080/"
        },
        "id": "QZ-W2xJZOv7d",
        "outputId": "25b7e3d0-7d41-4af4-ade3-bb35f2d469b9"
      },
      "source": [
        "print((3 > 2 or 1 < 3) and (1!=3 and 4>3) and not ( 3 < 2 or 1 < 3 and (1!=3 and 4>3)))\n",
        "print(3 > 2 or 1 < 3 and (1!=3 and 4>3) and not ( 3 < 2 or 1 < 3 and (1!=3 and 4>3)))"
      ],
      "execution_count": null,
      "outputs": [
        {
          "output_type": "stream",
          "name": "stdout",
          "text": [
            "False\n",
            "True\n"
          ]
        }
      ]
    },
    {
      "cell_type": "code",
      "source": [
        "p = 25.5 > 20 #Store in the variable p if 25.5 is greater than 20\n",
        "q = \"Gato\" < \"Abaco\" #Store in the variable q if Gato is smaller than Abaco in lexic. order\n",
        "r = \"Escalera\" >= \"Abaco\" #Store in the variable r if Escalera is greater or equal than Abaco in lexic. order\n",
        "\n",
        "print((not(p and q)) or (r or (not p))) #Print the result of -(p∧q)v(rv-p)"
      ],
      "metadata": {
        "colab": {
          "base_uri": "https://localhost:8080/"
        },
        "id": "Z2y9BQahmOnk",
        "outputId": "c9be6b9b-9731-43b1-f45e-e599a85dcfbc"
      },
      "execution_count": null,
      "outputs": [
        {
          "output_type": "stream",
          "name": "stdout",
          "text": [
            "True\n"
          ]
        }
      ]
    },
    {
      "cell_type": "markdown",
      "metadata": {
        "id": "s95xoRYMYaPD"
      },
      "source": [
        "Comparing the above two statements, we can see that it's wise to use brackets when we make a complex logical statement.\n",
        "\n",
        "# If Statement\n",
        "An if statement executes a segment of code only if its condition is true. A standard if statement consists of 3 segments: if, elif and else."
      ]
    },
    {
      "cell_type": "markdown",
      "metadata": {
        "id": "aRzMMitAaBOL"
      },
      "source": [
        "```python\n",
        "if statement1:\n",
        "    # if the statement1 is true, execute the code here.\n",
        "    # code.....\n",
        "    # code.....\n",
        "elif statement2:\n",
        "    # if the statement 1 is false, skip the codes above to this part.\n",
        "    # code......\n",
        "    # code......\n",
        "else:\n",
        "    # if none of the above statements is True, skip to this part\n",
        "    # code......\n",
        "```"
      ]
    },
    {
      "cell_type": "markdown",
      "metadata": {
        "id": "l59R2AS8aH2K"
      },
      "source": [
        "An if statement doesn't necessarily has elif and else part. If it's not specified, the indented block of code will be executed when the condition is true, otherwise the whole if statement will be skipped."
      ]
    },
    {
      "cell_type": "code",
      "metadata": {
        "colab": {
          "base_uri": "https://localhost:8080/"
        },
        "id": "FZ5GoTXfOv7e",
        "outputId": "3e491f24-5e60-4ae8-8708-6af02357a24f"
      },
      "source": [
        "i = 0\n",
        "if i == 0:\n",
        "    print('i==0 is True')"
      ],
      "execution_count": null,
      "outputs": [
        {
          "output_type": "stream",
          "name": "stdout",
          "text": [
            "i==0 is True\n"
          ]
        }
      ]
    },
    {
      "cell_type": "code",
      "source": [
        "#If 2 is less than 3 then print \"2 es menor que 3\"\n",
        "if 2 < 3: \n",
        "  print(\"2 es menor que 3\")"
      ],
      "metadata": {
        "id": "Mha2InN6n3EB",
        "outputId": "1d50c3df-bd38-4141-f053-e7be8c7352dc",
        "colab": {
          "base_uri": "https://localhost:8080/"
        }
      },
      "execution_count": null,
      "outputs": [
        {
          "output_type": "stream",
          "name": "stdout",
          "text": [
            "2 es menor que 3\n"
          ]
        }
      ]
    },
    {
      "cell_type": "markdown",
      "metadata": {
        "id": "nPNW-l5eaJn8"
      },
      "source": [
        "As we mentioned above, we can write some complex statements here:"
      ]
    },
    {
      "cell_type": "code",
      "metadata": {
        "colab": {
          "base_uri": "https://localhost:8080/"
        },
        "id": "gh-U6nMzOv7e",
        "outputId": "278c09cc-10be-4372-f22e-29c1a5ee5f8b"
      },
      "source": [
        "p = 1 > 0\n",
        "q = 2 > 3\n",
        "if p and q:\n",
        "    print('p and q is true')\n",
        "elif p and not q:\n",
        "    print('q is false')\n",
        "elif q and not p:\n",
        "    print('p is false')\n",
        "else:\n",
        "    print('None of p and q is true')"
      ],
      "execution_count": null,
      "outputs": [
        {
          "output_type": "stream",
          "name": "stdout",
          "text": [
            "q is false\n"
          ]
        }
      ]
    },
    {
      "cell_type": "code",
      "source": [
        "p = 25.5 > 20 #Store in the variable p if 25.5 is greater than 20\n",
        "q = \"Gato\" < \"Abaco\" #Store in the variable q if Gato is smaller than Abaco in lexic. order\n",
        "\n",
        "if not p or q: #If the logical stament not p or q is true then executes the line of code idented after the if\n",
        "    print('25.5 no es más grande que 20 o Gato es menor que Abaco')\n",
        "elif p or not q: #If the last logical statement was false, but the logical stament p or not q is true, then executes the line of code idented after the elif\n",
        "    print('25.5 es más grande que 20 o Gato es mayor o igual que Abaco')\n",
        "else: #If none of the logical statements where true, then executes the line of code idented after the else\n",
        "    print('No hay una posible conclusión')"
      ],
      "metadata": {
        "id": "3WqhQDKmoeOZ",
        "outputId": "365c9fbd-f965-47f3-d641-e22e5d622b00",
        "colab": {
          "base_uri": "https://localhost:8080/"
        }
      },
      "execution_count": null,
      "outputs": [
        {
          "output_type": "stream",
          "name": "stdout",
          "text": [
            "25.5 es más grande que 20 o Gato es mayor o igual que Abaco\n"
          ]
        }
      ]
    },
    {
      "cell_type": "markdown",
      "metadata": {
        "id": "tgRDwiAsaMOL"
      },
      "source": [
        "# Loop Structure\n",
        "Loops are an essential part of programming. The \"for\" and \"while\" loops run a block of code repeatedly.\n",
        "\n",
        "## While Loop\n",
        "A \"while\" loop will run repeatedly until a certain condition has been met."
      ]
    },
    {
      "cell_type": "code",
      "metadata": {
        "colab": {
          "base_uri": "https://localhost:8080/"
        },
        "id": "uQLau8d5Ov7f",
        "outputId": "7932a9ce-6666-4823-ce0f-62deb7c1fda1"
      },
      "source": [
        "i = 0\n",
        "while i < 5:\n",
        "    print(i)\n",
        "    i += 1 "
      ],
      "execution_count": null,
      "outputs": [
        {
          "output_type": "stream",
          "name": "stdout",
          "text": [
            "0\n",
            "1\n",
            "2\n",
            "3\n",
            "4\n"
          ]
        }
      ]
    },
    {
      "cell_type": "code",
      "source": [
        "j = 90\n",
        "while j > 0: #While j is greater than 0 executes the code block idented\n",
        "  print(j) #Print the content of the variable j\n",
        "  j -= 2   #Take j=j-2"
      ],
      "metadata": {
        "id": "rSQxHkD-ss3n",
        "outputId": "d78d334a-b9b4-44d4-8a71-030bca12ef6c",
        "colab": {
          "base_uri": "https://localhost:8080/"
        }
      },
      "execution_count": null,
      "outputs": [
        {
          "output_type": "stream",
          "name": "stdout",
          "text": [
            "90\n",
            "88\n",
            "86\n",
            "84\n",
            "82\n",
            "80\n",
            "78\n",
            "76\n",
            "74\n",
            "72\n",
            "70\n",
            "68\n",
            "66\n",
            "64\n",
            "62\n",
            "60\n",
            "58\n",
            "56\n",
            "54\n",
            "52\n",
            "50\n",
            "48\n",
            "46\n",
            "44\n",
            "42\n",
            "40\n",
            "38\n",
            "36\n",
            "34\n",
            "32\n",
            "30\n",
            "28\n",
            "26\n",
            "24\n",
            "22\n",
            "20\n",
            "18\n",
            "16\n",
            "14\n",
            "12\n",
            "10\n",
            "8\n",
            "6\n",
            "4\n",
            "2\n"
          ]
        }
      ]
    },
    {
      "cell_type": "markdown",
      "metadata": {
        "id": "ydLddFAPaTOE"
      },
      "source": [
        "When making a while loop, we need to ensure that something changes from iteration to iteration so that the while loop will terminate, otherwise, it will run forever. Here we used i += 1 (short for i = i + 1) to make i larger after each iteration. This is the most commonly used method to control a while loop.\n",
        "\n",
        "## For Loop\n",
        "A \"for\" loop will iterate over a sequence of value and terminate when the sequence has ended."
      ]
    },
    {
      "cell_type": "code",
      "metadata": {
        "colab": {
          "base_uri": "https://localhost:8080/"
        },
        "id": "kt8Ie8u1Ov7f",
        "outputId": "3e598608-0d6f-4e1c-b3fc-34d06ff14eb8"
      },
      "source": [
        "for i in [1,2,3,4,5]:\n",
        "    print(i)"
      ],
      "execution_count": null,
      "outputs": [
        {
          "output_type": "stream",
          "name": "stdout",
          "text": [
            "1\n",
            "2\n",
            "3\n",
            "4\n",
            "5\n"
          ]
        }
      ]
    },
    {
      "cell_type": "code",
      "source": [
        "word = \"Hola\"\n",
        "for character in word: #Iterate over the sequence of characters of the string word\n",
        "  print(character) #Print the character in each of the interations"
      ],
      "metadata": {
        "id": "SGhK6ep1tiMj",
        "outputId": "2bed744e-50a0-448f-9a70-01b6b7de6f8a",
        "colab": {
          "base_uri": "https://localhost:8080/"
        }
      },
      "execution_count": null,
      "outputs": [
        {
          "output_type": "stream",
          "name": "stdout",
          "text": [
            "H\n",
            "o\n",
            "l\n",
            "a\n"
          ]
        }
      ]
    },
    {
      "cell_type": "markdown",
      "metadata": {
        "id": "yWStqpreaX-T"
      },
      "source": [
        "We can also add if statements in a for loop. Here is a real example from our pairs trading algorithm:"
      ]
    },
    {
      "cell_type": "code",
      "metadata": {
        "colab": {
          "base_uri": "https://localhost:8080/"
        },
        "id": "kElmffvFOv7f",
        "outputId": "6161e9da-cf62-44a5-fa80-ad45276473f7"
      },
      "source": [
        "stocks = ['AAPL','GOOG','IBM','FB','F','V', 'G', 'GE']\n",
        "selected = ['AAPL','IBM']\n",
        "new_list = []\n",
        "for i in stocks:\n",
        "    if i not in selected:\n",
        "        new_list.append(i)\n",
        "print(stocks)"
      ],
      "execution_count": null,
      "outputs": [
        {
          "output_type": "stream",
          "name": "stdout",
          "text": [
            "['AAPL', 'GOOG', 'IBM', 'FB', 'F', 'V', 'G', 'GE']\n"
          ]
        }
      ]
    },
    {
      "cell_type": "code",
      "source": [
        "word = \"Marmolado\"\n",
        "for character in word: #Iterate over the sequence of characters of the string word\n",
        "  if character == \"a\": #Evaluate if the actual character is character 'a'\n",
        "    print(character) #If character meet the condition, then print it"
      ],
      "metadata": {
        "id": "4wM7PhVlt8FG",
        "outputId": "82331b49-35dc-44a4-d048-f919e28d73e5",
        "colab": {
          "base_uri": "https://localhost:8080/"
        }
      },
      "execution_count": null,
      "outputs": [
        {
          "output_type": "stream",
          "name": "stdout",
          "text": [
            "a\n",
            "a\n"
          ]
        }
      ]
    },
    {
      "cell_type": "markdown",
      "metadata": {
        "id": "wb2hry9dahE0"
      },
      "source": [
        "Here we iterated all the elements in the list 'stocks'. Later in this chapter, we will introduce a smarter way to do this, which is just a one-line code.\n",
        "\n",
        "## Break and continue\n",
        "These are two commonly used commands in a for loop. If \"break\" is triggered while a loop is executing, the loop will terminate immediately:"
      ]
    },
    {
      "cell_type": "code",
      "metadata": {
        "colab": {
          "base_uri": "https://localhost:8080/"
        },
        "id": "yF5wMVItOv7g",
        "outputId": "2eb40fb9-fe33-4936-b6dd-84614f6dcba9"
      },
      "source": [
        "stocks = ['AAPL','GOOG','IBM','FB','F','V', 'G', 'GE']\n",
        "for i in stocks:\n",
        "    print(i)\n",
        "    if i == 'FB':\n",
        "        break"
      ],
      "execution_count": null,
      "outputs": [
        {
          "output_type": "stream",
          "name": "stdout",
          "text": [
            "AAPL\n",
            "GOOG\n",
            "IBM\n",
            "FB\n"
          ]
        }
      ]
    },
    {
      "cell_type": "code",
      "source": [
        "word = \"Marmolado\"\n",
        "for character in word: #Iterate over the sequence of characters of the string word\n",
        "  print(character) #Print the character in each of the interations\n",
        "  if character == \"a\": #Evaluate if the actual character is character 'a'\n",
        "    break #If statement is true, then exit from the for loop"
      ],
      "metadata": {
        "id": "YdcKm3rRunq5"
      },
      "execution_count": null,
      "outputs": []
    },
    {
      "cell_type": "markdown",
      "metadata": {
        "id": "R0toxyp3ao0T"
      },
      "source": [
        "The \"continue\" command tells the loop to end this iteration and skip to the next iteration:"
      ]
    },
    {
      "cell_type": "code",
      "metadata": {
        "colab": {
          "base_uri": "https://localhost:8080/"
        },
        "id": "Stg-CH6IOv7g",
        "outputId": "7bff9c13-2d53-4ccc-e070-f4de7234d8cf"
      },
      "source": [
        "stocks = ['AAPL','GOOG','IBM','FB','F','V', 'G', 'GE']\n",
        "for i in stocks:\n",
        "    if i == 'FB':\n",
        "        continue\n",
        "    print(i)"
      ],
      "execution_count": null,
      "outputs": [
        {
          "output_type": "stream",
          "name": "stdout",
          "text": [
            "AAPL\n",
            "GOOG\n",
            "IBM\n",
            "F\n",
            "V\n",
            "G\n",
            "GE\n"
          ]
        }
      ]
    },
    {
      "cell_type": "code",
      "source": [
        "word = \"Marmolado\"\n",
        "for character in word: #Iterate over the sequence of characters of the string word\n",
        "  if character == \"a\": #Evaluate if the actual character is character 'a'\n",
        "    continue #If statement is true, then jump to the next iteration\n",
        "\n",
        "  print(character) #Print the character in each of the interations"
      ],
      "metadata": {
        "id": "UQYeRpaHvCfU",
        "outputId": "a2c60df4-dea0-4610-a2a5-3497859a5717",
        "colab": {
          "base_uri": "https://localhost:8080/"
        }
      },
      "execution_count": null,
      "outputs": [
        {
          "output_type": "stream",
          "name": "stdout",
          "text": [
            "M\n",
            "r\n",
            "m\n",
            "o\n",
            "l\n",
            "d\n",
            "o\n"
          ]
        }
      ]
    },
    {
      "cell_type": "markdown",
      "metadata": {
        "id": "4NusvdhBaxpZ"
      },
      "source": [
        "# List Comprehension\n",
        "List comprehension is a Pythonic way to create lists. Common applications are to make new lists where each element is the result of some operations applied to each member of another sequence. For example, if we want to create a list of squares using for loop:"
      ]
    },
    {
      "cell_type": "code",
      "metadata": {
        "colab": {
          "base_uri": "https://localhost:8080/"
        },
        "id": "bdxxeOABOv7h",
        "outputId": "4c976f98-d139-4d13-afbf-4b2f45a6698e"
      },
      "source": [
        "squares = []\n",
        "for i in [1,2,3,4,5]:\n",
        "    squares.append(i**2)\n",
        "print(squares)"
      ],
      "execution_count": null,
      "outputs": [
        {
          "output_type": "stream",
          "name": "stdout",
          "text": [
            "[1, 4, 9, 16, 25]\n"
          ]
        }
      ]
    },
    {
      "cell_type": "markdown",
      "source": [
        "**Our example**\n",
        "We can make a list of the numerical representation of the letters of the word \"Marmolado\" using a for loop:"
      ],
      "metadata": {
        "id": "HYEVekYtvch8"
      }
    },
    {
      "cell_type": "code",
      "source": [
        "nums = [] #Store a empty list in the variable nums\n",
        "word = \"Marmolado\" \n",
        "for char in word: #Iterate over the sequence of characters of the string word \n",
        "  nums.append(ord(char)) #Append to list nums the numerical ASCII representartion character char\n",
        "print(nums) #Print the content of the variable nums"
      ],
      "metadata": {
        "id": "GNbWJmE4wdla",
        "outputId": "41767d83-6d08-4afe-8dd3-66b828baa993",
        "colab": {
          "base_uri": "https://localhost:8080/"
        }
      },
      "execution_count": null,
      "outputs": [
        {
          "output_type": "stream",
          "name": "stdout",
          "text": [
            "[77, 97, 114, 109, 111, 108, 97, 100, 111]\n"
          ]
        }
      ]
    },
    {
      "cell_type": "markdown",
      "metadata": {
        "id": "--KliJBOa1CC"
      },
      "source": [
        "Using list comprehension:"
      ]
    },
    {
      "cell_type": "code",
      "metadata": {
        "colab": {
          "base_uri": "https://localhost:8080/"
        },
        "id": "440-yjG8Ov7h",
        "outputId": "69947293-8145-425e-da94-197658f07e4b"
      },
      "source": [
        "list = [1,2,3,4,5]\n",
        "squares = [x**2 for x in list]\n",
        "print(squares)"
      ],
      "execution_count": null,
      "outputs": [
        {
          "output_type": "stream",
          "name": "stdout",
          "text": [
            "[1, 4, 9, 16, 25]\n"
          ]
        }
      ]
    },
    {
      "cell_type": "markdown",
      "source": [
        "**Our example using list comprenhension:**"
      ],
      "metadata": {
        "id": "fgXxmUUXxHQV"
      }
    },
    {
      "cell_type": "code",
      "source": [
        "word = \"Marmolado\" \n",
        "#list = [f(element) for element in sequence] In list comprehension we create a list iterating over a sequence and storing in the list the result of f(i) for each i in sequence\n",
        "\n",
        "#Create a list of ASCII numerical representation of the characters of the variable word\n",
        "nums = [ord(character) for character in word]\n",
        "print(nums) #Print the content of the variable nums"
      ],
      "metadata": {
        "id": "7t_NSQJGxVnH",
        "outputId": "4e260f26-2f75-48a4-9ce9-3666f5c606c2",
        "colab": {
          "base_uri": "https://localhost:8080/"
        }
      },
      "execution_count": null,
      "outputs": [
        {
          "output_type": "stream",
          "name": "stdout",
          "text": [
            "[77, 97, 114, 109, 111, 108, 97, 100, 111]\n"
          ]
        }
      ]
    },
    {
      "cell_type": "markdown",
      "metadata": {
        "id": "uMuCfR3ya3zT"
      },
      "source": [
        "Recall the example above where we used a for loop to select stocks. Here we use list comprehension:"
      ]
    },
    {
      "cell_type": "code",
      "metadata": {
        "colab": {
          "base_uri": "https://localhost:8080/"
        },
        "id": "ZGtCtog2Ov7h",
        "outputId": "97ebb092-5c56-4e1b-ab4c-6486642252bb"
      },
      "source": [
        "stocks = ['AAPL','GOOG','IBM','FB','F','V', 'G', 'GE']\n",
        "selected = ['AAPL','IBM']\n",
        "new_list = [x for x in stocks if x in selected]\n",
        "print(new_list)"
      ],
      "execution_count": null,
      "outputs": [
        {
          "output_type": "stream",
          "name": "stdout",
          "text": [
            "['AAPL', 'IBM']\n"
          ]
        }
      ]
    },
    {
      "cell_type": "code",
      "source": [
        "word = \"Marmolado\" \n",
        "selected_letters = [\"a\",\"o\"]\n",
        "#list = [f(element) for element in sequence] In list comprehension we create a list iterating over a sequence and storing in the list the result of f(i) for each i in sequence\n",
        "#Create a list of ASCII numerical representation of the characters of the variable word\n",
        "nums = [ord(character) for character in word if character in selected_letters]\n",
        "print(nums) #Print the content of the variable nums"
      ],
      "metadata": {
        "id": "wqo52zgDySUo",
        "colab": {
          "base_uri": "https://localhost:8080/"
        },
        "outputId": "00d83c9a-f0c0-48ce-e125-e99da478e085"
      },
      "execution_count": null,
      "outputs": [
        {
          "output_type": "stream",
          "name": "stdout",
          "text": [
            "[97, 111, 97, 111]\n"
          ]
        }
      ]
    },
    {
      "cell_type": "markdown",
      "metadata": {
        "id": "EPeUv6Lia5oD"
      },
      "source": [
        "A list comprehension consists of square brackets containing an expression followed by a \"for\" clause, and possibly \"for\" or \"if\" clauses. For example:"
      ]
    },
    {
      "cell_type": "code",
      "metadata": {
        "colab": {
          "base_uri": "https://localhost:8080/"
        },
        "id": "O1AMB5d7Ov7i",
        "outputId": "12e66273-0ecc-4d8b-9488-757a3df78382"
      },
      "source": [
        "print([(x, y) for x in [1,2,3] for y in [3,1,4] if x != y])\n",
        "print([str(x)+' vs '+str(y) for x in ['AAPL','GOOG','IBM','FB'] for y in ['F','V','G','GE'] if x!=y])"
      ],
      "execution_count": null,
      "outputs": [
        {
          "output_type": "stream",
          "name": "stdout",
          "text": [
            "[(1, 3), (1, 4), (2, 3), (2, 1), (2, 4), (3, 1), (3, 4)]\n",
            "['AAPL vs F', 'AAPL vs V', 'AAPL vs G', 'AAPL vs GE', 'GOOG vs F', 'GOOG vs V', 'GOOG vs G', 'GOOG vs GE', 'IBM vs F', 'IBM vs V', 'IBM vs G', 'IBM vs GE', 'FB vs F', 'FB vs V', 'FB vs G', 'FB vs GE']\n"
          ]
        }
      ]
    },
    {
      "cell_type": "code",
      "source": [
        "#Generate a list of tupples with the elements of [500,1056,3000]x[50,600,5000] that satisfy x/y<2\n",
        "print([(deuda,capacidad_pago) for deuda in [500,1056,3000] for capacidad_pago in [50,600,5000] if deuda/capacidad_pago<2])\n",
        "#Generate a list of formatted strings with two lists\n",
        "print([f'{estudiante} debe asistir el {dia} de marzo'for estudiante in [\"Pedro\",\"María\",\"Juan\"] for dia in [1,2,3] if ord(estudiante[1])%3==dia])"
      ],
      "metadata": {
        "colab": {
          "base_uri": "https://localhost:8080/"
        },
        "id": "bMXyzS8mq_oy",
        "outputId": "dedc204c-d0f9-4d0a-979e-80b040b8539e"
      },
      "execution_count": null,
      "outputs": [
        {
          "output_type": "stream",
          "name": "stdout",
          "text": [
            "[(500, 600), (500, 5000), (1056, 600), (1056, 5000), (3000, 5000)]\n",
            "['Pedro debe asistir el 2 de marzo', 'María debe asistir el 1 de marzo']\n"
          ]
        }
      ]
    },
    {
      "cell_type": "markdown",
      "metadata": {
        "id": "jJpvq-o4a8P7"
      },
      "source": [
        "List comprehension is an elegant way to organize one or more for loops when creating a list.\n",
        "\n",
        "# Summary\n",
        "This chapter has introduced logical operations, loops, and list comprehension. In the next chapter, we will introduce functions and object-oriented programming, which will enable us to make our codes clean and versatile."
      ]
    },
    {
      "cell_type": "markdown",
      "metadata": {
        "id": "Tef_X2wJbdhn"
      },
      "source": [
        "<div align=\"center\">\n",
        "<img style=\"display: block; margin: auto;\" alt=\"photo\" src=\"https://cdn.quantconnect.com/web/i/icon.png\">\n",
        "\n",
        "Quantconnect\n",
        "\n",
        "Introduction to Financial Python\n",
        "</div>\n",
        "\n",
        "# 03 Functions and Objective-Oriented Programming\n",
        "\n",
        "# Introduction\n",
        "\n",
        "In the last tutorial we introduced logical operations, loops and list comprehension. We will introduce functions and object-oriented programming in this chapter, which will enable us to build complex algorithms in more flexible ways.\n",
        "\n",
        "# Functions\n",
        "A function is a reusable block of code. We can use a function to output a value, or do anything else we want. We can easily define our own function by using the keyword \"def\"."
      ]
    },
    {
      "cell_type": "code",
      "metadata": {
        "colab": {
          "base_uri": "https://localhost:8080/"
        },
        "id": "eE_NkTiSO2PO",
        "outputId": "d2492acb-e355-4f23-88eb-9a8a410aec5e"
      },
      "source": [
        "def product(x,y):\n",
        "    return x*y\n",
        "print(product(2,3))\n",
        "print(product(5,10))"
      ],
      "execution_count": null,
      "outputs": [
        {
          "output_type": "stream",
          "name": "stdout",
          "text": [
            "6\n",
            "50\n"
          ]
        }
      ]
    },
    {
      "cell_type": "code",
      "source": [
        "#Define a function that accepts two arguments x and y, and returns x+y\n",
        "def sum(x,y):\n",
        "  return x+y\n",
        "\n",
        "print(sum(4,5)) #Print 4+5\n",
        "print(sum(8,2)) #Print 8+2"
      ],
      "metadata": {
        "colab": {
          "base_uri": "https://localhost:8080/"
        },
        "id": "-7ipyaJct-0y",
        "outputId": "507e1901-b1b9-47b5-a5d5-13a43aaf2a91"
      },
      "execution_count": null,
      "outputs": [
        {
          "output_type": "stream",
          "name": "stdout",
          "text": [
            "9\n",
            "10\n"
          ]
        }
      ]
    },
    {
      "cell_type": "markdown",
      "metadata": {
        "id": "4oRU_dVJbsdD"
      },
      "source": [
        "The keyword \"def\" is followed by the function name and the parenthesized list of formal parameters. The statements that form the body of the function start at the next line, and must be indented. The product() function above has \"x\" and \"y\" as its parameters. A function doesn't necessarily have parameters:"
      ]
    },
    {
      "cell_type": "code",
      "metadata": {
        "colab": {
          "base_uri": "https://localhost:8080/"
        },
        "id": "JhdWVLbUO2PQ",
        "outputId": "0c544747-1d2c-444f-cc68-81d53a29aa66"
      },
      "source": [
        "def say_hi():\n",
        "    print('Welcome to QuantConnect')\n",
        "say_hi()"
      ],
      "execution_count": null,
      "outputs": [
        {
          "output_type": "stream",
          "name": "stdout",
          "text": [
            "Welcome to QuantConnect\n"
          ]
        }
      ]
    },
    {
      "cell_type": "code",
      "source": [
        "#Define a function without parameters called say_pi, that print \"The value of pi is aprox 3.14\"\n",
        "def say_pi():\n",
        "  print(\"The value of pi is aprox 3.141516\")\n",
        "\n",
        "say_pi() #Call function say_pi\n"
      ],
      "metadata": {
        "colab": {
          "base_uri": "https://localhost:8080/"
        },
        "id": "5QU8rJhRubVu",
        "outputId": "20802edc-1eca-4119-9508-64e57fd18b2a"
      },
      "execution_count": null,
      "outputs": [
        {
          "output_type": "stream",
          "name": "stdout",
          "text": [
            "The value of pi is aprox 3.141516\n"
          ]
        }
      ]
    },
    {
      "cell_type": "markdown",
      "metadata": {
        "id": "lHwqVpWVb1Jr"
      },
      "source": [
        "# Built-in Function\n",
        "**range()** is a function that creates a list containing an arithmetic sequence. It's often used in for loops. The arguments must be integers. If the \"step\" argument is omitted, it defaults to 1."
      ]
    },
    {
      "cell_type": "code",
      "metadata": {
        "colab": {
          "base_uri": "https://localhost:8080/"
        },
        "id": "VVOTELcIO2PQ",
        "outputId": "aa49027e-a8d9-4e49-af6b-e9524ba564b5"
      },
      "source": [
        "print(range(10))\n",
        "print(range(1,11))\n",
        "print(range(1,11,2))"
      ],
      "execution_count": null,
      "outputs": [
        {
          "output_type": "stream",
          "name": "stdout",
          "text": [
            "range(0, 10)\n",
            "range(1, 11)\n",
            "range(1, 11, 2)\n"
          ]
        }
      ]
    },
    {
      "cell_type": "code",
      "source": [
        "#range(a,b,c)=[a+b,a+2b,...+a+nb] until a+nb<c,range(a)=range(0,a,1) and range (a,b)=range(a,b,1)\n",
        "\n",
        "print(f'{range(4)} is {list(range(4))}') #Print a range/arithmetic sequence from 0 to 4, excluiding 4\n",
        "print(f'{range(2,5)} is {list(range(2,5))}') #Print a range/arithmetic sequence from 2 to 5, excluiding 5\n",
        "print(f'{range(0,10,3)} is {list(range(0,10,3))}') #Print a range/arithmetic sequence from 0 to 10 with step=3, excluiding 10 if included"
      ],
      "metadata": {
        "colab": {
          "base_uri": "https://localhost:8080/"
        },
        "id": "VKIHkBJ2vDIC",
        "outputId": "88f2376c-371b-4ed7-de1a-7969a35f2f27"
      },
      "execution_count": null,
      "outputs": [
        {
          "output_type": "stream",
          "name": "stdout",
          "text": [
            "range(0, 4) is [0, 1, 2, 3]\n",
            "range(2, 5) is [2, 3, 4]\n",
            "range(0, 10, 3) is [0, 3, 6, 9]\n"
          ]
        }
      ]
    },
    {
      "cell_type": "markdown",
      "metadata": {
        "id": "PD0cSgiwcQ4L"
      },
      "source": [
        "**len()** is another function used together with range() to create a for loop. This function returns the length of an object. The argument must be a sequence or a collection."
      ]
    },
    {
      "cell_type": "code",
      "metadata": {
        "colab": {
          "base_uri": "https://localhost:8080/"
        },
        "id": "Hg18c7v-O2PR",
        "outputId": "c96a69f4-c7d1-41bb-e266-c8cacb3913b3"
      },
      "source": [
        "tickers = ['AAPL','GOOG','IBM','FB','F','V', 'G', 'GE']\n",
        "print('The length of tickers is {}'.format(len(tickers)))\n",
        "for i in range(len(tickers)):\n",
        "    print(tickers[i])"
      ],
      "execution_count": null,
      "outputs": [
        {
          "output_type": "stream",
          "name": "stdout",
          "text": [
            "The length of tickers is 8\n",
            "AAPL\n",
            "GOOG\n",
            "IBM\n",
            "FB\n",
            "F\n",
            "V\n",
            "G\n",
            "GE\n"
          ]
        }
      ]
    },
    {
      "cell_type": "code",
      "source": [
        "word = \"Marmolado\"\n",
        "print(f\"The word {word} is composed of {len(word)} letters\") #Print the number of letters of the string word\n",
        "#Iterate with i over a range from 0 to the lenght of the word and print the i-th character of the word in each iteration\n",
        "for i in range(len(word)):\n",
        "  print(word[i])"
      ],
      "metadata": {
        "colab": {
          "base_uri": "https://localhost:8080/"
        },
        "id": "1X0HFNiHwYFk",
        "outputId": "b1cfad1a-685c-4fa2-c76a-3cdf5a8db41a"
      },
      "execution_count": null,
      "outputs": [
        {
          "output_type": "stream",
          "name": "stdout",
          "text": [
            "The word Marmolado is composed of 9 letters\n",
            "M\n",
            "a\n",
            "r\n",
            "m\n",
            "o\n",
            "l\n",
            "a\n",
            "d\n",
            "o\n"
          ]
        }
      ]
    },
    {
      "cell_type": "markdown",
      "metadata": {
        "id": "OIQSuub1cWgi"
      },
      "source": [
        "Note: If you want to print only the tickers without those numbers, then simply write \"for ticker in tickers: print ticker\"\n",
        "\n",
        "**map(**) is a function that applies a specific function to every item of a sequence or collection, and returns a list of the results."
      ]
    },
    {
      "cell_type": "markdown",
      "metadata": {
        "id": "pqPuspeG5HAi"
      },
      "source": [
        "Because list at the moment is [1,2,3,4,5] and overwriting list() from builtins we del list"
      ]
    },
    {
      "cell_type": "code",
      "metadata": {
        "colab": {
          "base_uri": "https://localhost:8080/"
        },
        "id": "caV9c-qk4_eZ",
        "outputId": "2d9cb757-2fd5-44e0-f801-e0f6c001e6ee"
      },
      "source": [
        "print(list)\n",
        "del list\n",
        "list"
      ],
      "execution_count": null,
      "outputs": [
        {
          "output_type": "stream",
          "name": "stdout",
          "text": [
            "[1, 2, 3, 4, 5]\n"
          ]
        },
        {
          "output_type": "execute_result",
          "data": {
            "text/plain": [
              "list"
            ]
          },
          "metadata": {},
          "execution_count": 46
        }
      ]
    },
    {
      "cell_type": "code",
      "source": [
        "tuple = (1,2) #Define a tuple of elements 1 and 2\n",
        "print(tuple) #Print the elements of the tuple\n",
        "del tuple #Delete the content of the variable tuple\n",
        "tuple #Return the conten of the vatiable tuple"
      ],
      "metadata": {
        "colab": {
          "base_uri": "https://localhost:8080/"
        },
        "id": "s2OHdxWvxZNB",
        "outputId": "ab0b0522-c898-44b3-b6c2-13aa8195e4bb"
      },
      "execution_count": null,
      "outputs": [
        {
          "output_type": "stream",
          "name": "stdout",
          "text": [
            "(1, 2)\n"
          ]
        },
        {
          "output_type": "execute_result",
          "data": {
            "text/plain": [
              "tuple"
            ]
          },
          "metadata": {},
          "execution_count": 26
        }
      ]
    },
    {
      "cell_type": "code",
      "metadata": {
        "colab": {
          "base_uri": "https://localhost:8080/"
        },
        "id": "lJBs5ECT4mSq",
        "outputId": "d6fde10d-09a7-434e-b516-8431b48918fe"
      },
      "source": [
        "tickers = ['AAPL','GOOG','IBM','FB','F','V', 'G', 'GE']\n",
        "list(map(len,tickers))"
      ],
      "execution_count": null,
      "outputs": [
        {
          "output_type": "execute_result",
          "data": {
            "text/plain": [
              "[4, 4, 3, 2, 1, 1, 1, 2]"
            ]
          },
          "metadata": {},
          "execution_count": 47
        }
      ]
    },
    {
      "cell_type": "code",
      "metadata": {
        "colab": {
          "base_uri": "https://localhost:8080/"
        },
        "id": "78DyKVOyO2PR",
        "outputId": "1b0378eb-f364-422c-e1ac-b0ababb61268"
      },
      "source": [
        "word = \"Marmolado\"\n",
        "#Return the ASCII code of each character of string word\n",
        "#ord(f,s) applies function f to all elements of sequence s\n",
        "list(map(ord,word))\n"
      ],
      "execution_count": null,
      "outputs": [
        {
          "output_type": "execute_result",
          "data": {
            "text/plain": [
              "[77, 97, 114, 109, 111, 108, 97, 100, 111]"
            ]
          },
          "metadata": {},
          "execution_count": 28
        }
      ]
    },
    {
      "cell_type": "markdown",
      "metadata": {
        "id": "mvr06UM7ca7b"
      },
      "source": [
        "The **lambda operator** is a way to create small anonymous functions. These functions are just needed where they have been created. For example:"
      ]
    },
    {
      "cell_type": "code",
      "metadata": {
        "colab": {
          "base_uri": "https://localhost:8080/"
        },
        "id": "pAEHADYXO2PR",
        "outputId": "945610e9-76a7-4671-f760-4013ac4aa143"
      },
      "source": [
        "list(map(lambda x: x**2, range(10)))"
      ],
      "execution_count": null,
      "outputs": [
        {
          "output_type": "execute_result",
          "data": {
            "text/plain": [
              "[0, 1, 4, 9, 16, 25, 36, 49, 64, 81]"
            ]
          },
          "metadata": {},
          "execution_count": 49
        }
      ]
    },
    {
      "cell_type": "code",
      "source": [
        "#Create a List with the strings \"María\",\"Pepe\" and \"Juan\"\n",
        "my_list = [\"María\",\"Pepe\",\"Juan\"]\n",
        "#Creates an anonymous function with argument x called f that returns the concatenation of \"Hola \" and string x\n",
        "f = lambda x:\"Hola \"+x\n",
        "#Print the list result of applicate function f to all the elements of my_list\n",
        "list(map(f,my_list))"
      ],
      "metadata": {
        "colab": {
          "base_uri": "https://localhost:8080/"
        },
        "id": "Z9LRpEAXzr3C",
        "outputId": "67a485d4-a0e6-4732-8c01-7aba8150d3a0"
      },
      "execution_count": null,
      "outputs": [
        {
          "output_type": "execute_result",
          "data": {
            "text/plain": [
              "['Hola María', 'Hola Pepe', 'Hola Juan']"
            ]
          },
          "metadata": {},
          "execution_count": 32
        }
      ]
    },
    {
      "cell_type": "markdown",
      "metadata": {
        "id": "Mgixpxomcj3T"
      },
      "source": [
        "map() can be applied to more than one list. The lists have to have the same length."
      ]
    },
    {
      "cell_type": "code",
      "metadata": {
        "colab": {
          "base_uri": "https://localhost:8080/"
        },
        "id": "HtckhAaJO2PS",
        "outputId": "8b24472e-2eef-4a71-c36c-b872f8e128db"
      },
      "source": [
        "list(map(lambda x, y: x+y, [1,2,3,4,5],[5,4,3,2,1]))"
      ],
      "execution_count": null,
      "outputs": [
        {
          "output_type": "execute_result",
          "data": {
            "text/plain": [
              "[6, 6, 6, 6, 6]"
            ]
          },
          "metadata": {},
          "execution_count": 50
        }
      ]
    },
    {
      "cell_type": "code",
      "source": [
        "list_a = [\"Buenos días \",\"Buenas noches \",\"Buenas tardes \"]\n",
        "list_b = [\"María\",\"Pepe\",\"Juan\"]\n",
        "#Create a list of the elements result of concatenate the elements of list_a and list_b, pair to pair\n",
        "list(map(lambda x, y: x+y, list_a,list_b))"
      ],
      "metadata": {
        "colab": {
          "base_uri": "https://localhost:8080/"
        },
        "id": "2HTvGW_A0qhU",
        "outputId": "a6d35eab-a1b7-43fb-ac7e-e0954564d146"
      },
      "execution_count": null,
      "outputs": [
        {
          "output_type": "execute_result",
          "data": {
            "text/plain": [
              "['Buenos días María', 'Buenas noches Pepe', 'Buenas tardes Juan']"
            ]
          },
          "metadata": {},
          "execution_count": 35
        }
      ]
    },
    {
      "cell_type": "markdown",
      "metadata": {
        "id": "ZDnMTH-KcklT"
      },
      "source": [
        "**sorted()** takes a list or set and returns a new sorted list"
      ]
    },
    {
      "cell_type": "code",
      "metadata": {
        "colab": {
          "base_uri": "https://localhost:8080/"
        },
        "id": "P0sHUMFWO2PS",
        "outputId": "ff293907-8b01-47e8-b872-f362d3a63832"
      },
      "source": [
        "sorted([5,2,3,4,1])"
      ],
      "execution_count": null,
      "outputs": [
        {
          "output_type": "execute_result",
          "data": {
            "text/plain": [
              "[1, 2, 3, 4, 5]"
            ]
          },
          "metadata": {},
          "execution_count": 51
        }
      ]
    },
    {
      "cell_type": "code",
      "source": [
        "list_ex = [\"María\",\"Pepe\",\"Juan\"]\n",
        "print(sorted(list_ex)) #Return list_ex sorted by lexicographical order"
      ],
      "metadata": {
        "colab": {
          "base_uri": "https://localhost:8080/"
        },
        "id": "HlQmAlGO1XwD",
        "outputId": "1b9f3aee-6048-490b-a274-ce89b3868901"
      },
      "execution_count": null,
      "outputs": [
        {
          "output_type": "stream",
          "name": "stdout",
          "text": [
            "['Juan', 'María', 'Pepe']\n"
          ]
        }
      ]
    },
    {
      "cell_type": "markdown",
      "metadata": {
        "id": "-N5_EDOFcnsc"
      },
      "source": [
        "We can add a \"key\" parameter to specify a function to be called on each list element prior to making comparisons. For example:"
      ]
    },
    {
      "cell_type": "code",
      "metadata": {
        "colab": {
          "base_uri": "https://localhost:8080/"
        },
        "id": "0i3peZ0bO2PS",
        "outputId": "abb2ae1e-0b2d-4623-8d4f-c66d62985249"
      },
      "source": [
        "price_list = [('AAPL',144.09),('GOOG',911.71),('MSFT',69),('FB',150),('WMT',75.32)]\n",
        "sorted(price_list, key = lambda x: x[1])"
      ],
      "execution_count": null,
      "outputs": [
        {
          "output_type": "execute_result",
          "data": {
            "text/plain": [
              "[('MSFT', 69), ('WMT', 75.32), ('AAPL', 144.09), ('FB', 150), ('GOOG', 911.71)]"
            ]
          },
          "metadata": {},
          "execution_count": 52
        }
      ]
    },
    {
      "cell_type": "code",
      "source": [
        "#Crete a list with 3 tuples as elements\n",
        "lista_estudiantes = [(50,\"Maria\"),(30,\"Pepe\"),(45,\"Juan\")]\n",
        "#Create an anonymous function called return_id that returns the first element of a sequence\n",
        "return_id = lambda x: x[0]\n",
        "#Sort lista_estudiantes by ascending order of the result of applicate function return_id to the element of the list\n",
        "sorted(lista_estudiantes,key=return_id)"
      ],
      "metadata": {
        "colab": {
          "base_uri": "https://localhost:8080/"
        },
        "id": "uTCR1RMq12Kc",
        "outputId": "dde5b16d-1826-42ae-ef26-5ea37cbc91d2"
      },
      "execution_count": null,
      "outputs": [
        {
          "output_type": "execute_result",
          "data": {
            "text/plain": [
              "[(30, 'Pepe'), (45, 'Juan'), (50, 'Maria')]"
            ]
          },
          "metadata": {},
          "execution_count": 37
        }
      ]
    },
    {
      "cell_type": "markdown",
      "metadata": {
        "id": "yun2zptKcxe_"
      },
      "source": [
        "By default the values are sorted by ascending order. We can change it to descending by adding an optional parameter \"reverse'."
      ]
    },
    {
      "cell_type": "code",
      "metadata": {
        "colab": {
          "base_uri": "https://localhost:8080/"
        },
        "id": "dEZqdl94O2PT",
        "outputId": "7a707211-8b7e-49ea-cf7e-8d7c87e53778"
      },
      "source": [
        "price_list = [('AAPL',144.09),('GOOG',911.71),('MSFT',69),('FB',150),('WMT',75.32)]\n",
        "sorted(price_list, key = lambda x: x[1],reverse = True)"
      ],
      "execution_count": null,
      "outputs": [
        {
          "output_type": "execute_result",
          "data": {
            "text/plain": [
              "[('GOOG', 911.71), ('FB', 150), ('AAPL', 144.09), ('WMT', 75.32), ('MSFT', 69)]"
            ]
          },
          "metadata": {},
          "execution_count": 53
        }
      ]
    },
    {
      "cell_type": "code",
      "source": [
        "#Crete a list with 3 tuples as elements\n",
        "lista_estudiantes = [(50,\"Maria\"),(30,\"Pepe\"),(45,\"Juan\")]\n",
        "#Create an anonymous function called return_id that returns the first element of a sequence\n",
        "return_id = lambda x: x[0]\n",
        "#Sort lista_estudiantes by decreasing order of the result of applicate function return_id to the element of the list\n",
        "sorted(lista_estudiantes,key=return_id,reverse=True)"
      ],
      "metadata": {
        "colab": {
          "base_uri": "https://localhost:8080/"
        },
        "id": "Yrg0YP9a3B47",
        "outputId": "61a4f90f-64bf-4b8c-bc33-7ca6f69f3b4a"
      },
      "execution_count": null,
      "outputs": [
        {
          "output_type": "execute_result",
          "data": {
            "text/plain": [
              "[(50, 'Maria'), (45, 'Juan'), (30, 'Pepe')]"
            ]
          },
          "metadata": {},
          "execution_count": 40
        }
      ]
    },
    {
      "cell_type": "markdown",
      "metadata": {
        "id": "OA2wYAa0c6Dn"
      },
      "source": [
        "Lists also have a function list.sort(). This function takes the same \"key\" and \"reverse\" arguments as sorted(), but it doesn't return a new list."
      ]
    },
    {
      "cell_type": "code",
      "metadata": {
        "colab": {
          "base_uri": "https://localhost:8080/"
        },
        "id": "pG9VQCLnO2PT",
        "outputId": "bf1b0694-5364-4e2f-f032-21ed620aab77"
      },
      "source": [
        "price_list = [('AAPL',144.09),('GOOG',911.71),('MSFT',69),('FB',150),('WMT',75.32)]\n",
        "price_list.sort(key = lambda x: x[1])\n",
        "print(price_list)"
      ],
      "execution_count": null,
      "outputs": [
        {
          "output_type": "stream",
          "name": "stdout",
          "text": [
            "[('MSFT', 69), ('WMT', 75.32), ('AAPL', 144.09), ('FB', 150), ('GOOG', 911.71)]\n"
          ]
        }
      ]
    },
    {
      "cell_type": "code",
      "source": [
        "#Crete a list with 3 tuples as elements\n",
        "lista_estudiantes = [(50,\"Maria\"),(30,\"Pepe\"),(45,\"Juan\")]\n",
        "#Create an anonymous function called return_id that returns the first element of a sequence\n",
        "return_id = lambda x: x[0]\n",
        "#Sort lista_estudiantes by decreasing order of the result of applicate function return_id to the element of the list\n",
        "lista_estudiantes.sort(key=return_id,reverse=True)\n",
        "#Print the content of lista_estudiantes\n",
        "print(lista_estudiantes)"
      ],
      "metadata": {
        "colab": {
          "base_uri": "https://localhost:8080/"
        },
        "id": "Op7v7mpe3d2f",
        "outputId": "759809b8-8c61-4825-e194-91fd5abffe89"
      },
      "execution_count": null,
      "outputs": [
        {
          "output_type": "stream",
          "name": "stdout",
          "text": [
            "[(50, 'Maria'), (45, 'Juan'), (30, 'Pepe')]\n"
          ]
        }
      ]
    },
    {
      "cell_type": "markdown",
      "metadata": {
        "id": "mxljL1W1c_c5"
      },
      "source": [
        "# Object-Oriented Programming\n",
        "Python is an object-oriented programming language. It's important to understand the concept of \"objects\" because almost every kind of data from QuantConnect API is an object.\n",
        "\n",
        "## Class\n",
        "A class is a type of data, just like a string, float, or list. When we create an object of that data type, we call it an instance of a class.\n",
        "\n",
        "In Python, everything is an object - everything is an instance of some class. The data stored inside an object are called attributes, and the functions which are associated with the object are called methods.\n",
        "\n",
        "For example, as mentioned above, a list is an object of the \"list\" class, and it has a method list.sort().\n",
        "\n",
        "We can create our own objects by defining a class. We would do this when it's helpful to group certain functions together. For example, we define a class named \"Stock\" here:"
      ]
    },
    {
      "cell_type": "code",
      "metadata": {
        "id": "zC4Y4PgDO2PT"
      },
      "source": [
        "class stock:\n",
        "    def __init__(self, ticker, open, close, volume):\n",
        "        self.ticker = ticker\n",
        "        self.open = open\n",
        "        self.close = close\n",
        "        self.volume = volume\n",
        "        self.rate_return = float(close)/open - 1\n",
        " \n",
        "    def update(self, open, close):\n",
        "        self.open = open\n",
        "        self.close = close\n",
        "        self.rate_return = float(self.close)/self.open - 1\n",
        " \n",
        "    def print_return(self):\n",
        "        print(self.rate_return)"
      ],
      "execution_count": null,
      "outputs": []
    },
    {
      "cell_type": "code",
      "source": [
        "class Perro:\n",
        "  #Define a builder function of class Perro with the arguments nombre and vacunas\n",
        "  def __init__(self,nombre,vacunas):\n",
        "    self.nombre = nombre #Assign to the attribute nombre of class Perro the variable nombre\n",
        "    self.vacunas = vacunas #Assign to the attribute nombre of class Perro the variable vacunas\n",
        "\n",
        "  #Define a method of class Perro called actualizar_vacunacion that receives a string nueva_vacuna as argument\n",
        "  def actualizar_vacunacion(self,nueva_vacuna):\n",
        "    self.vacunas.append(nueva_vacuna)\n",
        "\n",
        "  #Define a method of class Perro called imprimir_vacunas that prints the content of the attribute vacunas\n",
        "  def imprimir_vacunas(self):\n",
        "    print(f'Sus vacunas son {self.vacunas}') "
      ],
      "metadata": {
        "id": "z3hoL1ow4YQD"
      },
      "execution_count": null,
      "outputs": []
    },
    {
      "cell_type": "markdown",
      "metadata": {
        "id": "rV06INT5dETi"
      },
      "source": [
        "The \"Stock\" class has attributes \"ticker\", \"open\", \"close\", \"volume\" and \"rate_return\". Inside the class body, the first method is called __init__, which is a special method. When we create a new instance of the class, the __init__ method is immediately executed with all the parameters that we pass to the \"Stock\" object. The purpose of this method is to set up a new \"Stock\" object using data we have provided.\n",
        "\n",
        "Here we create two Stock objects named \"apple\" and \"google\"."
      ]
    },
    {
      "cell_type": "code",
      "metadata": {
        "id": "8tIpNk93O2PU"
      },
      "source": [
        "apple = stock('AAPL', 143.69, 144.09, 20109375)\n",
        "google = stock('GOOG', 898.7, 911.7, 1561616)"
      ],
      "execution_count": null,
      "outputs": []
    },
    {
      "cell_type": "code",
      "source": [
        "pepe = Perro(\"Pepe\",[\"Rabia\",\"Moquillo\"]) #Create a instance of the class Perro\n",
        "jaime = Perro(\"Jaime\",[]) #Create a instance of the class Perro"
      ],
      "metadata": {
        "id": "KGklXc3w6Noa"
      },
      "execution_count": null,
      "outputs": []
    },
    {
      "cell_type": "markdown",
      "metadata": {
        "id": "VxmELNiHdPKS"
      },
      "source": [
        "Stock objects also have two other methods: update() and print_return(). We can access the attribues of a Stock object and call its methods:"
      ]
    },
    {
      "cell_type": "code",
      "metadata": {
        "colab": {
          "base_uri": "https://localhost:8080/"
        },
        "id": "SsiIkmekO2PU",
        "outputId": "c525fccb-c3b3-4a9f-8fe8-38c620cca9a1"
      },
      "source": [
        "apple.ticker\n",
        "google.print_return()\n",
        "google.update(912.8,913.4)\n",
        "google.print_return()"
      ],
      "execution_count": null,
      "outputs": [
        {
          "output_type": "stream",
          "name": "stdout",
          "text": [
            "0.014465338822744034\n",
            "0.0006573181419806673\n"
          ]
        }
      ]
    },
    {
      "cell_type": "code",
      "source": [
        "jaime.imprimir_vacunas() #Call method imprimir_vacunas from object jaime of class Perro, that prints the content of jaime.vacunas\n",
        "jaime.actualizar_vacunacion(\"Parvovirosis\") #Call method actualizar_vacunas from object jaime of class Perro, add 'Parvovirosis' to the list jaime.vacunas\n",
        "jaime.imprimir_vacunas() #Call method imprimir_vacunas from object jaime of class Perro, that prints the content of jaime.vacunas"
      ],
      "metadata": {
        "colab": {
          "base_uri": "https://localhost:8080/"
        },
        "id": "svxjFnxL6sgy",
        "outputId": "17762cb4-ef12-4994-fa3a-a3d685896b5f"
      },
      "execution_count": null,
      "outputs": [
        {
          "output_type": "stream",
          "name": "stdout",
          "text": [
            "Sus vacunas son []\n",
            "Sus vacunas son ['Parvovirosis']\n"
          ]
        }
      ]
    },
    {
      "cell_type": "markdown",
      "metadata": {
        "id": "Q8fl7keNdVKF"
      },
      "source": [
        "By calling the update() function, we updated the open and close prices of a stock. Please note that when we use the attributes or call the methods **inside a class**, we need to specify them as self.attribute or self.method(), otherwise Python will deem them as global variables and thus raise an error.\n",
        "\n",
        "We can add an attribute to an object anywhere:"
      ]
    },
    {
      "cell_type": "code",
      "metadata": {
        "colab": {
          "base_uri": "https://localhost:8080/",
          "height": 35
        },
        "id": "rO4OLnqOO2PU",
        "outputId": "37a33902-755c-4c5f-be78-c8c136ece3aa"
      },
      "source": [
        "apple.ceo = 'Tim Cook'\n",
        "apple.ceo"
      ],
      "execution_count": null,
      "outputs": [
        {
          "output_type": "execute_result",
          "data": {
            "application/vnd.google.colaboratory.intrinsic+json": {
              "type": "string"
            },
            "text/plain": [
              "'Tim Cook'"
            ]
          },
          "metadata": {},
          "execution_count": 58
        }
      ]
    },
    {
      "cell_type": "code",
      "source": [
        "jaime.direccion = \"CL 57 # 67-19\" #Set attribute direccion of object Jaime as string \"CL 57 # 67-19\"\n",
        "print(jaime.direccion) #Print the content of the attribute direccion of object jaime"
      ],
      "metadata": {
        "colab": {
          "base_uri": "https://localhost:8080/"
        },
        "id": "V4ro8t9f7wEo",
        "outputId": "a3e7df89-4080-41a4-95e4-ef48ccf80445"
      },
      "execution_count": null,
      "outputs": [
        {
          "output_type": "stream",
          "name": "stdout",
          "text": [
            "CL 57 # 67-19\n"
          ]
        }
      ]
    },
    {
      "cell_type": "markdown",
      "metadata": {
        "id": "WyfnFgVidh4J"
      },
      "source": [
        "We can check what names (i.e. attributes and methods) are defined on an object using the dir() function:"
      ]
    },
    {
      "cell_type": "code",
      "metadata": {
        "colab": {
          "base_uri": "https://localhost:8080/"
        },
        "id": "pPoz0LA8O2PU",
        "outputId": "4dcea2e2-771b-4d71-c743-5cb63c81f277"
      },
      "source": [
        "dir(apple)"
      ],
      "execution_count": null,
      "outputs": [
        {
          "output_type": "execute_result",
          "data": {
            "text/plain": [
              "['__class__',\n",
              " '__delattr__',\n",
              " '__dict__',\n",
              " '__dir__',\n",
              " '__doc__',\n",
              " '__eq__',\n",
              " '__format__',\n",
              " '__ge__',\n",
              " '__getattribute__',\n",
              " '__gt__',\n",
              " '__hash__',\n",
              " '__init__',\n",
              " '__init_subclass__',\n",
              " '__le__',\n",
              " '__lt__',\n",
              " '__module__',\n",
              " '__ne__',\n",
              " '__new__',\n",
              " '__reduce__',\n",
              " '__reduce_ex__',\n",
              " '__repr__',\n",
              " '__setattr__',\n",
              " '__sizeof__',\n",
              " '__str__',\n",
              " '__subclasshook__',\n",
              " '__weakref__',\n",
              " 'ceo',\n",
              " 'close',\n",
              " 'open',\n",
              " 'print_return',\n",
              " 'rate_return',\n",
              " 'ticker',\n",
              " 'update',\n",
              " 'volume']"
            ]
          },
          "metadata": {},
          "execution_count": 59
        }
      ]
    },
    {
      "cell_type": "code",
      "source": [
        "#Return the list of methods and attributes of the object called jaime\n",
        "dir(jaime)"
      ],
      "metadata": {
        "colab": {
          "base_uri": "https://localhost:8080/"
        },
        "id": "JxMLq53Y8Lti",
        "outputId": "79fb2fc8-ba7f-4875-fd09-cb665595efa1"
      },
      "execution_count": null,
      "outputs": [
        {
          "output_type": "execute_result",
          "data": {
            "text/plain": [
              "['__class__',\n",
              " '__delattr__',\n",
              " '__dict__',\n",
              " '__dir__',\n",
              " '__doc__',\n",
              " '__eq__',\n",
              " '__format__',\n",
              " '__ge__',\n",
              " '__getattribute__',\n",
              " '__gt__',\n",
              " '__hash__',\n",
              " '__init__',\n",
              " '__init_subclass__',\n",
              " '__le__',\n",
              " '__lt__',\n",
              " '__module__',\n",
              " '__ne__',\n",
              " '__new__',\n",
              " '__reduce__',\n",
              " '__reduce_ex__',\n",
              " '__repr__',\n",
              " '__setattr__',\n",
              " '__sizeof__',\n",
              " '__str__',\n",
              " '__subclasshook__',\n",
              " '__weakref__',\n",
              " 'actualizar_vacunacion',\n",
              " 'direccion',\n",
              " 'imprimir_vacunas',\n",
              " 'nombre',\n",
              " 'vacunas']"
            ]
          },
          "metadata": {},
          "execution_count": 61
        }
      ]
    },
    {
      "cell_type": "markdown",
      "metadata": {
        "id": "Qpemj1UZd2aa"
      },
      "source": [
        "## Inheritance\n",
        "Inheritance is a way of arranging classes in a hierarchy from the most general to the most specific. A \"child\" class is a more specific type of a \"parent\" class because a child class will inherit all the attribues and methods of its parent. For example, we define a class named \"Child\" which inherits \"Stock\":"
      ]
    },
    {
      "cell_type": "code",
      "metadata": {
        "id": "UELXnxomO2PV"
      },
      "source": [
        "class child(stock):\n",
        "    def __init__(self,name):\n",
        "        self.name = name"
      ],
      "execution_count": null,
      "outputs": []
    },
    {
      "cell_type": "code",
      "metadata": {
        "colab": {
          "base_uri": "https://localhost:8080/"
        },
        "id": "ffS2THZyO2PV",
        "outputId": "0b5d99cf-477c-48a1-8f5c-4e523612a028"
      },
      "source": [
        "aa = child('aa')\n",
        "print(aa.name)\n",
        "aa.update(100,102)\n",
        "print(aa.open)\n",
        "print(aa.close)\n",
        "print(aa.print_return())"
      ],
      "execution_count": null,
      "outputs": [
        {
          "output_type": "stream",
          "name": "stdout",
          "text": [
            "aa\n",
            "100\n",
            "102\n",
            "0.020000000000000018\n",
            "None\n"
          ]
        }
      ]
    },
    {
      "cell_type": "code",
      "source": [
        "#Create a new class called Dalmata that inherits from class Perro\n",
        "class Dalmata(Perro):\n",
        "  #Define a builder function of class Dalmata with the arguments nombre and vacunas\n",
        "  def __init__(self,nombre,vacunas):\n",
        "    self.raza = \"Dalmata\"  #Assign to the attribute raza of class Dalmata the string \"Dalmata\"\n",
        "    super().__init__(nombre,vacunas) #Call the builder of the father class (Class Perro)\n",
        "\n",
        "  max = Dalmata(\"Max\",[\"Parvovirosis\",\"Rabia\"]) #Crete a new object of class Dalmata\n",
        "  print(max.nombre) #Print the content of the attribute name of object max of class Dalmata\n",
        "  max.actualizar_vacunacion(\"Moquillo\") #Call method actualizar_vacunacion with argument nueva_vacuna=\"Moquillo\" from object max\n",
        "  max.imprimir_vacunas() #Call method imprimir_vacunas from object max"
      ],
      "metadata": {
        "colab": {
          "base_uri": "https://localhost:8080/"
        },
        "id": "4Rg9Q1iM8mjx",
        "outputId": "a244df1c-4e90-4d65-d842-b7b6dde667a1"
      },
      "execution_count": null,
      "outputs": [
        {
          "output_type": "stream",
          "name": "stdout",
          "text": [
            "Max\n",
            "Sus vacunas son ['Parvovirosis', 'Rabia', 'Moquillo']\n"
          ]
        }
      ]
    },
    {
      "cell_type": "markdown",
      "metadata": {
        "id": "pdIEjUv2eJqL"
      },
      "source": [
        "As seen above, the new class Child has inherited the methods from Stock.\n",
        "\n",
        "#Summary\n",
        "\n",
        "In this chapter we have introduced functions and classes. When we write a QuantConnect algorithm, we would define our algorithm as a class (QCAlgorithm). This means our algorithm inherited the QC API methods from QCAlgorithm class.\n",
        "\n",
        "In the next chapter, we will introduce NumPy and Pandas, which enable us to conduct scientific calculations in Python."
      ]
    },
    {
      "cell_type": "markdown",
      "metadata": {
        "id": "dQbENH6mexTd"
      },
      "source": [
        "<div align=\"center\">\n",
        "<img style=\"display: block; margin: auto;\" alt=\"photo\" src=\"https://cdn.quantconnect.com/web/i/icon.png\">\n",
        "\n",
        "Quantconnect\n",
        "\n",
        "Introduction to Financial Python\n",
        "</div>\n",
        "\n",
        "# 04 NumPy and Basic Pandas\n",
        "\n",
        "# Introduction\n",
        "\n",
        "Now that we have introduced the fundamentals of Python, it's time to learn about NumPy and Pandas.\n",
        "\n",
        "# NumPy\n",
        "NumPy is the core library for scientific computing in Python. It provides a high-performance multidimensional array object, and tools for working with these arrays. It also has strong integration with Pandas, which is another powerful tool for manipulating financial data.\n",
        "\n",
        "Python packages like NumPy and Pandas contain classes and methods which we can use by importing the package:"
      ]
    },
    {
      "cell_type": "code",
      "metadata": {
        "id": "aIESp-rdO58h"
      },
      "source": [
        "import numpy as np"
      ],
      "execution_count": null,
      "outputs": []
    },
    {
      "cell_type": "code",
      "source": [
        "import numpy as np #Import numpy library using the name np "
      ],
      "metadata": {
        "id": "ZNLw74fgCj0W"
      },
      "execution_count": null,
      "outputs": []
    },
    {
      "cell_type": "markdown",
      "metadata": {
        "id": "GScHHJ5ke7ea"
      },
      "source": [
        "## Basic NumPy Arrays\n",
        "A NumPy array is a grid of values, all of the same type, and is indexed by a tuple of nonnegative integers. Here we make an array by passing a list of Apple stock prices:"
      ]
    },
    {
      "cell_type": "code",
      "metadata": {
        "colab": {
          "base_uri": "https://localhost:8080/"
        },
        "id": "lZI1wkwDO58i",
        "outputId": "7792634b-b0f5-47d4-f998-be207f9fb485"
      },
      "source": [
        "price_list = [143.73, 145.83, 143.68, 144.02, 143.5, 142.62]\n",
        "price_array = np.array(price_list)\n",
        "print(price_array, type(price_array))"
      ],
      "execution_count": null,
      "outputs": [
        {
          "output_type": "stream",
          "name": "stdout",
          "text": [
            "[143.73 145.83 143.68 144.02 143.5  142.62] <class 'numpy.ndarray'>\n"
          ]
        }
      ]
    },
    {
      "cell_type": "code",
      "source": [
        "notas = [3.5,1.0,0.5,7.8,3.0] #Create a list with elements 3.5,1.0,0.5,7.8,3.0\n",
        "notas = np.array(notas) #Make a type cast of notas from list type to numpy array type\n",
        "print(f\"{notas} de tipo {type(notas)}\") #Print the content of the variable notas and its class"
      ],
      "metadata": {
        "colab": {
          "base_uri": "https://localhost:8080/"
        },
        "id": "nlnILCrGC142",
        "outputId": "79038c61-8f13-43c8-80a3-0d63e7c1a3c4"
      },
      "execution_count": null,
      "outputs": [
        {
          "output_type": "stream",
          "name": "stdout",
          "text": [
            "[3.5 1.  0.5 7.8 3. ] de tipo <class 'numpy.ndarray'>\n"
          ]
        }
      ]
    },
    {
      "cell_type": "markdown",
      "metadata": {
        "id": "-5Yj6u9ifB-t"
      },
      "source": [
        "Notice that the type of array is \"ndarray\" which is a multi-dimensional array. If we pass np.array() a list of lists, it will create a 2-dimensional array."
      ]
    },
    {
      "cell_type": "code",
      "metadata": {
        "colab": {
          "base_uri": "https://localhost:8080/"
        },
        "id": "obvIZrK-O58j",
        "outputId": "7bf6293a-350d-4167-a431-2fabb6353a74"
      },
      "source": [
        "Ar = np.array([[1,3],[2,4]])\n",
        "print(Ar, type(Ar))"
      ],
      "execution_count": null,
      "outputs": [
        {
          "output_type": "stream",
          "name": "stdout",
          "text": [
            "[[1 3]\n",
            " [2 4]] <class 'numpy.ndarray'>\n"
          ]
        }
      ]
    },
    {
      "cell_type": "code",
      "source": [
        "notas_bid = [[1,3.5],[2,1.0],[3,0.5],[4,7.8],[5,3.0]] #Create a list of lists\n",
        "notas_bid = np.array(notas_bid) #Make a type cast of notas_bid from a list of lists to numpy array\n",
        "print(f\"{notas_bid} de tipo {type(notas_bid)}\") #Print the content of the variable notas_bid and its class"
      ],
      "metadata": {
        "colab": {
          "base_uri": "https://localhost:8080/"
        },
        "id": "zgeKs6EdDlsZ",
        "outputId": "5d1a06cd-00ad-4037-fa56-360ac765c61f"
      },
      "execution_count": null,
      "outputs": [
        {
          "output_type": "stream",
          "name": "stdout",
          "text": [
            "[[1.  3.5]\n",
            " [2.  1. ]\n",
            " [3.  0.5]\n",
            " [4.  7.8]\n",
            " [5.  3. ]] de tipo <class 'numpy.ndarray'>\n"
          ]
        }
      ]
    },
    {
      "cell_type": "markdown",
      "metadata": {
        "id": "uDdfLD9HfHkl"
      },
      "source": [
        "We get the dimensions of an ndarray using the .shape attribute:"
      ]
    },
    {
      "cell_type": "code",
      "metadata": {
        "colab": {
          "base_uri": "https://localhost:8080/"
        },
        "id": "G2txdn73O58j",
        "outputId": "b6539a1f-7794-47bc-fd6f-744683e69ab7"
      },
      "source": [
        "print(Ar.shape)"
      ],
      "execution_count": null,
      "outputs": [
        {
          "output_type": "stream",
          "name": "stdout",
          "text": [
            "(2, 2)\n"
          ]
        }
      ]
    },
    {
      "cell_type": "code",
      "source": [
        "print(notas_bid.shape) #Print attribute shape of notas_bid that contains the size of notas_bid"
      ],
      "metadata": {
        "colab": {
          "base_uri": "https://localhost:8080/"
        },
        "id": "WOtieY9iEFlz",
        "outputId": "ca214f87-b861-406b-ae9f-b2f630b4e849"
      },
      "execution_count": null,
      "outputs": [
        {
          "output_type": "stream",
          "name": "stdout",
          "text": [
            "(5,)\n"
          ]
        }
      ]
    },
    {
      "cell_type": "markdown",
      "metadata": {
        "id": "87W5ueORfPEy"
      },
      "source": [
        "If we create an 2-dimensional array (i.e. matrix), each row can be accessed by index:"
      ]
    },
    {
      "cell_type": "code",
      "metadata": {
        "colab": {
          "base_uri": "https://localhost:8080/"
        },
        "id": "x_QV9aPbO58j",
        "outputId": "ceaeabd6-af8c-435b-f376-0f73fa6af72e"
      },
      "source": [
        "print(Ar[0])\n",
        "print(Ar[1])"
      ],
      "execution_count": null,
      "outputs": [
        {
          "output_type": "stream",
          "name": "stdout",
          "text": [
            "[1 3]\n",
            "[2 4]\n"
          ]
        }
      ]
    },
    {
      "cell_type": "code",
      "source": [
        "print(notas_bid[2]) #Print the third row of notas_bid\n",
        "print(notas_bid[3]) #Print the fourth row of notas_bid"
      ],
      "metadata": {
        "colab": {
          "base_uri": "https://localhost:8080/"
        },
        "id": "hUDLqM7vEUta",
        "outputId": "a84f5554-0c21-4e3f-b96b-6b304b609a8f"
      },
      "execution_count": null,
      "outputs": [
        {
          "output_type": "stream",
          "name": "stdout",
          "text": [
            "[3.  0.5]\n",
            "[4.  7.8]\n"
          ]
        }
      ]
    },
    {
      "cell_type": "markdown",
      "metadata": {
        "id": "5Hke7Vt-fSGB"
      },
      "source": [
        "If we want to access the matrix by column instead:"
      ]
    },
    {
      "cell_type": "code",
      "metadata": {
        "colab": {
          "base_uri": "https://localhost:8080/"
        },
        "id": "gHVwbPfOO58j",
        "outputId": "fbc8f0ca-38bf-4f98-d85f-1e95b30bb6f3"
      },
      "source": [
        "print('the first column: ', Ar[:,0])\n",
        "print('the second column: ', Ar[:,1])"
      ],
      "execution_count": null,
      "outputs": [
        {
          "output_type": "stream",
          "name": "stdout",
          "text": [
            "the first column:  [1 2]\n",
            "the second column:  [3 4]\n"
          ]
        }
      ]
    },
    {
      "cell_type": "code",
      "source": [
        "print(f'La primera columnna', notas_bid[:,0]) #Print the first row of notas_bid\n",
        "print(f'La primera columnna', notas_bid[:,1]) #Print the second row of notas_bid"
      ],
      "metadata": {
        "colab": {
          "base_uri": "https://localhost:8080/"
        },
        "id": "PUbpSccLEsV_",
        "outputId": "a125a7c9-77d0-4c2c-d566-432f9a505d8d"
      },
      "execution_count": null,
      "outputs": [
        {
          "output_type": "stream",
          "name": "stdout",
          "text": [
            "La primera columnna [1. 2. 3. 4. 5.]\n",
            "La primera columnna [3.5 1.  0.5 7.8 3. ]\n"
          ]
        }
      ]
    },
    {
      "cell_type": "markdown",
      "metadata": {
        "id": "T61cD0HMfStB"
      },
      "source": [
        "## Array Functions\n",
        "Some functions built in NumPy that allow us to perform calculations on arrays. For example, we can apply the natural logarithm to each element of an array:"
      ]
    },
    {
      "cell_type": "code",
      "metadata": {
        "colab": {
          "base_uri": "https://localhost:8080/"
        },
        "id": "PKhwtJ7XO58k",
        "outputId": "5734372b-2ffa-44e4-8146-5906268cd6c8"
      },
      "source": [
        "print(np.log(price_array))"
      ],
      "execution_count": null,
      "outputs": [
        {
          "output_type": "stream",
          "name": "stdout",
          "text": [
            "[4.96793654 4.98244156 4.9675886  4.96995218 4.96633504 4.96018375]\n"
          ]
        }
      ]
    },
    {
      "cell_type": "code",
      "source": [
        "#Print a Numpy Array that contains the result of applying ln(x) to all the elements of the numpy array notas\n",
        "print(np.log(notas))"
      ],
      "metadata": {
        "colab": {
          "base_uri": "https://localhost:8080/"
        },
        "id": "V9NfvyQtFCmN",
        "outputId": "a1a6b30c-551e-4f54-b867-a1ea7c41f7cd"
      },
      "execution_count": null,
      "outputs": [
        {
          "output_type": "stream",
          "name": "stdout",
          "text": [
            "[ 1.25276297  0.         -0.69314718  2.05412373  1.09861229]\n"
          ]
        }
      ]
    },
    {
      "cell_type": "markdown",
      "metadata": {
        "id": "uzjBRFBLfZ-D"
      },
      "source": [
        "Other functions return a single value:"
      ]
    },
    {
      "cell_type": "code",
      "metadata": {
        "colab": {
          "base_uri": "https://localhost:8080/"
        },
        "id": "nQuABZqUO58k",
        "outputId": "42151fdc-de6a-4a12-aebc-6689f288d9fa"
      },
      "source": [
        "print(np.mean(price_array))\n",
        "print(np.std(price_array))\n",
        "print(np.sum(price_array))\n",
        "print(np.max(price_array))"
      ],
      "execution_count": null,
      "outputs": [
        {
          "output_type": "stream",
          "name": "stdout",
          "text": [
            "143.89666666666668\n",
            "0.9673790478515796\n",
            "863.38\n",
            "145.83\n"
          ]
        }
      ]
    },
    {
      "cell_type": "code",
      "source": [
        "print(np.mean(notas)) #A.mean() return (a_1+a_2+...+a_n)/n\n",
        "print(np.std(notas)) #Return standard deviation of the elements of array notas\n",
        "print(np.sum(notas)) #A.sum return a_1+a_2+...+a_n\n",
        "print(np.max(notas)) #Return the largest element in array notas"
      ],
      "metadata": {
        "colab": {
          "base_uri": "https://localhost:8080/"
        },
        "id": "ZrnFIQVwFmwo",
        "outputId": "020e93b0-c4f8-4051-eba6-c18667fc77ba"
      },
      "execution_count": null,
      "outputs": [
        {
          "output_type": "stream",
          "name": "stdout",
          "text": [
            "3.16\n",
            "2.5850338489079787\n",
            "15.8\n",
            "7.8\n"
          ]
        }
      ]
    },
    {
      "cell_type": "markdown",
      "metadata": {
        "id": "IRW95BsifgDB"
      },
      "source": [
        "The functions above return the mean, standard deviation, total and maximum value of an array.\n",
        "\n",
        "# Pandas\n",
        "Pandas is one of the most powerful tools for dealing with financial data. \n",
        "\n",
        "First we need to import Pandas:"
      ]
    },
    {
      "cell_type": "code",
      "metadata": {
        "id": "xIYH4oUfO58k"
      },
      "source": [
        "import pandas as pd"
      ],
      "execution_count": null,
      "outputs": []
    },
    {
      "cell_type": "code",
      "source": [
        "import pandas as pd #Import Pandas library with the name 'pd'"
      ],
      "metadata": {
        "id": "XZJ4QCk3GTPT"
      },
      "execution_count": null,
      "outputs": []
    },
    {
      "cell_type": "markdown",
      "metadata": {
        "id": "zOig5gORfnJU"
      },
      "source": [
        "## Series\n",
        "Series is a one-dimensional labeled array capable of holding any data type (integers, strings, float, Python object, etc.)\n",
        "\n",
        "We create a Series by calling pd.Series(data), where data can be a dictionary, an array or just a scalar value."
      ]
    },
    {
      "cell_type": "code",
      "metadata": {
        "colab": {
          "base_uri": "https://localhost:8080/"
        },
        "id": "JmzoNzrPO58k",
        "outputId": "b366da70-894e-4be5-fb47-9c8c6c09baae"
      },
      "source": [
        "price = [143.73, 145.83, 143.68, 144.02, 143.5, 142.62]\n",
        "s = pd.Series(price)"
      ],
      "execution_count": null,
      "outputs": [
        {
          "output_type": "execute_result",
          "data": {
            "text/plain": [
              "0    143.73\n",
              "1    145.83\n",
              "2    143.68\n",
              "3    144.02\n",
              "4    143.50\n",
              "5    142.62\n",
              "dtype: float64"
            ]
          },
          "metadata": {},
          "execution_count": 71
        }
      ]
    },
    {
      "cell_type": "code",
      "source": [
        "notas = [3.5,1.0,0.5,7.8,3.0,4.5] #Create a list with elements 3.5,1.0,0.5,7.8,3.0\n",
        "notas_s = pd.Series(notas) #Make a type cast of notas from list type to Pandas Series\n",
        "notas_s"
      ],
      "metadata": {
        "colab": {
          "base_uri": "https://localhost:8080/"
        },
        "id": "_hJc52fBGagw",
        "outputId": "d154d29a-f891-411d-8c1d-f70803c3e55d"
      },
      "execution_count": null,
      "outputs": [
        {
          "output_type": "execute_result",
          "data": {
            "text/plain": [
              "0    3.5\n",
              "1    1.0\n",
              "2    0.5\n",
              "3    7.8\n",
              "4    3.0\n",
              "5    4.5\n",
              "dtype: float64"
            ]
          },
          "metadata": {},
          "execution_count": 106
        }
      ]
    },
    {
      "cell_type": "markdown",
      "metadata": {
        "id": "tP5iDnunfq46"
      },
      "source": [
        "We can customize the indices of a new Series:"
      ]
    },
    {
      "cell_type": "code",
      "metadata": {
        "colab": {
          "base_uri": "https://localhost:8080/"
        },
        "id": "eswQC3ZPO58l",
        "outputId": "6c6e3ff1-bc50-4ec9-8345-24f2af8feb18"
      },
      "source": [
        "s = pd.Series(price,index = ['a','b','c','d','e','f'])\n",
        "s"
      ],
      "execution_count": null,
      "outputs": [
        {
          "output_type": "execute_result",
          "data": {
            "text/plain": [
              "a    143.73\n",
              "b    145.83\n",
              "c    143.68\n",
              "d    144.02\n",
              "e    143.50\n",
              "f    142.62\n",
              "dtype: float64"
            ]
          },
          "metadata": {},
          "execution_count": 72
        }
      ]
    },
    {
      "cell_type": "code",
      "source": [
        "n = pd.Series(notas,index=['A','B','C','D','E','F']) #Change rows labels to A,B,C,D,E,F\n",
        "n"
      ],
      "metadata": {
        "colab": {
          "base_uri": "https://localhost:8080/"
        },
        "id": "652HvUZmGy9u",
        "outputId": "8280d34e-5a50-4b99-c81b-d11865d21763"
      },
      "execution_count": null,
      "outputs": [
        {
          "output_type": "execute_result",
          "data": {
            "text/plain": [
              "A    3.5\n",
              "B    1.0\n",
              "C    0.5\n",
              "D    7.8\n",
              "E    3.0\n",
              "F    4.5\n",
              "dtype: float64"
            ]
          },
          "metadata": {},
          "execution_count": 107
        }
      ]
    },
    {
      "cell_type": "markdown",
      "metadata": {
        "id": "wdZrb8pEfuua"
      },
      "source": [
        "Or we can change the indices of an existing Series:"
      ]
    },
    {
      "cell_type": "code",
      "metadata": {
        "colab": {
          "base_uri": "https://localhost:8080/"
        },
        "id": "MwlRnPF6O58l",
        "outputId": "6f1d38f9-b562-40a7-8c69-cf7605ddf732"
      },
      "source": [
        "s.index = [6,5,4,3,2,1]\n",
        "s"
      ],
      "execution_count": null,
      "outputs": [
        {
          "output_type": "execute_result",
          "data": {
            "text/plain": [
              "6    143.73\n",
              "5    145.83\n",
              "4    143.68\n",
              "3    144.02\n",
              "2    143.50\n",
              "1    142.62\n",
              "dtype: float64"
            ]
          },
          "metadata": {},
          "execution_count": 73
        }
      ]
    },
    {
      "cell_type": "code",
      "source": [
        "n.index = [1,2,3,4,5,6] #Change rows labels to 1,2,3,4,5,6\n",
        "n"
      ],
      "metadata": {
        "colab": {
          "base_uri": "https://localhost:8080/"
        },
        "id": "s3TrDXL0Hlwt",
        "outputId": "1f672b4f-7bbf-458e-ec19-5b367026533f"
      },
      "execution_count": null,
      "outputs": [
        {
          "output_type": "execute_result",
          "data": {
            "text/plain": [
              "1    3.5\n",
              "2    1.0\n",
              "3    0.5\n",
              "4    7.8\n",
              "5    3.0\n",
              "6    4.5\n",
              "dtype: float64"
            ]
          },
          "metadata": {},
          "execution_count": 108
        }
      ]
    },
    {
      "cell_type": "markdown",
      "metadata": {
        "id": "6cGNQZwLfxIz"
      },
      "source": [
        "Series is like a list since it can be sliced by index:"
      ]
    },
    {
      "cell_type": "code",
      "metadata": {
        "colab": {
          "base_uri": "https://localhost:8080/"
        },
        "id": "N9bBSg6cO58l",
        "outputId": "4fed1936-9b14-44ca-a4e8-6873d9b706d8"
      },
      "source": [
        "print(s[1:])\n",
        "print(s[:-2])"
      ],
      "execution_count": null,
      "outputs": [
        {
          "output_type": "stream",
          "name": "stdout",
          "text": [
            "5    145.83\n",
            "4    143.68\n",
            "3    144.02\n",
            "2    143.50\n",
            "1    142.62\n",
            "dtype: float64\n",
            "6    143.73\n",
            "5    145.83\n",
            "4    143.68\n",
            "3    144.02\n",
            "dtype: float64\n"
          ]
        }
      ]
    },
    {
      "cell_type": "code",
      "source": [
        "print(n[2:]) #Print all the rows of pandas series n from the second row until the last row\n",
        "print(n[:-1]) #Print all the rows of pandas series n from the first row until the penultimate row"
      ],
      "metadata": {
        "colab": {
          "base_uri": "https://localhost:8080/"
        },
        "id": "cGAeB_RSH14t",
        "outputId": "f5881fe9-f14a-40f4-b80c-625c1ebc4c2c"
      },
      "execution_count": null,
      "outputs": [
        {
          "output_type": "stream",
          "name": "stdout",
          "text": [
            "3    0.5\n",
            "4    7.8\n",
            "5    3.0\n",
            "6    4.5\n",
            "dtype: float64\n",
            "1    3.5\n",
            "2    1.0\n",
            "3    0.5\n",
            "4    7.8\n",
            "5    3.0\n",
            "dtype: float64\n"
          ]
        }
      ]
    },
    {
      "cell_type": "markdown",
      "metadata": {
        "id": "5V25nViZfz3Z"
      },
      "source": [
        "Series is also like a dictionary whose values can be set or fetched by index label:"
      ]
    },
    {
      "cell_type": "code",
      "metadata": {
        "colab": {
          "base_uri": "https://localhost:8080/"
        },
        "id": "b3Y0kKGYO58l",
        "outputId": "beb4aa36-3e49-4d1a-cf11-5309214e9e60"
      },
      "source": [
        "print(s[4])\n",
        "s[4] = 0\n",
        "print(s)"
      ],
      "execution_count": null,
      "outputs": [
        {
          "output_type": "stream",
          "name": "stdout",
          "text": [
            "143.68\n",
            "6    143.73\n",
            "5    145.83\n",
            "4      0.00\n",
            "3    144.02\n",
            "2    143.50\n",
            "1    142.62\n",
            "dtype: float64\n"
          ]
        }
      ]
    },
    {
      "cell_type": "code",
      "source": [
        "print(n[3]) #Print the element of the fourth row of the Pandas Series n\n",
        "n[3] = 2.3 #Set the value of the element of the fourth row of the Pandas Series n to 2.3\n",
        "print(n) #Print the content of the variable n"
      ],
      "metadata": {
        "colab": {
          "base_uri": "https://localhost:8080/"
        },
        "id": "u0k0kKCuIVzY",
        "outputId": "c50e596b-7f4a-46dd-8547-c53edbe6e2c4"
      },
      "execution_count": null,
      "outputs": [
        {
          "output_type": "stream",
          "name": "stdout",
          "text": [
            "0.5\n",
            "1    3.5\n",
            "2    1.0\n",
            "3    2.3\n",
            "4    7.8\n",
            "5    3.0\n",
            "6    4.5\n",
            "dtype: float64\n"
          ]
        }
      ]
    },
    {
      "cell_type": "markdown",
      "metadata": {
        "id": "RQ1P7Gkyf060"
      },
      "source": [
        "Series can also have a name attribute, which will be used when we make up a Pandas DataFrame using several series."
      ]
    },
    {
      "cell_type": "code",
      "metadata": {
        "colab": {
          "base_uri": "https://localhost:8080/"
        },
        "id": "ZeD4-p7KO58m",
        "outputId": "add952eb-4ac8-49d4-c63b-59fe3da953a5"
      },
      "source": [
        "s = pd.Series(price, name = 'Apple Price List')\n",
        "print(s)\n",
        "print(s.name)"
      ],
      "execution_count": null,
      "outputs": [
        {
          "output_type": "stream",
          "name": "stdout",
          "text": [
            "0    143.73\n",
            "1    145.83\n",
            "2    143.68\n",
            "3    144.02\n",
            "4    143.50\n",
            "5    142.62\n",
            "Name: Apple Price List, dtype: float64\n",
            "Apple Price List\n"
          ]
        }
      ]
    },
    {
      "cell_type": "code",
      "source": [
        "n = pd.Series(notas,name=\"Notas\") #Make a type cast of notas from array to pandas Series and set Attribute name as \"Notas\"\n",
        "print(n)\n",
        "print(n.name) #Print the content of the atributte name of n"
      ],
      "metadata": {
        "colab": {
          "base_uri": "https://localhost:8080/"
        },
        "id": "hybt2b9VI46S",
        "outputId": "52bbef55-00a1-4539-bb3b-95d98e6a66a5"
      },
      "execution_count": null,
      "outputs": [
        {
          "output_type": "stream",
          "name": "stdout",
          "text": [
            "0    3.5\n",
            "1    1.0\n",
            "2    0.5\n",
            "3    7.8\n",
            "4    3.0\n",
            "5    4.5\n",
            "Name: Notas, dtype: float64\n",
            "Notas\n"
          ]
        }
      ]
    },
    {
      "cell_type": "markdown",
      "metadata": {
        "id": "geJb1pGHf5Et"
      },
      "source": [
        "We can get the statistical summaries of a Series:"
      ]
    },
    {
      "cell_type": "code",
      "metadata": {
        "colab": {
          "base_uri": "https://localhost:8080/"
        },
        "id": "mGPtFcjegm4i",
        "outputId": "c755fd81-f5cc-4e33-ac06-0286c3710356"
      },
      "source": [
        "print(s.describe())"
      ],
      "execution_count": null,
      "outputs": [
        {
          "output_type": "stream",
          "name": "stdout",
          "text": [
            "count      6.000000\n",
            "mean     143.896667\n",
            "std        1.059711\n",
            "min      142.620000\n",
            "25%      143.545000\n",
            "50%      143.705000\n",
            "75%      143.947500\n",
            "max      145.830000\n",
            "Name: Apple Price List, dtype: float64\n"
          ]
        }
      ]
    },
    {
      "cell_type": "code",
      "source": [
        "print(n.describe()) #Get the stadistical summaries of Pandas Series n"
      ],
      "metadata": {
        "colab": {
          "base_uri": "https://localhost:8080/"
        },
        "id": "o9hS2vkVJSrI",
        "outputId": "2301aa02-1836-496a-8ab2-e5b3528ccf13"
      },
      "execution_count": null,
      "outputs": [
        {
          "output_type": "stream",
          "name": "stdout",
          "text": [
            "count    6.000000\n",
            "mean     3.383333\n",
            "std      2.642284\n",
            "min      0.500000\n",
            "25%      1.500000\n",
            "50%      3.250000\n",
            "75%      4.250000\n",
            "max      7.800000\n",
            "Name: Notas, dtype: float64\n"
          ]
        }
      ]
    },
    {
      "cell_type": "markdown",
      "metadata": {
        "id": "LkdZu-CDgvlR"
      },
      "source": [
        "## Time Index\n",
        "Pandas has a built-in function specifically for creating date indices: pd.date_range(). We use it to create a new index for our Series:"
      ]
    },
    {
      "cell_type": "code",
      "metadata": {
        "colab": {
          "base_uri": "https://localhost:8080/"
        },
        "id": "HJe5hU4zO58m",
        "outputId": "9d621c1b-9219-4df0-e281-c205122a501e"
      },
      "source": [
        "time_index = pd.date_range('2017-01-01',periods = len(s),freq = 'D')\n",
        "print(time_index)\n",
        "s.index = time_index\n",
        "print(s)"
      ],
      "execution_count": null,
      "outputs": [
        {
          "output_type": "stream",
          "name": "stdout",
          "text": [
            "DatetimeIndex(['2017-01-01', '2017-01-02', '2017-01-03', '2017-01-04',\n",
            "               '2017-01-05', '2017-01-06'],\n",
            "              dtype='datetime64[ns]', freq='D')\n",
            "2017-01-01    143.73\n",
            "2017-01-02    145.83\n",
            "2017-01-03    143.68\n",
            "2017-01-04    144.02\n",
            "2017-01-05    143.50\n",
            "2017-01-06    142.62\n",
            "Freq: D, Name: Apple Price List, dtype: float64\n"
          ]
        }
      ]
    },
    {
      "cell_type": "code",
      "source": [
        "#Create a sequence of the same size of n with dates starting in 2022-03-15 with diary frequency\n",
        "time_index = pd.date_range('2022-03-15',periods = len(n),freq = 'D')\n",
        "print(time_index)\n",
        "n.index = time_index #Set the labels of the rows of n as the content of the variable time_index\n",
        "print(n)"
      ],
      "metadata": {
        "colab": {
          "base_uri": "https://localhost:8080/"
        },
        "id": "k6wB9AUIJhhE",
        "outputId": "08740741-a940-4c59-8635-2a9c73e4758d"
      },
      "execution_count": null,
      "outputs": [
        {
          "output_type": "stream",
          "name": "stdout",
          "text": [
            "DatetimeIndex(['2022-03-15', '2022-03-16', '2022-03-17', '2022-03-18',\n",
            "               '2022-03-19', '2022-03-20'],\n",
            "              dtype='datetime64[ns]', freq='D')\n",
            "2022-03-15    3.5\n",
            "2022-03-16    1.0\n",
            "2022-03-17    0.5\n",
            "2022-03-18    7.8\n",
            "2022-03-19    3.0\n",
            "2022-03-20    4.5\n",
            "Freq: D, Name: Notas, dtype: float64\n"
          ]
        }
      ]
    },
    {
      "cell_type": "markdown",
      "metadata": {
        "id": "7WedejFZg19J"
      },
      "source": [
        "Series are usually accessed using the iloc[] and loc[] methods. iloc[] is used to access elements by integer index, and loc[] is used to access the index of the series.\n",
        "\n",
        "iloc[] is necessary when the index of a series are integers, take our previous defined series as example:"
      ]
    },
    {
      "cell_type": "code",
      "metadata": {
        "colab": {
          "base_uri": "https://localhost:8080/"
        },
        "id": "KrVSOyMvO58m",
        "outputId": "53834718-43c5-4490-e361-2888f8651f96"
      },
      "source": [
        "s.index = [6,5,4,3,2,1]\n",
        "print(s)\n",
        "print(s[1])"
      ],
      "execution_count": null,
      "outputs": [
        {
          "output_type": "stream",
          "name": "stdout",
          "text": [
            "6    143.73\n",
            "5    145.83\n",
            "4    143.68\n",
            "3    144.02\n",
            "2    143.50\n",
            "1    142.62\n",
            "Name: Apple Price List, dtype: float64\n",
            "142.62\n"
          ]
        }
      ]
    },
    {
      "cell_type": "code",
      "source": [
        "n.index = [6,5,4,3,2,1] #Set labels of rows of Pandas Series n as 6,5,4,2,1\n",
        "print(n)\n",
        "print(n[2]) #Print the element of the third row of Pandas Series n"
      ],
      "metadata": {
        "colab": {
          "base_uri": "https://localhost:8080/"
        },
        "id": "3ZUa3qUDKJnJ",
        "outputId": "590c77e2-5adc-4b95-bab9-1673f0e2aa97"
      },
      "execution_count": null,
      "outputs": [
        {
          "output_type": "stream",
          "name": "stdout",
          "text": [
            "6    3.5\n",
            "5    1.0\n",
            "4    0.5\n",
            "3    7.8\n",
            "2    3.0\n",
            "1    4.5\n",
            "Name: Notas, dtype: float64\n",
            "3.0\n"
          ]
        }
      ]
    },
    {
      "cell_type": "markdown",
      "metadata": {
        "id": "r30VKPtpg61p"
      },
      "source": [
        "If we intended to take the second element of the series, we would make a mistake here, because the index are integers. In order to access to the element we want, we use iloc[] here:"
      ]
    },
    {
      "cell_type": "code",
      "metadata": {
        "colab": {
          "base_uri": "https://localhost:8080/"
        },
        "id": "bHukfaAmO58m",
        "outputId": "a75ed573-3d6e-45db-ece3-16aff3ced012"
      },
      "source": [
        "print(s.iloc[1])"
      ],
      "execution_count": null,
      "outputs": [
        {
          "output_type": "stream",
          "name": "stdout",
          "text": [
            "145.83\n"
          ]
        }
      ]
    },
    {
      "cell_type": "code",
      "source": [
        "print(n.iloc[2]) #Get the third element of the Pandas Series n"
      ],
      "metadata": {
        "colab": {
          "base_uri": "https://localhost:8080/"
        },
        "id": "9ZofdOdTKbCK",
        "outputId": "ff6e7c93-68e6-45bc-bcda-05915e431bf1"
      },
      "execution_count": null,
      "outputs": [
        {
          "output_type": "stream",
          "name": "stdout",
          "text": [
            "0.5\n"
          ]
        }
      ]
    },
    {
      "cell_type": "markdown",
      "metadata": {
        "id": "kHVBRL_Rg84j"
      },
      "source": [
        "While working with time series data, we often use time as the index. Pandas provides us with various methods to access the data by time index"
      ]
    },
    {
      "cell_type": "code",
      "metadata": {
        "colab": {
          "base_uri": "https://localhost:8080/"
        },
        "id": "FCf8Hg7jO58n",
        "outputId": "b095c269-31ed-40e4-e4a8-d6d0b0b1a46d"
      },
      "source": [
        "s.index = time_index\n",
        "print(s['2017-01-03'])"
      ],
      "execution_count": null,
      "outputs": [
        {
          "output_type": "stream",
          "name": "stdout",
          "text": [
            "143.68\n"
          ]
        }
      ]
    },
    {
      "cell_type": "code",
      "source": [
        "n.index = time_index #Set labels of rows with the content of time_index\n",
        "print(n['2022-03-15']) #Print the row with index 2022-03-15"
      ],
      "metadata": {
        "id": "0n1sad8hKnhZ",
        "colab": {
          "base_uri": "https://localhost:8080/"
        },
        "outputId": "b7392c8e-c120-42f5-86be-4979bcd6672e"
      },
      "execution_count": null,
      "outputs": [
        {
          "output_type": "stream",
          "name": "stdout",
          "text": [
            "3.5\n"
          ]
        }
      ]
    },
    {
      "cell_type": "markdown",
      "metadata": {
        "id": "XJXcrSFpg-To"
      },
      "source": [
        "We can even access to a range of dates:"
      ]
    },
    {
      "cell_type": "code",
      "metadata": {
        "colab": {
          "base_uri": "https://localhost:8080/"
        },
        "id": "NsE-Lr_9O58n",
        "outputId": "ecfd6e32-3661-4448-d4d7-9bf37fbe74c9"
      },
      "source": [
        "print(s['2017-01-02':'2017-01-05'])"
      ],
      "execution_count": null,
      "outputs": [
        {
          "output_type": "stream",
          "name": "stdout",
          "text": [
            "2017-01-02    145.83\n",
            "2017-01-03    143.68\n",
            "2017-01-04    144.02\n",
            "2017-01-05    143.50\n",
            "Freq: D, Name: Apple Price List, dtype: float64\n"
          ]
        }
      ]
    },
    {
      "cell_type": "code",
      "source": [
        "print(n['2022-03-15':'2017-03-17']) #Print rows from date 2022-03-15 until 2017-03-17"
      ],
      "metadata": {
        "colab": {
          "base_uri": "https://localhost:8080/"
        },
        "id": "BADw8dQNP9i5",
        "outputId": "e18739ab-b5f2-4693-933a-599eba339f60"
      },
      "execution_count": null,
      "outputs": [
        {
          "output_type": "stream",
          "name": "stdout",
          "text": [
            "Series([], Freq: D, Name: Notas, dtype: float64)\n"
          ]
        }
      ]
    },
    {
      "cell_type": "markdown",
      "metadata": {
        "id": "cWA3NCXEhCLB"
      },
      "source": [
        "Series[] provides us a very flexible way to index data. We can add any condition in the square brackets:"
      ]
    },
    {
      "cell_type": "code",
      "metadata": {
        "colab": {
          "base_uri": "https://localhost:8080/"
        },
        "id": "aawbrg2EO58n",
        "outputId": "2df57a9d-6d50-4e9a-fbf9-b281692ec3d2"
      },
      "source": [
        "print(s[s < np.mean(s)] )\n",
        "print([(s > np.mean(s)) & (s < np.mean(s) + 1.64*np.std(s))])"
      ],
      "execution_count": null,
      "outputs": [
        {
          "output_type": "stream",
          "name": "stdout",
          "text": [
            "2017-01-01    143.73\n",
            "2017-01-03    143.68\n",
            "2017-01-05    143.50\n",
            "2017-01-06    142.62\n",
            "Name: Apple Price List, dtype: float64\n",
            "[2017-01-01    False\n",
            "2017-01-02    False\n",
            "2017-01-03    False\n",
            "2017-01-04     True\n",
            "2017-01-05    False\n",
            "2017-01-06    False\n",
            "Freq: D, Name: Apple Price List, dtype: bool]\n"
          ]
        }
      ]
    },
    {
      "cell_type": "code",
      "source": [
        "print(n[n>np.mean(n)+np.std(n)]) #Print rows greater than the mean plus one standar desviation"
      ],
      "metadata": {
        "colab": {
          "base_uri": "https://localhost:8080/"
        },
        "id": "5h0En9bFQSz3",
        "outputId": "89b345d6-d677-415b-82aa-bd5415291332"
      },
      "execution_count": null,
      "outputs": [
        {
          "output_type": "stream",
          "name": "stdout",
          "text": [
            "2022-03-18    7.8\n",
            "Freq: D, Name: Notas, dtype: float64\n"
          ]
        }
      ]
    },
    {
      "cell_type": "markdown",
      "metadata": {
        "id": "jAByChIwhEuI"
      },
      "source": [
        "As demonstrated, we can use logical operators like & (and), | (or) and ~ (not) to group multiple conditions.\n",
        "\n",
        "# Summary\n",
        "Here we have introduced NumPy and Pandas for scientific computing in Python. In the next chapter, we will dive into Pandas to learn resampling and manipulating Pandas DataFrame, which are commonly used in financial data analysis."
      ]
    },
    {
      "cell_type": "markdown",
      "metadata": {
        "id": "OtjOpw6oJp6z"
      },
      "source": [
        "<div align=\"center\">\n",
        "<img style=\"display: block; margin: auto;\" alt=\"photo\" src=\"https://cdn.quantconnect.com/web/i/icon.png\"> <img style=\"display: block; margin: auto;\" alt=\"photo\" src=\"https://www.marketing-branding.com/wp-content/uploads/2020/07/google-colaboratory-colab-guia-completa.jpg \" width=\"50\" height=\"50\">\n",
        "<img style=\"display: block; margin: auto;\" alt=\"photo\" src=\"https://upload.wikimedia.org/wikipedia/commons/d/da/Yahoo_Finance_Logo_2019.svg\" width=\"50\" height=\"50\">  \n",
        "\n",
        "Quantconnect -> Google Colab with Yahoo Finance data\n",
        "\n",
        "Introduction to Financial Python\n",
        "</div>\n",
        "\n",
        "# 05 Pandas-Resampling and DataFrame\n",
        "\n",
        "# Introduction\n",
        "In the last chapter we had a glimpse of Pandas. In this chapter we will learn about resampling methods and the DataFrame object, which is a powerful tool for financial data analysis.\n",
        "\n",
        "# Fetching Data\n",
        "Here we use the Yahoo Finance to retrieve data.\n"
      ]
    },
    {
      "cell_type": "code",
      "source": [
        "!pip install yfinance"
      ],
      "metadata": {
        "id": "5if55EJUQ0qw"
      },
      "execution_count": null,
      "outputs": []
    },
    {
      "cell_type": "code",
      "metadata": {
        "id": "luU8mZTsHW9x"
      },
      "source": [
        "!pip install yfinance #Install module yfinance"
      ],
      "execution_count": null,
      "outputs": []
    },
    {
      "cell_type": "code",
      "metadata": {
        "colab": {
          "base_uri": "https://localhost:8080/",
          "height": 487
        },
        "id": "mWZ-nirTZHrE",
        "outputId": "ea7d6d55-81f0-41b4-ef1a-4788fd7204d5"
      },
      "source": [
        "import yfinance as yf \n",
        "\n",
        "aapl = yf.Ticker(\"AAPL\")\n",
        "\n",
        "# get stock info\n",
        "print(aapl.info)\n",
        "\n",
        "# get historical market data\n",
        "aapl_table = aapl.history(start=\"2016-01-01\",  end=\"2017-12-31\")\n",
        "aapl_table"
      ],
      "execution_count": null,
      "outputs": [
        {
          "output_type": "stream",
          "name": "stdout",
          "text": [
            "{'zip': '95014', 'sector': 'Technology', 'fullTimeEmployees': 147000, 'longBusinessSummary': 'Apple Inc. designs, manufactures, and markets smartphones, personal computers, tablets, wearables, and accessories worldwide. It also sells various related services. The company offers iPhone, a line of smartphones; Mac, a line of personal computers; iPad, a line of multi-purpose tablets; and wearables, home, and accessories comprising AirPods, Apple TV, Apple Watch, Beats products, HomePod, iPod touch, and other Apple-branded and third-party accessories. It also provides AppleCare support services; cloud services store services; and operates various platforms, including the App Store, that allow customers to discover and download applications and digital content, such as books, music, video, games, and podcasts. In addition, the company offers various services, such as Apple Arcade, a game subscription service; Apple Music, which offers users a curated listening experience with on-demand radio stations; Apple News+, a subscription news and magazine service; Apple TV+, which offers exclusive original content; Apple Card, a co-branded credit card; and Apple Pay, a cashless payment service, as well as licenses its intellectual property. The company serves consumers, and small and mid-sized businesses; and the education, enterprise, and government markets. It sells and delivers third-party applications for its products through the App Store. The company also sells its products through its retail and online stores, and direct sales force; and third-party cellular network carriers, wholesalers, retailers, and resellers. Apple Inc. was founded in 1977 and is headquartered in Cupertino, California.', 'city': 'Cupertino', 'phone': '408-996-1010', 'state': 'CA', 'country': 'United States', 'companyOfficers': [], 'website': 'http://www.apple.com', 'maxAge': 1, 'address1': 'One Apple Park Way', 'industry': 'Consumer Electronics', 'ebitdaMargins': 0.31955, 'profitMargins': 0.25004, 'grossMargins': 0.41005, 'operatingCashflow': 104414003200, 'revenueGrowth': 0.364, 'operatingMargins': 0.28788, 'ebitda': 110934999040, 'targetLowPrice': 132, 'recommendationKey': 'buy', 'grossProfits': 104956000000, 'freeCashflow': 80625876992, 'targetMedianPrice': 170, 'currentPrice': 148.36, 'earningsGrowth': 1, 'currentRatio': 1.062, 'returnOnAssets': 0.19302, 'numberOfAnalystOpinions': 40, 'targetMeanPrice': 168.89, 'debtToEquity': 210.782, 'returnOnEquity': 1.27125, 'targetHighPrice': 190, 'totalCash': 61696000000, 'totalDebt': 135491002368, 'totalRevenue': 347155005440, 'totalCashPerShare': 3.732, 'financialCurrency': 'USD', 'revenuePerShare': 20.61, 'quickRatio': 0.887, 'recommendationMean': 1.8, 'exchange': 'NMS', 'shortName': 'Apple Inc.', 'longName': 'Apple Inc.', 'exchangeTimezoneName': 'America/New_York', 'exchangeTimezoneShortName': 'EDT', 'isEsgPopulated': False, 'gmtOffSetMilliseconds': '-14400000', 'quoteType': 'EQUITY', 'symbol': 'AAPL', 'messageBoardId': 'finmb_24937', 'market': 'us_market', 'annualHoldingsTurnover': None, 'enterpriseToRevenue': 7.293, 'beta3Year': None, 'enterpriseToEbitda': 22.821, '52WeekChange': 0.29239464, 'morningStarRiskRating': None, 'forwardEps': 5.68, 'revenueQuarterlyGrowth': None, 'sharesOutstanding': 16530199552, 'fundInceptionDate': None, 'annualReportExpenseRatio': None, 'totalAssets': None, 'bookValue': 3.882, 'sharesShort': 101107412, 'sharesPercentSharesOut': 0.0061000003, 'fundFamily': None, 'lastFiscalYearEnd': 1601078400, 'heldPercentInstitutions': 0.58671004, 'netIncomeToCommon': 86801997824, 'trailingEps': 5.108, 'lastDividendValue': 0.22, 'SandP52WeekChange': 0.33635402, 'priceToBook': 38.217415, 'heldPercentInsiders': 0.00072999997, 'nextFiscalYearEnd': 1664150400, 'yield': None, 'mostRecentQuarter': 1624665600, 'shortRatio': 1.18, 'sharesShortPreviousMonthDate': 1630368000, 'floatShares': 16513139929, 'beta': 1.222222, 'enterpriseValue': 2531665379328, 'priceHint': 2, 'threeYearAverageReturn': None, 'lastSplitDate': 1598832000, 'lastSplitFactor': '4:1', 'legalType': None, 'lastDividendDate': 1628208000, 'morningStarOverallRating': None, 'earningsQuarterlyGrowth': 0.932, 'priceToSalesTrailing12Months': 7.064338, 'dateShortInterest': 1632960000, 'pegRatio': 1.34, 'ytdReturn': None, 'forwardPE': 26.119719, 'lastCapGain': None, 'shortPercentOfFloat': 0.0061000003, 'sharesShortPriorMonth': 96838699, 'impliedSharesOutstanding': None, 'category': None, 'fiveYearAverageReturn': None, 'previousClose': 148.69, 'regularMarketOpen': 148.68, 'twoHundredDayAverage': 139.49467, 'trailingAnnualDividendYield': 0.0056157103, 'payoutRatio': 0.16309999, 'volume24Hr': None, 'regularMarketDayHigh': 149.37, 'navPrice': None, 'averageDailyVolume10Day': 68088783, 'regularMarketPreviousClose': 148.69, 'fiftyDayAverage': 145.9303, 'trailingAnnualDividendRate': 0.835, 'open': 148.68, 'toCurrency': None, 'averageVolume10days': 68088783, 'expireDate': None, 'algorithm': None, 'dividendRate': 0.88, 'exDividendDate': 1628208000, 'circulatingSupply': None, 'startDate': None, 'regularMarketDayLow': 147.92, 'currency': 'USD', 'trailingPE': 29.044638, 'regularMarketVolume': 10036145, 'lastMarket': None, 'maxSupply': None, 'openInterest': None, 'marketCap': 2452420296704, 'volumeAllCurrencies': None, 'strikePrice': None, 'averageVolume': 75838454, 'dayLow': 147.92, 'ask': 148.39, 'askSize': 1200, 'volume': 10036145, 'fiftyTwoWeekHigh': 157.26, 'fromCurrency': None, 'fiveYearAvgDividendYield': 1.24, 'fiftyTwoWeekLow': 107.32, 'bid': 148.38, 'tradeable': False, 'dividendYield': 0.0058999998, 'bidSize': 900, 'dayHigh': 149.37, 'regularMarketPrice': 148.36, 'preMarketPrice': 148.69, 'logo_url': 'https://logo.clearbit.com/apple.com'}\n"
          ]
        },
        {
          "output_type": "execute_result",
          "data": {
            "text/html": [
              "<div>\n",
              "<style scoped>\n",
              "    .dataframe tbody tr th:only-of-type {\n",
              "        vertical-align: middle;\n",
              "    }\n",
              "\n",
              "    .dataframe tbody tr th {\n",
              "        vertical-align: top;\n",
              "    }\n",
              "\n",
              "    .dataframe thead th {\n",
              "        text-align: right;\n",
              "    }\n",
              "</style>\n",
              "<table border=\"1\" class=\"dataframe\">\n",
              "  <thead>\n",
              "    <tr style=\"text-align: right;\">\n",
              "      <th></th>\n",
              "      <th>Open</th>\n",
              "      <th>High</th>\n",
              "      <th>Low</th>\n",
              "      <th>Close</th>\n",
              "      <th>Volume</th>\n",
              "      <th>Dividends</th>\n",
              "      <th>Stock Splits</th>\n",
              "    </tr>\n",
              "    <tr>\n",
              "      <th>Date</th>\n",
              "      <th></th>\n",
              "      <th></th>\n",
              "      <th></th>\n",
              "      <th></th>\n",
              "      <th></th>\n",
              "      <th></th>\n",
              "      <th></th>\n",
              "    </tr>\n",
              "  </thead>\n",
              "  <tbody>\n",
              "    <tr>\n",
              "      <th>2016-01-04</th>\n",
              "      <td>23.655163</td>\n",
              "      <td>24.291439</td>\n",
              "      <td>23.514536</td>\n",
              "      <td>24.286827</td>\n",
              "      <td>270597600</td>\n",
              "      <td>0.0</td>\n",
              "      <td>0</td>\n",
              "    </tr>\n",
              "    <tr>\n",
              "      <th>2016-01-05</th>\n",
              "      <td>24.379045</td>\n",
              "      <td>24.402098</td>\n",
              "      <td>23.609059</td>\n",
              "      <td>23.678219</td>\n",
              "      <td>223164000</td>\n",
              "      <td>0.0</td>\n",
              "      <td>0</td>\n",
              "    </tr>\n",
              "    <tr>\n",
              "      <th>2016-01-06</th>\n",
              "      <td>23.182573</td>\n",
              "      <td>23.599842</td>\n",
              "      <td>23.023505</td>\n",
              "      <td>23.214848</td>\n",
              "      <td>273829600</td>\n",
              "      <td>0.0</td>\n",
              "      <td>0</td>\n",
              "    </tr>\n",
              "    <tr>\n",
              "      <th>2016-01-07</th>\n",
              "      <td>22.749158</td>\n",
              "      <td>23.083433</td>\n",
              "      <td>22.230456</td>\n",
              "      <td>22.235065</td>\n",
              "      <td>324377600</td>\n",
              "      <td>0.0</td>\n",
              "      <td>0</td>\n",
              "    </tr>\n",
              "    <tr>\n",
              "      <th>2016-01-08</th>\n",
              "      <td>22.719195</td>\n",
              "      <td>22.848294</td>\n",
              "      <td>22.306538</td>\n",
              "      <td>22.352644</td>\n",
              "      <td>283192000</td>\n",
              "      <td>0.0</td>\n",
              "      <td>0</td>\n",
              "    </tr>\n",
              "    <tr>\n",
              "      <th>...</th>\n",
              "      <td>...</td>\n",
              "      <td>...</td>\n",
              "      <td>...</td>\n",
              "      <td>...</td>\n",
              "      <td>...</td>\n",
              "      <td>...</td>\n",
              "      <td>...</td>\n",
              "    </tr>\n",
              "    <tr>\n",
              "      <th>2017-12-22</th>\n",
              "      <td>41.827756</td>\n",
              "      <td>42.004953</td>\n",
              "      <td>41.784656</td>\n",
              "      <td>41.906776</td>\n",
              "      <td>65397600</td>\n",
              "      <td>0.0</td>\n",
              "      <td>0</td>\n",
              "    </tr>\n",
              "    <tr>\n",
              "      <th>2017-12-26</th>\n",
              "      <td>40.898682</td>\n",
              "      <td>41.059116</td>\n",
              "      <td>40.630492</td>\n",
              "      <td>40.843609</td>\n",
              "      <td>132742000</td>\n",
              "      <td>0.0</td>\n",
              "      <td>0</td>\n",
              "    </tr>\n",
              "    <tr>\n",
              "      <th>2017-12-27</th>\n",
              "      <td>40.731054</td>\n",
              "      <td>40.893880</td>\n",
              "      <td>40.637667</td>\n",
              "      <td>40.850780</td>\n",
              "      <td>85992800</td>\n",
              "      <td>0.0</td>\n",
              "      <td>0</td>\n",
              "    </tr>\n",
              "    <tr>\n",
              "      <th>2017-12-28</th>\n",
              "      <td>40.946572</td>\n",
              "      <td>41.150109</td>\n",
              "      <td>40.822055</td>\n",
              "      <td>40.965729</td>\n",
              "      <td>65920800</td>\n",
              "      <td>0.0</td>\n",
              "      <td>0</td>\n",
              "    </tr>\n",
              "    <tr>\n",
              "      <th>2017-12-29</th>\n",
              "      <td>40.831625</td>\n",
              "      <td>40.848385</td>\n",
              "      <td>40.520335</td>\n",
              "      <td>40.522728</td>\n",
              "      <td>103999600</td>\n",
              "      <td>0.0</td>\n",
              "      <td>0</td>\n",
              "    </tr>\n",
              "  </tbody>\n",
              "</table>\n",
              "<p>503 rows × 7 columns</p>\n",
              "</div>"
            ],
            "text/plain": [
              "                 Open       High        Low  ...     Volume  Dividends  Stock Splits\n",
              "Date                                         ...                                    \n",
              "2016-01-04  23.655163  24.291439  23.514536  ...  270597600        0.0             0\n",
              "2016-01-05  24.379045  24.402098  23.609059  ...  223164000        0.0             0\n",
              "2016-01-06  23.182573  23.599842  23.023505  ...  273829600        0.0             0\n",
              "2016-01-07  22.749158  23.083433  22.230456  ...  324377600        0.0             0\n",
              "2016-01-08  22.719195  22.848294  22.306538  ...  283192000        0.0             0\n",
              "...               ...        ...        ...  ...        ...        ...           ...\n",
              "2017-12-22  41.827756  42.004953  41.784656  ...   65397600        0.0             0\n",
              "2017-12-26  40.898682  41.059116  40.630492  ...  132742000        0.0             0\n",
              "2017-12-27  40.731054  40.893880  40.637667  ...   85992800        0.0             0\n",
              "2017-12-28  40.946572  41.150109  40.822055  ...   65920800        0.0             0\n",
              "2017-12-29  40.831625  40.848385  40.520335  ...  103999600        0.0             0\n",
              "\n",
              "[503 rows x 7 columns]"
            ]
          },
          "metadata": {},
          "execution_count": 2
        }
      ]
    },
    {
      "cell_type": "code",
      "source": [
        "import yfinance as yf #Import library yfinance with the name yf\n",
        "\n",
        "fbok = yf.Ticker(\"FB\") #Set finantial data to Facebook\n",
        "\n",
        "print(fbok.info) #Retrieve finantial data of Facebook\n",
        "\n",
        "#Get facebook market data from 2017-01-01 until 2018-12-31\n",
        "fbok_table = fbok.history(start=\"2017-01-01\",end=\"2018-12-31\")\n",
        "fbok_table #Show Pandas DataFrame fbok_table"
      ],
      "metadata": {
        "colab": {
          "base_uri": "https://localhost:8080/",
          "height": 492
        },
        "id": "TzWuXUpDRF2H",
        "outputId": "c93731e1-e91f-441e-8a1d-b8ed32336e90"
      },
      "execution_count": null,
      "outputs": [
        {
          "output_type": "stream",
          "name": "stdout",
          "text": [
            "{'zip': '94025', 'sector': 'Communication Services', 'fullTimeEmployees': 71970, 'longBusinessSummary': \"Meta Platforms, Inc. develops products that enable people to connect and share with friends and family through mobile devices, personal computers, virtual reality headsets, wearables, and in-home devices worldwide. It operates in two segments, Family of Apps and Reality Labs. The Family of Apps segment's products include Facebook, which enables people to share, discover, and connect with interests; Instagram, a community for sharing photos, videos, and private messages, as well as feed, stories, reels, video, live, and shops; Messenger, a messaging application for people to connect with friends, family, groups, and businesses across platforms and devices through chat, audio and video calls, and rooms; and WhatsApp, a messaging application that is used by people and businesses to communicate and transact privately. The Reality Labs segment provides augmented and virtual reality related products comprising virtual reality hardware, software, and content that help people feel connected, anytime, and anywhere. The company was formerly known as Facebook, Inc. and changed its name to Meta Platforms, Inc. in October 2021. Meta Platforms, Inc. was incorporated in 2004 and is headquartered in Menlo Park, California.\", 'city': 'Menlo Park', 'phone': '650 543 4800', 'state': 'CA', 'country': 'United States', 'companyOfficers': [], 'website': 'https://investor.fb.com', 'maxAge': 1, 'address1': '1601 Willow Road', 'industry': 'Internet Content & Information', 'ebitdaMargins': 0.46401, 'profitMargins': 0.33383998, 'grossMargins': 0.80794, 'operatingCashflow': 57683001344, 'revenueGrowth': 0.199, 'operatingMargins': 0.39645, 'ebitda': 54720000000, 'targetLowPrice': 220, 'recommendationKey': 'buy', 'grossProfits': 95280000000, 'freeCashflow': 28807624704, 'targetMedianPrice': 338, 'currentPrice': 203.63, 'earningsGrowth': -0.052, 'currentRatio': 3.154, 'returnOnAssets': 0.17965001, 'numberOfAnalystOpinions': 54, 'targetMeanPrice': 324.22, 'debtToEquity': 11.574, 'returnOnEquity': 0.31102, 'targetHighPrice': 466, 'totalCash': 47998001152, 'totalDebt': 14453999616, 'totalRevenue': 117929000960, 'totalCashPerShare': 17.634, 'financialCurrency': 'USD', 'revenuePerShare': 41.893, 'quickRatio': 2.935, 'recommendationMean': 2.1, 'exchange': 'NMS', 'shortName': 'Meta Platforms, Inc.', 'longName': 'Meta Platforms, Inc.', 'exchangeTimezoneName': 'America/New_York', 'exchangeTimezoneShortName': 'EDT', 'isEsgPopulated': False, 'gmtOffSetMilliseconds': '-14400000', 'quoteType': 'EQUITY', 'symbol': 'FB', 'messageBoardId': 'finmb_20765463', 'market': 'us_market', 'annualHoldingsTurnover': None, 'enterpriseToRevenue': 4.148, 'beta3Year': None, 'enterpriseToEbitda': 8.939, '52WeekChange': -0.32386184, 'morningStarRiskRating': None, 'forwardEps': 14.47, 'revenueQuarterlyGrowth': None, 'sharesOutstanding': 2309080064, 'fundInceptionDate': None, 'annualReportExpenseRatio': None, 'totalAssets': None, 'bookValue': 44.299, 'sharesShort': 31207683, 'sharesPercentSharesOut': 0.0115, 'fundFamily': None, 'lastFiscalYearEnd': 1640908800, 'heldPercentInstitutions': 0.79182, 'netIncomeToCommon': 39369998336, 'trailingEps': 13.77, 'lastDividendValue': None, 'SandP52WeekChange': 0.072551966, 'priceToBook': 4.596718, 'heldPercentInsiders': 0.00532, 'nextFiscalYearEnd': 1703980800, 'yield': None, 'mostRecentQuarter': 1640908800, 'shortRatio': 0.56, 'sharesShortPreviousMonthDate': 1643587200, 'floatShares': 2290868012, 'beta': 1.387303, 'enterpriseValue': 489150513152, 'priceHint': 2, 'threeYearAverageReturn': None, 'lastSplitDate': None, 'lastSplitFactor': None, 'legalType': None, 'lastDividendDate': None, 'morningStarOverallRating': None, 'earningsQuarterlyGrowth': -0.083, 'priceToSalesTrailing12Months': 4.7247124, 'dateShortInterest': 1646006400, 'pegRatio': 0.82, 'ytdReturn': None, 'forwardPE': 14.072564, 'lastCapGain': None, 'shortPercentOfFloat': 0.0136, 'sharesShortPriorMonth': 24543197, 'impliedSharesOutstanding': 0, 'category': None, 'fiveYearAverageReturn': None, 'previousClose': 192.03, 'regularMarketOpen': 194.7, 'twoHundredDayAverage': 322.9025, 'trailingAnnualDividendYield': 0, 'payoutRatio': 0, 'volume24Hr': None, 'regularMarketDayHigh': 203.73, 'navPrice': None, 'averageDailyVolume10Day': 31901790, 'regularMarketPreviousClose': 192.03, 'fiftyDayAverage': 257.6164, 'trailingAnnualDividendRate': 0, 'open': 194.7, 'toCurrency': None, 'averageVolume10days': 31901790, 'expireDate': None, 'algorithm': None, 'dividendRate': None, 'exDividendDate': None, 'circulatingSupply': None, 'startDate': None, 'regularMarketDayLow': 194.65, 'currency': 'USD', 'trailingPE': 14.787945, 'regularMarketVolume': 40500765, 'lastMarket': None, 'maxSupply': None, 'openInterest': None, 'marketCap': 557180583936, 'volumeAllCurrencies': None, 'strikePrice': None, 'averageVolume': 34580276, 'dayLow': 194.65, 'ask': 203.91, 'askSize': 1000, 'volume': 40500765, 'fiftyTwoWeekHigh': 384.33, 'fromCurrency': None, 'fiveYearAvgDividendYield': None, 'fiftyTwoWeekLow': 185.82, 'bid': 203.13, 'tradeable': False, 'dividendYield': None, 'bidSize': 1000, 'dayHigh': 203.73, 'regularMarketPrice': 203.63, 'preMarketPrice': 194.46, 'logo_url': 'https://logo.clearbit.com/investor.fb.com', 'trailingPegRatio': 1.1424}\n"
          ]
        },
        {
          "output_type": "execute_result",
          "data": {
            "text/plain": [
              "                  Open        High         Low       Close    Volume  \\\n",
              "Date                                                                   \n",
              "2017-01-03  116.029999  117.839996  115.510002  116.860001  20663900   \n",
              "2017-01-04  117.550003  119.660004  117.290001  118.690002  19630900   \n",
              "2017-01-05  118.860001  120.949997  118.320000  120.669998  19492200   \n",
              "2017-01-06  120.980003  123.879997  120.029999  123.410004  28545300   \n",
              "2017-01-09  123.550003  125.430000  123.040001  124.900002  22880400   \n",
              "...                ...         ...         ...         ...       ...   \n",
              "2018-12-21  133.389999  134.899994  123.419998  124.949997  56901500   \n",
              "2018-12-24  123.099998  129.740005  123.019997  124.059998  22066000   \n",
              "2018-12-26  126.000000  134.240005  125.889999  134.179993  39723400   \n",
              "2018-12-27  132.440002  134.990005  129.669998  134.520004  31202500   \n",
              "2018-12-28  135.339996  135.919998  132.199997  133.199997  22627600   \n",
              "\n",
              "            Dividends  Stock Splits  \n",
              "Date                                 \n",
              "2017-01-03          0             0  \n",
              "2017-01-04          0             0  \n",
              "2017-01-05          0             0  \n",
              "2017-01-06          0             0  \n",
              "2017-01-09          0             0  \n",
              "...               ...           ...  \n",
              "2018-12-21          0             0  \n",
              "2018-12-24          0             0  \n",
              "2018-12-26          0             0  \n",
              "2018-12-27          0             0  \n",
              "2018-12-28          0             0  \n",
              "\n",
              "[501 rows x 7 columns]"
            ],
            "text/html": [
              "\n",
              "  <div id=\"df-43f188fa-a816-4398-ae32-e0411420c833\">\n",
              "    <div class=\"colab-df-container\">\n",
              "      <div>\n",
              "<style scoped>\n",
              "    .dataframe tbody tr th:only-of-type {\n",
              "        vertical-align: middle;\n",
              "    }\n",
              "\n",
              "    .dataframe tbody tr th {\n",
              "        vertical-align: top;\n",
              "    }\n",
              "\n",
              "    .dataframe thead th {\n",
              "        text-align: right;\n",
              "    }\n",
              "</style>\n",
              "<table border=\"1\" class=\"dataframe\">\n",
              "  <thead>\n",
              "    <tr style=\"text-align: right;\">\n",
              "      <th></th>\n",
              "      <th>Open</th>\n",
              "      <th>High</th>\n",
              "      <th>Low</th>\n",
              "      <th>Close</th>\n",
              "      <th>Volume</th>\n",
              "      <th>Dividends</th>\n",
              "      <th>Stock Splits</th>\n",
              "    </tr>\n",
              "    <tr>\n",
              "      <th>Date</th>\n",
              "      <th></th>\n",
              "      <th></th>\n",
              "      <th></th>\n",
              "      <th></th>\n",
              "      <th></th>\n",
              "      <th></th>\n",
              "      <th></th>\n",
              "    </tr>\n",
              "  </thead>\n",
              "  <tbody>\n",
              "    <tr>\n",
              "      <th>2017-01-03</th>\n",
              "      <td>116.029999</td>\n",
              "      <td>117.839996</td>\n",
              "      <td>115.510002</td>\n",
              "      <td>116.860001</td>\n",
              "      <td>20663900</td>\n",
              "      <td>0</td>\n",
              "      <td>0</td>\n",
              "    </tr>\n",
              "    <tr>\n",
              "      <th>2017-01-04</th>\n",
              "      <td>117.550003</td>\n",
              "      <td>119.660004</td>\n",
              "      <td>117.290001</td>\n",
              "      <td>118.690002</td>\n",
              "      <td>19630900</td>\n",
              "      <td>0</td>\n",
              "      <td>0</td>\n",
              "    </tr>\n",
              "    <tr>\n",
              "      <th>2017-01-05</th>\n",
              "      <td>118.860001</td>\n",
              "      <td>120.949997</td>\n",
              "      <td>118.320000</td>\n",
              "      <td>120.669998</td>\n",
              "      <td>19492200</td>\n",
              "      <td>0</td>\n",
              "      <td>0</td>\n",
              "    </tr>\n",
              "    <tr>\n",
              "      <th>2017-01-06</th>\n",
              "      <td>120.980003</td>\n",
              "      <td>123.879997</td>\n",
              "      <td>120.029999</td>\n",
              "      <td>123.410004</td>\n",
              "      <td>28545300</td>\n",
              "      <td>0</td>\n",
              "      <td>0</td>\n",
              "    </tr>\n",
              "    <tr>\n",
              "      <th>2017-01-09</th>\n",
              "      <td>123.550003</td>\n",
              "      <td>125.430000</td>\n",
              "      <td>123.040001</td>\n",
              "      <td>124.900002</td>\n",
              "      <td>22880400</td>\n",
              "      <td>0</td>\n",
              "      <td>0</td>\n",
              "    </tr>\n",
              "    <tr>\n",
              "      <th>...</th>\n",
              "      <td>...</td>\n",
              "      <td>...</td>\n",
              "      <td>...</td>\n",
              "      <td>...</td>\n",
              "      <td>...</td>\n",
              "      <td>...</td>\n",
              "      <td>...</td>\n",
              "    </tr>\n",
              "    <tr>\n",
              "      <th>2018-12-21</th>\n",
              "      <td>133.389999</td>\n",
              "      <td>134.899994</td>\n",
              "      <td>123.419998</td>\n",
              "      <td>124.949997</td>\n",
              "      <td>56901500</td>\n",
              "      <td>0</td>\n",
              "      <td>0</td>\n",
              "    </tr>\n",
              "    <tr>\n",
              "      <th>2018-12-24</th>\n",
              "      <td>123.099998</td>\n",
              "      <td>129.740005</td>\n",
              "      <td>123.019997</td>\n",
              "      <td>124.059998</td>\n",
              "      <td>22066000</td>\n",
              "      <td>0</td>\n",
              "      <td>0</td>\n",
              "    </tr>\n",
              "    <tr>\n",
              "      <th>2018-12-26</th>\n",
              "      <td>126.000000</td>\n",
              "      <td>134.240005</td>\n",
              "      <td>125.889999</td>\n",
              "      <td>134.179993</td>\n",
              "      <td>39723400</td>\n",
              "      <td>0</td>\n",
              "      <td>0</td>\n",
              "    </tr>\n",
              "    <tr>\n",
              "      <th>2018-12-27</th>\n",
              "      <td>132.440002</td>\n",
              "      <td>134.990005</td>\n",
              "      <td>129.669998</td>\n",
              "      <td>134.520004</td>\n",
              "      <td>31202500</td>\n",
              "      <td>0</td>\n",
              "      <td>0</td>\n",
              "    </tr>\n",
              "    <tr>\n",
              "      <th>2018-12-28</th>\n",
              "      <td>135.339996</td>\n",
              "      <td>135.919998</td>\n",
              "      <td>132.199997</td>\n",
              "      <td>133.199997</td>\n",
              "      <td>22627600</td>\n",
              "      <td>0</td>\n",
              "      <td>0</td>\n",
              "    </tr>\n",
              "  </tbody>\n",
              "</table>\n",
              "<p>501 rows × 7 columns</p>\n",
              "</div>\n",
              "      <button class=\"colab-df-convert\" onclick=\"convertToInteractive('df-43f188fa-a816-4398-ae32-e0411420c833')\"\n",
              "              title=\"Convert this dataframe to an interactive table.\"\n",
              "              style=\"display:none;\">\n",
              "        \n",
              "  <svg xmlns=\"http://www.w3.org/2000/svg\" height=\"24px\"viewBox=\"0 0 24 24\"\n",
              "       width=\"24px\">\n",
              "    <path d=\"M0 0h24v24H0V0z\" fill=\"none\"/>\n",
              "    <path d=\"M18.56 5.44l.94 2.06.94-2.06 2.06-.94-2.06-.94-.94-2.06-.94 2.06-2.06.94zm-11 1L8.5 8.5l.94-2.06 2.06-.94-2.06-.94L8.5 2.5l-.94 2.06-2.06.94zm10 10l.94 2.06.94-2.06 2.06-.94-2.06-.94-.94-2.06-.94 2.06-2.06.94z\"/><path d=\"M17.41 7.96l-1.37-1.37c-.4-.4-.92-.59-1.43-.59-.52 0-1.04.2-1.43.59L10.3 9.45l-7.72 7.72c-.78.78-.78 2.05 0 2.83L4 21.41c.39.39.9.59 1.41.59.51 0 1.02-.2 1.41-.59l7.78-7.78 2.81-2.81c.8-.78.8-2.07 0-2.86zM5.41 20L4 18.59l7.72-7.72 1.47 1.35L5.41 20z\"/>\n",
              "  </svg>\n",
              "      </button>\n",
              "      \n",
              "  <style>\n",
              "    .colab-df-container {\n",
              "      display:flex;\n",
              "      flex-wrap:wrap;\n",
              "      gap: 12px;\n",
              "    }\n",
              "\n",
              "    .colab-df-convert {\n",
              "      background-color: #E8F0FE;\n",
              "      border: none;\n",
              "      border-radius: 50%;\n",
              "      cursor: pointer;\n",
              "      display: none;\n",
              "      fill: #1967D2;\n",
              "      height: 32px;\n",
              "      padding: 0 0 0 0;\n",
              "      width: 32px;\n",
              "    }\n",
              "\n",
              "    .colab-df-convert:hover {\n",
              "      background-color: #E2EBFA;\n",
              "      box-shadow: 0px 1px 2px rgba(60, 64, 67, 0.3), 0px 1px 3px 1px rgba(60, 64, 67, 0.15);\n",
              "      fill: #174EA6;\n",
              "    }\n",
              "\n",
              "    [theme=dark] .colab-df-convert {\n",
              "      background-color: #3B4455;\n",
              "      fill: #D2E3FC;\n",
              "    }\n",
              "\n",
              "    [theme=dark] .colab-df-convert:hover {\n",
              "      background-color: #434B5C;\n",
              "      box-shadow: 0px 1px 3px 1px rgba(0, 0, 0, 0.15);\n",
              "      filter: drop-shadow(0px 1px 2px rgba(0, 0, 0, 0.3));\n",
              "      fill: #FFFFFF;\n",
              "    }\n",
              "  </style>\n",
              "\n",
              "      <script>\n",
              "        const buttonEl =\n",
              "          document.querySelector('#df-43f188fa-a816-4398-ae32-e0411420c833 button.colab-df-convert');\n",
              "        buttonEl.style.display =\n",
              "          google.colab.kernel.accessAllowed ? 'block' : 'none';\n",
              "\n",
              "        async function convertToInteractive(key) {\n",
              "          const element = document.querySelector('#df-43f188fa-a816-4398-ae32-e0411420c833');\n",
              "          const dataTable =\n",
              "            await google.colab.kernel.invokeFunction('convertToInteractive',\n",
              "                                                     [key], {});\n",
              "          if (!dataTable) return;\n",
              "\n",
              "          const docLinkHtml = 'Like what you see? Visit the ' +\n",
              "            '<a target=\"_blank\" href=https://colab.research.google.com/notebooks/data_table.ipynb>data table notebook</a>'\n",
              "            + ' to learn more about interactive tables.';\n",
              "          element.innerHTML = '';\n",
              "          dataTable['output_type'] = 'display_data';\n",
              "          await google.colab.output.renderOutput(dataTable, element);\n",
              "          const docLink = document.createElement('div');\n",
              "          docLink.innerHTML = docLinkHtml;\n",
              "          element.appendChild(docLink);\n",
              "        }\n",
              "      </script>\n",
              "    </div>\n",
              "  </div>\n",
              "  "
            ]
          },
          "metadata": {},
          "execution_count": 32
        }
      ]
    },
    {
      "cell_type": "markdown",
      "metadata": {
        "id": "NkFztSYhJyVA"
      },
      "source": [
        "We will create a Series named \"aapl\" whose values are Apple's daily closing prices, which are of course indexed by dates:"
      ]
    },
    {
      "cell_type": "code",
      "metadata": {
        "id": "QDJbOpCeHW91"
      },
      "source": [
        "aapl = aapl_table['Close']['2017']"
      ],
      "execution_count": null,
      "outputs": []
    },
    {
      "cell_type": "code",
      "source": [
        "fbok = fbok_table['Close']['2018'] #Get Facebook daily closing prices in 2018"
      ],
      "metadata": {
        "id": "5JnlsD81R11h"
      },
      "execution_count": null,
      "outputs": []
    },
    {
      "cell_type": "code",
      "metadata": {
        "colab": {
          "base_uri": "https://localhost:8080/"
        },
        "id": "SXfgCQJOHW91",
        "outputId": "3edebb45-f7b8-43b4-c41d-1fb005c5c443"
      },
      "source": [
        "print(aapl)"
      ],
      "execution_count": null,
      "outputs": [
        {
          "output_type": "stream",
          "name": "stdout",
          "text": [
            "Date\n",
            "2017-01-03    27.372364\n",
            "2017-01-04    27.341724\n",
            "2017-01-05    27.480768\n",
            "2017-01-06    27.787132\n",
            "2017-01-09    28.041645\n",
            "                ...    \n",
            "2017-12-22    41.906776\n",
            "2017-12-26    40.843601\n",
            "2017-12-27    40.850777\n",
            "2017-12-28    40.965721\n",
            "2017-12-29    40.522736\n",
            "Name: Close, Length: 251, dtype: float64\n"
          ]
        }
      ]
    },
    {
      "cell_type": "code",
      "source": [
        "print(fbok)"
      ],
      "metadata": {
        "colab": {
          "base_uri": "https://localhost:8080/"
        },
        "id": "DF8ZuZQMSFlA",
        "outputId": "ca4489d8-1b77-41e5-c228-9b45d382adae"
      },
      "execution_count": null,
      "outputs": [
        {
          "output_type": "stream",
          "name": "stdout",
          "text": [
            "Date\n",
            "2018-01-02    181.419998\n",
            "2018-01-03    184.669998\n",
            "2018-01-04    184.330002\n",
            "2018-01-05    186.850006\n",
            "2018-01-08    188.279999\n",
            "                 ...    \n",
            "2018-12-21    124.949997\n",
            "2018-12-24    124.059998\n",
            "2018-12-26    134.179993\n",
            "2018-12-27    134.520004\n",
            "2018-12-28    133.199997\n",
            "Name: Close, Length: 250, dtype: float64\n"
          ]
        }
      ]
    },
    {
      "cell_type": "markdown",
      "metadata": {
        "id": "waUEgBhzKEcA"
      },
      "source": [
        "Recall that we can fetch a specific data point using series['yyyy-mm-dd']. We can also fetch the data in a specific month using series['yyyy-mm']."
      ]
    },
    {
      "cell_type": "code",
      "metadata": {
        "colab": {
          "base_uri": "https://localhost:8080/"
        },
        "id": "2gS50G0zHW92",
        "outputId": "c964a391-f9db-450d-aa01-52e041570c4e"
      },
      "source": [
        "print(aapl['2017-3'])"
      ],
      "execution_count": null,
      "outputs": [
        {
          "output_type": "stream",
          "name": "stdout",
          "text": [
            "Date\n",
            "2017-03-01    33.086281\n",
            "2017-03-02    32.889839\n",
            "2017-03-03    33.083920\n",
            "2017-03-06    32.979778\n",
            "2017-03-07    33.022373\n",
            "2017-03-08    32.899296\n",
            "2017-03-09    32.823563\n",
            "2017-03-10    32.932434\n",
            "2017-03-13    32.946640\n",
            "2017-03-14    32.896942\n",
            "2017-03-15    33.244865\n",
            "2017-03-16    33.299305\n",
            "2017-03-17    33.133617\n",
            "2017-03-20    33.481544\n",
            "2017-03-21    33.098122\n",
            "2017-03-22    33.472084\n",
            "2017-03-23    33.353741\n",
            "2017-03-24    33.287464\n",
            "2017-03-27    33.344276\n",
            "2017-03-28    34.035393\n",
            "2017-03-29    34.111141\n",
            "2017-03-30    34.066158\n",
            "2017-03-31    34.002254\n",
            "Name: Close, dtype: float64\n"
          ]
        }
      ]
    },
    {
      "cell_type": "code",
      "source": [
        "print(fbok['2018-08']) #Print daily Facebook closing prices in August 2018 "
      ],
      "metadata": {
        "colab": {
          "base_uri": "https://localhost:8080/"
        },
        "id": "JWNvmsiESJTo",
        "outputId": "b81b7b0f-c095-4fe2-81db-892efaefd923"
      },
      "execution_count": null,
      "outputs": [
        {
          "output_type": "stream",
          "name": "stdout",
          "text": [
            "Date\n",
            "2018-08-01    171.649994\n",
            "2018-08-02    176.369995\n",
            "2018-08-03    177.779999\n",
            "2018-08-06    185.690002\n",
            "2018-08-07    183.809998\n",
            "2018-08-08    185.179993\n",
            "2018-08-09    183.089996\n",
            "2018-08-10    180.259995\n",
            "2018-08-13    180.050003\n",
            "2018-08-14    181.110001\n",
            "2018-08-15    179.529999\n",
            "2018-08-16    174.699997\n",
            "2018-08-17    173.800003\n",
            "2018-08-20    172.500000\n",
            "2018-08-21    172.619995\n",
            "2018-08-22    173.639999\n",
            "2018-08-23    172.899994\n",
            "2018-08-24    174.649994\n",
            "2018-08-27    177.460007\n",
            "2018-08-28    176.259995\n",
            "2018-08-29    175.899994\n",
            "2018-08-30    177.639999\n",
            "2018-08-31    175.729996\n",
            "Name: Close, dtype: float64\n"
          ]
        }
      ]
    },
    {
      "cell_type": "code",
      "metadata": {
        "colab": {
          "base_uri": "https://localhost:8080/"
        },
        "id": "vpvxGwXtHW92",
        "outputId": "5b1625b9-71e5-4db7-99c4-a4914e3922c2"
      },
      "source": [
        "aapl['2017-2':'2017-4']"
      ],
      "execution_count": null,
      "outputs": [
        {
          "output_type": "execute_result",
          "data": {
            "text/plain": [
              "Date\n",
              "2017-02-01    30.341726\n",
              "2017-02-02    30.289885\n",
              "2017-02-03    30.419493\n",
              "2017-02-06    30.704651\n",
              "2017-02-07    30.996870\n",
              "                ...    \n",
              "2017-04-24    33.997528\n",
              "2017-04-25    34.208179\n",
              "2017-04-26    34.006985\n",
              "2017-04-27    34.033024\n",
              "2017-04-28    33.999889\n",
              "Name: Close, Length: 61, dtype: float64"
            ]
          },
          "metadata": {},
          "execution_count": 89
        }
      ]
    },
    {
      "cell_type": "code",
      "source": [
        "print(fbok['2018-08':'2018-10']) #Print daily Facebook closing prices from August 2018 to October 2018"
      ],
      "metadata": {
        "colab": {
          "base_uri": "https://localhost:8080/"
        },
        "id": "zDYqpA-VSZeo",
        "outputId": "aa40eccd-44ed-4cd9-87e5-ce6fe50f69e9"
      },
      "execution_count": null,
      "outputs": [
        {
          "output_type": "stream",
          "name": "stdout",
          "text": [
            "Date\n",
            "2018-08-01    171.649994\n",
            "2018-08-02    176.369995\n",
            "2018-08-03    177.779999\n",
            "2018-08-06    185.690002\n",
            "2018-08-07    183.809998\n",
            "                 ...    \n",
            "2018-10-25    150.949997\n",
            "2018-10-26    145.369995\n",
            "2018-10-29    142.089996\n",
            "2018-10-30    146.220001\n",
            "2018-10-31    151.789993\n",
            "Name: Close, Length: 65, dtype: float64\n"
          ]
        }
      ]
    },
    {
      "cell_type": "markdown",
      "metadata": {
        "id": "lWwoD39pKNKb"
      },
      "source": [
        ".head(N) and .tail(N) are methods for quickly accessing the first or last N elements."
      ]
    },
    {
      "cell_type": "code",
      "metadata": {
        "colab": {
          "base_uri": "https://localhost:8080/"
        },
        "id": "1eU218ALHW93",
        "outputId": "a5c6f29f-9b4e-45ab-ec16-381ebf0defd3"
      },
      "source": [
        "print(aapl.head(5))\n",
        "print(aapl.tail(10))"
      ],
      "execution_count": null,
      "outputs": [
        {
          "output_type": "stream",
          "name": "stdout",
          "text": [
            "Date\n",
            "2017-01-03    27.372364\n",
            "2017-01-04    27.341724\n",
            "2017-01-05    27.480768\n",
            "2017-01-06    27.787132\n",
            "2017-01-09    28.041645\n",
            "Name: Close, dtype: float64\n",
            "Date\n",
            "2017-12-15    41.657745\n",
            "2017-12-18    42.244392\n",
            "2017-12-19    41.794228\n",
            "2017-12-20    41.748734\n",
            "2017-12-21    41.906776\n",
            "2017-12-22    41.906776\n",
            "2017-12-26    40.843601\n",
            "2017-12-27    40.850777\n",
            "2017-12-28    40.965721\n",
            "2017-12-29    40.522736\n",
            "Name: Close, dtype: float64\n"
          ]
        }
      ]
    },
    {
      "cell_type": "code",
      "source": [
        "print(fbok.head(7)) #Print first seven rows of fbok DataFrame\n",
        "print(fbok.tail(5)) #Print last five rows of fbok DataFrame"
      ],
      "metadata": {
        "colab": {
          "base_uri": "https://localhost:8080/"
        },
        "id": "zlw2pvSwSlG6",
        "outputId": "a179863e-8bcd-4ab7-e22b-222fdc1e980e"
      },
      "execution_count": null,
      "outputs": [
        {
          "output_type": "stream",
          "name": "stdout",
          "text": [
            "Date\n",
            "2018-01-02    181.419998\n",
            "2018-01-03    184.669998\n",
            "2018-01-04    184.330002\n",
            "2018-01-05    186.850006\n",
            "2018-01-08    188.279999\n",
            "2018-01-09    187.869995\n",
            "2018-01-10    187.839996\n",
            "Name: Close, dtype: float64\n",
            "Date\n",
            "2018-12-21    124.949997\n",
            "2018-12-24    124.059998\n",
            "2018-12-26    134.179993\n",
            "2018-12-27    134.520004\n",
            "2018-12-28    133.199997\n",
            "Name: Close, dtype: float64\n"
          ]
        }
      ]
    },
    {
      "cell_type": "markdown",
      "metadata": {
        "id": "IxhKxtj-KQ66"
      },
      "source": [
        "# Resampling\n",
        "**_series.resample(freq)_** is a class called \"DatetimeIndexResampler\" which groups data in a Series object into regular time intervals. The argument \"freq\" determines the length of each interval.\n",
        "\n",
        "**_series.resample.mean()_** is a complete statement that groups data into intervals, and then compute the mean of each interval. For example, if we want to aggregate the daily data into monthly data by mean:"
      ]
    },
    {
      "cell_type": "code",
      "metadata": {
        "colab": {
          "base_uri": "https://localhost:8080/"
        },
        "id": "rAV8NkHkHW93",
        "outputId": "c29d30ec-ab67-43e8-de4f-ccf601869faf"
      },
      "source": [
        "by_month = aapl.resample('M').mean()\n",
        "print(by_month)"
      ],
      "execution_count": null,
      "outputs": [
        {
          "output_type": "stream",
          "name": "stdout",
          "text": [
            "Date\n",
            "2017-01-31    28.178332\n",
            "2017-02-28    31.606276\n",
            "2017-03-31    33.282219\n",
            "2017-04-30    33.819262\n",
            "2017-05-31    36.125686\n",
            "2017-06-30    35.133984\n",
            "2017-07-31    35.245242\n",
            "2017-08-31    37.897228\n",
            "2017-09-30    37.604739\n",
            "2017-10-31    37.654550\n",
            "2017-11-30    41.233914\n",
            "2017-12-31    41.160038\n",
            "Freq: M, Name: Close, dtype: float64\n"
          ]
        }
      ]
    },
    {
      "cell_type": "code",
      "source": [
        "monthly = fbok.resample('M').mean() #Aggregate data by month using the mean of the group\n",
        "print(monthly)"
      ],
      "metadata": {
        "colab": {
          "base_uri": "https://localhost:8080/"
        },
        "id": "WHaATHvxS2Wh",
        "outputId": "86dd86ad-80af-481c-b97c-2e9e2f44ced1"
      },
      "execution_count": null,
      "outputs": [
        {
          "output_type": "stream",
          "name": "stdout",
          "text": [
            "Date\n",
            "2018-01-31    184.962856\n",
            "2018-02-28    180.269473\n",
            "2018-03-31    173.489522\n",
            "2018-04-30    163.810476\n",
            "2018-05-31    182.930000\n",
            "2018-06-30    195.267620\n",
            "2018-07-31    199.967142\n",
            "2018-08-31    177.492172\n",
            "2018-09-30    164.377368\n",
            "2018-10-31    154.187826\n",
            "2018-11-30    141.635715\n",
            "2018-12-31    137.498333\n",
            "Freq: M, Name: Close, dtype: float64\n"
          ]
        }
      ]
    },
    {
      "cell_type": "markdown",
      "metadata": {
        "id": "QDPfVzBEKV6Q"
      },
      "source": [
        "We can also aggregate the data by week:"
      ]
    },
    {
      "cell_type": "code",
      "metadata": {
        "colab": {
          "base_uri": "https://localhost:8080/"
        },
        "id": "aAP3tKkBHW94",
        "outputId": "7a27268b-2052-445d-d0c0-f0d53f680de9"
      },
      "source": [
        "by_week = aapl.resample('W').mean()\n",
        "print(by_week.head())"
      ],
      "execution_count": null,
      "outputs": [
        {
          "output_type": "stream",
          "name": "stdout",
          "text": [
            "Date\n",
            "2017-01-08    27.495497\n",
            "2017-01-15    28.097734\n",
            "2017-01-22    28.266116\n",
            "2017-01-29    28.553982\n",
            "2017-02-05    29.662543\n",
            "Freq: W-SUN, Name: Close, dtype: float64\n"
          ]
        }
      ]
    },
    {
      "cell_type": "code",
      "source": [
        "weekly = fbok.resample('W').mean() #Aggregate data by week using the mean of the group\n",
        "print(weekly.tail(10)) #Print 10 last rows of weekly Pandas Series"
      ],
      "metadata": {
        "colab": {
          "base_uri": "https://localhost:8080/"
        },
        "id": "kChHUYbWTcWU",
        "outputId": "7aeb9d5a-57e4-4b15-9772-6fc21a497cde"
      },
      "execution_count": null,
      "outputs": [
        {
          "output_type": "stream",
          "name": "stdout",
          "text": [
            "Date\n",
            "2018-10-28    150.305997\n",
            "2018-11-04    148.439999\n",
            "2018-11-11    148.595999\n",
            "2018-11-18    142.262003\n",
            "2018-11-25    132.632500\n",
            "2018-12-02    137.485999\n",
            "2018-12-09    139.017498\n",
            "2018-12-16    143.500000\n",
            "2018-12-23    135.088000\n",
            "2018-12-30    131.489998\n",
            "Freq: W-SUN, Name: Close, dtype: float64\n"
          ]
        }
      ]
    },
    {
      "cell_type": "markdown",
      "metadata": {
        "id": "o_MXSVsILoBS"
      },
      "source": [
        "We can also aggregate the data by month with max:"
      ]
    },
    {
      "cell_type": "code",
      "metadata": {
        "colab": {
          "base_uri": "https://localhost:8080/"
        },
        "id": "gn0wqXBTHW95",
        "outputId": "863ffe25-7dff-480c-eda8-ee995ebbd923"
      },
      "source": [
        "aapl.resample('M').max()"
      ],
      "execution_count": null,
      "outputs": [
        {
          "output_type": "execute_result",
          "data": {
            "text/plain": [
              "Date\n",
              "2017-01-31    28.739218\n",
              "2017-02-28    32.451969\n",
              "2017-03-31    34.111141\n",
              "2017-04-30    34.264977\n",
              "2017-05-31    37.099133\n",
              "2017-06-30    36.944649\n",
              "2017-07-31    36.471699\n",
              "2017-08-31    39.129719\n",
              "2017-09-30    39.141655\n",
              "2017-10-31    40.332241\n",
              "2017-11-30    42.050140\n",
              "2017-12-31    42.244392\n",
              "Freq: M, Name: Close, dtype: float64"
            ]
          },
          "metadata": {},
          "execution_count": 93
        }
      ]
    },
    {
      "cell_type": "code",
      "source": [
        "monthly = fbok.resample('M').min() #Aggregate data by month using the smallest of the group\n",
        "print(monthly)"
      ],
      "metadata": {
        "colab": {
          "base_uri": "https://localhost:8080/"
        },
        "id": "sW9w1AfuTxM6",
        "outputId": "1ab333cb-2c9f-4111-beea-d24bf38b3d48"
      },
      "execution_count": null,
      "outputs": [
        {
          "output_type": "stream",
          "name": "stdout",
          "text": [
            "Date\n",
            "2018-01-31    177.600006\n",
            "2018-02-28    171.580002\n",
            "2018-03-31    152.220001\n",
            "2018-04-30    155.100006\n",
            "2018-05-31    173.860001\n",
            "2018-06-30    188.179993\n",
            "2018-07-31    171.059998\n",
            "2018-08-31    171.649994\n",
            "2018-09-30    160.300003\n",
            "2018-10-31    142.089996\n",
            "2018-11-30    131.550003\n",
            "2018-12-31    124.059998\n",
            "Freq: M, Name: Close, dtype: float64\n"
          ]
        }
      ]
    },
    {
      "cell_type": "markdown",
      "metadata": {
        "id": "Z8r46UFlLdAh"
      },
      "source": [
        "We can choose almost any frequency by using the format 'nf', where 'n' is an integer and 'f' is M for month, W for week and D for day."
      ]
    },
    {
      "cell_type": "code",
      "metadata": {
        "colab": {
          "base_uri": "https://localhost:8080/"
        },
        "id": "kdVB_-JFHW96",
        "outputId": "49704fff-b319-4947-b02e-e3f78f6bb972"
      },
      "source": [
        "three_day = aapl.resample('3D').mean()\n",
        "two_week = aapl.resample('2W').mean()\n",
        "two_month = aapl.resample('2M').mean()\n",
        "\n",
        "\n",
        "print(three_day)\n",
        "print(two_week)\n",
        "print(two_month )"
      ],
      "execution_count": null,
      "outputs": [
        {
          "output_type": "stream",
          "name": "stdout",
          "text": [
            "Date\n",
            "2017-01-03    27.398286\n",
            "2017-01-06    27.787132\n",
            "2017-01-09    28.110774\n",
            "2017-01-12    28.078175\n",
            "2017-01-15    28.279665\n",
            "                ...    \n",
            "2017-12-17    42.019310\n",
            "2017-12-20    41.854095\n",
            "2017-12-23          NaN\n",
            "2017-12-26    40.886700\n",
            "2017-12-29    40.522736\n",
            "Freq: 3D, Name: Close, Length: 121, dtype: float64\n",
            "Date\n",
            "2017-01-08    27.495497\n",
            "2017-01-22    28.172571\n",
            "2017-02-05    29.108263\n",
            "2017-02-19    31.516817\n",
            "2017-03-05    32.595556\n",
            "2017-03-19    33.017881\n",
            "2017-04-02    33.625218\n",
            "2017-04-16    33.849726\n",
            "2017-04-30    33.791843\n",
            "2017-05-14    35.697633\n",
            "2017-05-28    36.496181\n",
            "2017-06-11    36.515007\n",
            "2017-06-25    34.529047\n",
            "2017-07-09    34.265135\n",
            "2017-07-23    35.278873\n",
            "2017-08-06    36.272775\n",
            "2017-08-20    37.904119\n",
            "2017-09-03    38.458793\n",
            "2017-09-17    38.282708\n",
            "2017-10-01    36.840876\n",
            "2017-10-15    37.071593\n",
            "2017-10-29    37.757321\n",
            "2017-11-12    41.032237\n",
            "2017-11-26    41.204375\n",
            "2017-12-10    40.867067\n",
            "2017-12-24    41.620866\n",
            "2018-01-07    40.795709\n",
            "Freq: 2W-SUN, Name: Close, dtype: float64\n",
            "Date\n",
            "2017-01-31    28.178332\n",
            "2017-03-31    32.524054\n",
            "2017-05-31    35.056855\n",
            "2017-07-31    35.186964\n",
            "2017-09-30    37.761187\n",
            "2017-11-30    39.402611\n",
            "2018-01-31    41.160038\n",
            "Freq: 2M, Name: Close, dtype: float64\n"
          ]
        }
      ]
    },
    {
      "cell_type": "code",
      "source": [
        "six_day = fbok.resample('6D').mean() #Aggregate data by groups of six days using the mean of the group\n",
        "three_week = fbok.resample('3W').min() #Aggregate data by groups of three weeks using the min of the group\n",
        "four_month = fbok.resample('4M').max() #Aggregate data by groups of four weeks using the max of the group\n",
        "\n",
        "\n",
        "print(six_day)\n",
        "print(three_week)\n",
        "print(four_month )"
      ],
      "metadata": {
        "colab": {
          "base_uri": "https://localhost:8080/"
        },
        "id": "BKB61Fj5T7Lo",
        "outputId": "47f75b26-9ba7-4685-80e8-288d51ac94e4"
      },
      "execution_count": null,
      "outputs": [
        {
          "output_type": "stream",
          "name": "stdout",
          "text": [
            "Date\n",
            "2018-01-02    184.317501\n",
            "2018-01-08    186.225998\n",
            "2018-01-14    179.270000\n",
            "2018-01-20    187.187500\n",
            "2018-01-26    187.497498\n",
            "                 ...    \n",
            "2018-12-04    138.326665\n",
            "2018-12-10    143.500000\n",
            "2018-12-16    135.088000\n",
            "2018-12-22    130.919998\n",
            "2018-12-28    133.199997\n",
            "Freq: 6D, Name: Close, Length: 61, dtype: float64\n",
            "Date\n",
            "2018-01-07    181.419998\n",
            "2018-01-28    177.600006\n",
            "2018-02-18    171.580002\n",
            "2018-03-11    175.940002\n",
            "2018-04-01    152.220001\n",
            "2018-04-22    155.100006\n",
            "2018-05-13    159.690002\n",
            "2018-06-03    182.679993\n",
            "2018-06-24    188.179993\n",
            "2018-07-15    192.729996\n",
            "2018-08-05    171.059998\n",
            "2018-08-26    172.500000\n",
            "2018-09-16    161.360001\n",
            "2018-10-07    157.330002\n",
            "2018-10-28    145.369995\n",
            "2018-11-18    139.529999\n",
            "2018-12-09    131.550003\n",
            "2018-12-30    124.059998\n",
            "Freq: 3W-SUN, Name: Close, dtype: float64\n",
            "Date\n",
            "2018-01-31    190.000000\n",
            "2018-05-31    193.089996\n",
            "2018-09-30    217.500000\n",
            "2019-01-31    162.440002\n",
            "Freq: 4M, Name: Close, dtype: float64\n"
          ]
        }
      ]
    },
    {
      "cell_type": "markdown",
      "metadata": {
        "id": "iy4RqsnwL-Bw"
      },
      "source": [
        "Besides the mean() method, other methods can also be used with the resampler:\n",
        "\n"
      ]
    },
    {
      "cell_type": "code",
      "metadata": {
        "colab": {
          "base_uri": "https://localhost:8080/"
        },
        "id": "DNT8Fx9dHW96",
        "outputId": "8b73ed41-5341-44f2-ffc3-478bd92f73f4"
      },
      "source": [
        "std = aapl.resample('W').std()\n",
        "max = aapl.resample('W').max()\n",
        "min = aapl.resample('W').min()\n",
        "\n",
        "\n",
        "print(std)\n",
        "print(max)\n",
        "print(min)"
      ],
      "execution_count": null,
      "outputs": [
        {
          "output_type": "stream",
          "name": "stdout",
          "text": [
            "Date\n",
            "2017-01-08    0.203368\n",
            "2017-01-15    0.072530\n",
            "2017-01-22    0.025554\n",
            "2017-01-29    0.245288\n",
            "2017-02-05    0.943260\n",
            "2017-02-12    0.252001\n",
            "2017-02-19    0.231394\n",
            "2017-02-26    0.059345\n",
            "2017-03-05    0.340094\n",
            "2017-03-12    0.076284\n",
            "2017-03-19    0.177834\n",
            "2017-03-26    0.157262\n",
            "2017-04-02    0.319806\n",
            "2017-04-09    0.128689\n",
            "2017-04-16    0.212476\n",
            "2017-04-23    0.174672\n",
            "2017-04-30    0.090027\n",
            "2017-05-07    0.235639\n",
            "2017-05-14    0.352980\n",
            "2017-05-21    0.536091\n",
            "2017-05-28    0.060392\n",
            "2017-06-04    0.281225\n",
            "2017-06-11    0.620034\n",
            "2017-06-18    0.382564\n",
            "2017-06-25    0.128893\n",
            "2017-07-02    0.264113\n",
            "2017-07-09    0.158890\n",
            "2017-07-16    0.404281\n",
            "2017-07-23    0.124988\n",
            "2017-07-30    0.384441\n",
            "2017-08-06    0.924388\n",
            "2017-08-13    0.467469\n",
            "2017-08-20    0.435251\n",
            "2017-08-27    0.275762\n",
            "2017-09-03    0.251722\n",
            "2017-09-10    0.381637\n",
            "2017-09-17    0.294141\n",
            "2017-09-24    0.735195\n",
            "2017-10-01    0.354840\n",
            "2017-10-08    0.204857\n",
            "2017-10-15    0.118733\n",
            "2017-10-22    0.517001\n",
            "2017-10-29    0.680452\n",
            "2017-11-05    0.560686\n",
            "2017-11-12    0.190971\n",
            "2017-11-19    0.436199\n",
            "2017-11-26    0.563047\n",
            "2017-12-03    0.427439\n",
            "2017-12-10    0.073130\n",
            "2017-12-17    0.205266\n",
            "2017-12-24    0.194120\n",
            "2017-12-31    0.190390\n",
            "Freq: W-SUN, Name: Close, dtype: float64\n",
            "Date\n",
            "2017-01-08    27.787132\n",
            "2017-01-15    28.220753\n",
            "2017-01-22    28.279665\n",
            "2017-01-29    28.739218\n",
            "2017-02-05    30.419493\n",
            "2017-02-12    31.341911\n",
            "2017-02-19    32.122974\n",
            "2017-02-26    32.451969\n",
            "2017-03-05    33.086281\n",
            "2017-03-12    33.022373\n",
            "2017-03-19    33.299305\n",
            "2017-03-26    33.481544\n",
            "2017-04-02    34.111141\n",
            "2017-04-09    34.264977\n",
            "2017-04-16    33.886284\n",
            "2017-04-23    33.713501\n",
            "2017-04-30    34.208179\n",
            "2017-05-07    35.256695\n",
            "2017-05-14    37.099133\n",
            "2017-05-21    37.004063\n",
            "2017-05-28    36.597664\n",
            "2017-06-04    36.944649\n",
            "2017-06-11    36.925632\n",
            "2017-06-18    34.838963\n",
            "2017-06-25    34.779545\n",
            "2017-07-02    34.658337\n",
            "2017-07-09    34.266190\n",
            "2017-07-16    35.421230\n",
            "2017-07-23    35.891800\n",
            "2017-07-30    36.471699\n",
            "2017-08-06    37.346291\n",
            "2017-08-13    38.277939\n",
            "2017-08-20    38.557095\n",
            "2017-08-27    38.170567\n",
            "2017-09-03    39.141655\n",
            "2017-09-10    38.671623\n",
            "2017-09-17    38.533234\n",
            "2017-09-24    37.872326\n",
            "2017-10-01    36.798645\n",
            "2017-10-08    37.075409\n",
            "2017-10-15    37.457165\n",
            "2017-10-22    38.287479\n",
            "2017-10-29    38.903053\n",
            "2017-11-05    41.157795\n",
            "2017-11-12    42.050140\n",
            "2017-11-19    41.657745\n",
            "2017-11-26    41.897190\n",
            "2017-12-03    41.686470\n",
            "2017-12-10    40.659222\n",
            "2017-12-17    41.657745\n",
            "2017-12-24    42.244392\n",
            "2017-12-31    40.965721\n",
            "Freq: W-SUN, Name: Close, dtype: float64\n",
            "Date\n",
            "2017-01-08    27.341724\n",
            "2017-01-15    28.041645\n",
            "2017-01-22    28.227821\n",
            "2017-01-29    28.272598\n",
            "2017-02-05    28.597816\n",
            "2017-02-12    30.704651\n",
            "2017-02-19    31.547823\n",
            "2017-02-26    32.314690\n",
            "2017-03-05    32.409355\n",
            "2017-03-12    32.823563\n",
            "2017-03-19    32.896942\n",
            "2017-03-26    33.098122\n",
            "2017-04-02    33.344276\n",
            "2017-04-09    33.926514\n",
            "2017-04-16    33.384510\n",
            "2017-04-23    33.296936\n",
            "2017-04-30    33.997528\n",
            "2017-05-07    34.681545\n",
            "2017-05-14    36.215267\n",
            "2017-05-21    35.708805\n",
            "2017-05-28    36.443184\n",
            "2017-06-04    36.305332\n",
            "2017-06-11    35.406971\n",
            "2017-06-18    33.812263\n",
            "2017-06-25    34.463455\n",
            "2017-07-02    34.147358\n",
            "2017-07-09    33.921577\n",
            "2017-07-16    34.475338\n",
            "2017-07-23    35.544815\n",
            "2017-07-30    35.530552\n",
            "2017-08-06    35.347557\n",
            "2017-08-13    37.058720\n",
            "2017-08-20    37.578846\n",
            "2017-08-27    37.509666\n",
            "2017-09-03    38.526081\n",
            "2017-09-10    37.848465\n",
            "2017-09-17    37.764950\n",
            "2017-09-24    36.240326\n",
            "2017-10-01    35.920620\n",
            "2017-10-08    36.619694\n",
            "2017-10-15    37.182777\n",
            "2017-10-22    37.216179\n",
            "2017-10-29    37.261517\n",
            "2017-11-05    39.778702\n",
            "2017-11-12    41.575333\n",
            "2017-11-19    40.486816\n",
            "2017-11-26    40.702312\n",
            "2017-12-03    40.582603\n",
            "2017-12-10    40.470051\n",
            "2017-12-17    41.114185\n",
            "2017-12-24    41.748734\n",
            "2017-12-31    40.522736\n",
            "Freq: W-SUN, Name: Close, dtype: float64\n"
          ]
        }
      ]
    },
    {
      "cell_type": "code",
      "source": [
        "std_month = fbok.resample('M').std() #Aggregate data by month using the standar deviation of the group\n",
        "max_month = fbok.resample('M').max() #Aggregate data by month using the max of the group\n",
        "min_month = fbok.resample('M').min() #Aggregate data by month using the smallest value of the group\n",
        "\n",
        "\n",
        "print(std_month)\n",
        "print(max_month)\n",
        "print(min_month)"
      ],
      "metadata": {
        "colab": {
          "base_uri": "https://localhost:8080/"
        },
        "id": "nPOiPJLnUf9X",
        "outputId": "db97b965-645d-455b-d1b0-3caf813f7b9d"
      },
      "execution_count": null,
      "outputs": [
        {
          "output_type": "stream",
          "name": "stdout",
          "text": [
            "Date\n",
            "2018-01-31     3.768911\n",
            "2018-02-28     5.374294\n",
            "2018-03-31    11.259978\n",
            "2018-04-30     5.814232\n",
            "2018-05-31     4.729699\n",
            "2018-06-30     3.906480\n",
            "2018-07-31    14.218749\n",
            "2018-08-31     4.187375\n",
            "2018-09-30     2.847942\n",
            "2018-10-31     5.419245\n",
            "2018-11-30     6.697734\n",
            "2018-12-31     6.243195\n",
            "Freq: M, Name: Close, dtype: float64\n",
            "Date\n",
            "2018-01-31    190.000000\n",
            "2018-02-28    193.089996\n",
            "2018-03-31    185.229996\n",
            "2018-04-30    174.160004\n",
            "2018-05-31    191.779999\n",
            "2018-06-30    202.000000\n",
            "2018-07-31    217.500000\n",
            "2018-08-31    185.690002\n",
            "2018-09-30    171.160004\n",
            "2018-10-31    162.440002\n",
            "2018-11-30    151.750000\n",
            "2018-12-31    145.009995\n",
            "Freq: M, Name: Close, dtype: float64\n",
            "Date\n",
            "2018-01-31    177.600006\n",
            "2018-02-28    171.580002\n",
            "2018-03-31    152.220001\n",
            "2018-04-30    155.100006\n",
            "2018-05-31    173.860001\n",
            "2018-06-30    188.179993\n",
            "2018-07-31    171.059998\n",
            "2018-08-31    171.649994\n",
            "2018-09-30    160.300003\n",
            "2018-10-31    142.089996\n",
            "2018-11-30    131.550003\n",
            "2018-12-31    124.059998\n",
            "Freq: M, Name: Close, dtype: float64\n"
          ]
        }
      ]
    },
    {
      "cell_type": "markdown",
      "metadata": {
        "id": "uqln0s5DMI3I"
      },
      "source": [
        "Often we want to calculate monthly returns of a stock, based on prices on the last day of each month. To fetch those prices, we use the series.resample.agg() method:"
      ]
    },
    {
      "cell_type": "code",
      "metadata": {
        "colab": {
          "base_uri": "https://localhost:8080/"
        },
        "id": "A6FSYvqbHW97",
        "outputId": "2d8df5ca-cc77-40a4-fe0d-6c80266d3ca7"
      },
      "source": [
        "last_day = aapl.resample('M').agg(lambda x: x[-1]) \n",
        "print(last_day)"
      ],
      "execution_count": null,
      "outputs": [
        {
          "output_type": "stream",
          "name": "stdout",
          "text": [
            "Date\n",
            "2017-01-31    28.597816\n",
            "2017-02-28    32.423561\n",
            "2017-03-31    34.002254\n",
            "2017-04-30    33.999889\n",
            "2017-05-31    36.305332\n",
            "2017-06-30    34.228172\n",
            "2017-07-31    35.347557\n",
            "2017-08-31    39.129719\n",
            "2017-09-30    36.772392\n",
            "2017-10-31    40.332241\n",
            "2017-11-30    41.150097\n",
            "2017-12-31    40.522736\n",
            "Freq: M, Name: Close, dtype: float64\n"
          ]
        }
      ]
    },
    {
      "cell_type": "code",
      "source": [
        "last_day_week = fbok.resample('W').agg(lambda x: x[-1])  #Aggregate data by month using the last day of the week\n",
        "print(last_day_week)"
      ],
      "metadata": {
        "colab": {
          "base_uri": "https://localhost:8080/"
        },
        "id": "3IdbiTbeVEDN",
        "outputId": "69f4a934-8581-491b-d0d4-0833d08c5e2b"
      },
      "execution_count": null,
      "outputs": [
        {
          "output_type": "stream",
          "name": "stdout",
          "text": [
            "Date\n",
            "2018-01-07    186.850006\n",
            "2018-01-14    179.369995\n",
            "2018-01-21    181.289993\n",
            "2018-01-28    190.000000\n",
            "2018-02-04    190.279999\n",
            "2018-02-11    176.110001\n",
            "2018-02-18    177.360001\n",
            "2018-02-25    183.289993\n",
            "2018-03-04    176.619995\n",
            "2018-03-11    185.229996\n",
            "2018-03-18    185.089996\n",
            "2018-03-25    159.389999\n",
            "2018-04-01    159.789993\n",
            "2018-04-08    157.199997\n",
            "2018-04-15    164.520004\n",
            "2018-04-22    166.279999\n",
            "2018-04-29    173.589996\n",
            "2018-05-06    176.610001\n",
            "2018-05-13    186.990005\n",
            "2018-05-20    182.679993\n",
            "2018-05-27    184.919998\n",
            "2018-06-03    193.990005\n",
            "2018-06-10    189.100006\n",
            "2018-06-17    195.850006\n",
            "2018-06-24    201.740005\n",
            "2018-07-01    194.320007\n",
            "2018-07-08    203.229996\n",
            "2018-07-15    207.320007\n",
            "2018-07-22    209.940002\n",
            "2018-07-29    174.889999\n",
            "2018-08-05    177.779999\n",
            "2018-08-12    180.259995\n",
            "2018-08-19    173.800003\n",
            "2018-08-26    174.649994\n",
            "2018-09-02    175.729996\n",
            "2018-09-09    163.039993\n",
            "2018-09-16    162.320007\n",
            "2018-09-23    162.929993\n",
            "2018-09-30    164.460007\n",
            "2018-10-07    157.330002\n",
            "2018-10-14    153.740005\n",
            "2018-10-21    154.050003\n",
            "2018-10-28    145.369995\n",
            "2018-11-04    150.350006\n",
            "2018-11-11    144.960007\n",
            "2018-11-18    139.529999\n",
            "2018-11-25    131.729996\n",
            "2018-12-02    140.610001\n",
            "2018-12-09    137.419998\n",
            "2018-12-16    144.059998\n",
            "2018-12-23    124.949997\n",
            "2018-12-30    133.199997\n",
            "Freq: W-SUN, Name: Close, dtype: float64\n"
          ]
        }
      ]
    },
    {
      "cell_type": "markdown",
      "metadata": {
        "id": "uwomY3aXMR46"
      },
      "source": [
        "Or directly calculate the monthly rates of return using the data for the first day and the last day:"
      ]
    },
    {
      "cell_type": "code",
      "metadata": {
        "colab": {
          "base_uri": "https://localhost:8080/"
        },
        "id": "qK2NMJrNHW96",
        "outputId": "b6ef704f-d164-486d-ad77-4b8391d02e5e"
      },
      "source": [
        "monthly_return = aapl.resample('M').agg(lambda x: x[-1]/x[0] - 1)\n",
        "print(monthly_return)"
      ],
      "execution_count": null,
      "outputs": [
        {
          "output_type": "stream",
          "name": "stdout",
          "text": [
            "Date\n",
            "2017-01-31    0.044770\n",
            "2017-02-28    0.068613\n",
            "2017-03-31    0.027684\n",
            "2017-04-30   -0.000348\n",
            "2017-05-31    0.046463\n",
            "2017-06-30   -0.059799\n",
            "2017-07-31    0.036446\n",
            "2017-08-31    0.097261\n",
            "2017-09-30   -0.060530\n",
            "2017-10-31    0.099018\n",
            "2017-11-30    0.033422\n",
            "2017-12-31   -0.010640\n",
            "Freq: M, Name: Close, dtype: float64\n"
          ]
        }
      ]
    },
    {
      "cell_type": "code",
      "source": [
        "weekly_return = fbok.resample('W').agg(lambda x: x[-1]/x[0] - 1) #Aggregate data by week using the weekly rate\n",
        "print(weekly_return)"
      ],
      "metadata": {
        "colab": {
          "base_uri": "https://localhost:8080/"
        },
        "id": "VycKxJ0UVYhM",
        "outputId": "821b2a8c-5a29-4bcb-f2ae-a082d60285da"
      },
      "execution_count": null,
      "outputs": [
        {
          "output_type": "stream",
          "name": "stdout",
          "text": [
            "Date\n",
            "2018-01-07    0.029931\n",
            "2018-01-14   -0.047323\n",
            "2018-01-21    0.016256\n",
            "2018-01-28    0.024977\n",
            "2018-02-04    0.023121\n",
            "2018-02-11   -0.028412\n",
            "2018-02-18    0.005385\n",
            "2018-02-25    0.041361\n",
            "2018-03-04   -0.044936\n",
            "2018-03-11    0.026774\n",
            "2018-03-18    0.001786\n",
            "2018-03-25   -0.076321\n",
            "2018-04-01   -0.001687\n",
            "2018-04-08    0.011648\n",
            "2018-04-15    0.041727\n",
            "2018-04-22    0.008797\n",
            "2018-04-29    0.046732\n",
            "2018-05-06    0.026802\n",
            "2018-05-13    0.050683\n",
            "2018-05-20   -0.021217\n",
            "2018-05-27    0.002331\n",
            "2018-06-03    0.044417\n",
            "2018-06-10   -0.021627\n",
            "2018-06-17    0.022502\n",
            "2018-06-24    0.017296\n",
            "2018-07-01   -0.010339\n",
            "2018-07-08    0.029743\n",
            "2018-07-15    0.012601\n",
            "2018-07-22    0.013077\n",
            "2018-07-29   -0.170784\n",
            "2018-08-05    0.039284\n",
            "2018-08-12   -0.029242\n",
            "2018-08-19   -0.034713\n",
            "2018-08-26    0.012464\n",
            "2018-09-02   -0.009749\n",
            "2018-09-09   -0.047441\n",
            "2018-09-16   -0.011329\n",
            "2018-09-23    0.014634\n",
            "2018-09-30   -0.005743\n",
            "2018-10-07   -0.031458\n",
            "2018-10-14   -0.022321\n",
            "2018-10-21    0.003452\n",
            "2018-10-28   -0.060796\n",
            "2018-11-04    0.058132\n",
            "2018-11-11   -0.025020\n",
            "2018-11-18   -0.014271\n",
            "2018-11-25    0.001368\n",
            "2018-12-02    0.031016\n",
            "2018-12-09   -0.026012\n",
            "2018-12-16    0.015580\n",
            "2018-12-23   -0.108710\n",
            "2018-12-30    0.073674\n",
            "Freq: W-SUN, Name: Close, dtype: float64\n"
          ]
        }
      ]
    },
    {
      "cell_type": "markdown",
      "metadata": {
        "id": "_DYbMTFWMj8J"
      },
      "source": [
        "Series object also provides us some convenient methods to do some quick calculation."
      ]
    },
    {
      "cell_type": "code",
      "metadata": {
        "colab": {
          "base_uri": "https://localhost:8080/"
        },
        "id": "1Mxc0HwvHW98",
        "outputId": "d3f0a1bf-5cb9-453c-be0c-d672fd27802e"
      },
      "source": [
        "print(monthly_return.mean())\n",
        "print(monthly_return.std())\n",
        "print(monthly_return.max())"
      ],
      "execution_count": null,
      "outputs": [
        {
          "output_type": "stream",
          "name": "stdout",
          "text": [
            "0.02686331860727394\n",
            "0.052258487776588924\n",
            "0.09901841642506737\n"
          ]
        }
      ]
    },
    {
      "cell_type": "code",
      "source": [
        "print(weekly_return.mean()) #Takes A.mean=a_1+a_2+...+a_n\n",
        "print(weekly_return.std()) #Return the standard deviation of all the rows of weekly_return\n",
        "print(weekly_return.max()) #Returns the largest element of weekly_return"
      ],
      "metadata": {
        "colab": {
          "base_uri": "https://localhost:8080/"
        },
        "id": "EF_5Wyn8VwMv",
        "outputId": "97efc9ff-df66-4fcd-f53c-231338f2e0ad"
      },
      "execution_count": null,
      "outputs": [
        {
          "output_type": "stream",
          "name": "stdout",
          "text": [
            "-0.0019595516396697247\n",
            "0.04249598641682211\n",
            "0.07367402522583166\n"
          ]
        }
      ]
    },
    {
      "cell_type": "markdown",
      "metadata": {
        "id": "mn59J5dqMpqX"
      },
      "source": [
        "Another two methods frequently used on Series are .diff() and .pct_change(). The former calculates the difference between consecutive elements, and the latter calculates the percentage change."
      ]
    },
    {
      "cell_type": "code",
      "metadata": {
        "colab": {
          "base_uri": "https://localhost:8080/"
        },
        "id": "DupZTSqqHW99",
        "outputId": "141cb6b9-3a98-4204-b65c-1291020b7745"
      },
      "source": [
        "print(last_day.diff())\n",
        "print(last_day.pct_change())"
      ],
      "execution_count": null,
      "outputs": [
        {
          "output_type": "stream",
          "name": "stdout",
          "text": [
            "Date\n",
            "2017-01-31         NaN\n",
            "2017-02-28    3.825745\n",
            "2017-03-31    1.578693\n",
            "2017-04-30   -0.002365\n",
            "2017-05-31    2.305443\n",
            "2017-06-30   -2.077160\n",
            "2017-07-31    1.119385\n",
            "2017-08-31    3.782162\n",
            "2017-09-30   -2.357327\n",
            "2017-10-31    3.559849\n",
            "2017-11-30    0.817856\n",
            "2017-12-31   -0.627361\n",
            "Freq: M, Name: Close, dtype: float64\n",
            "Date\n",
            "2017-01-31         NaN\n",
            "2017-02-28    0.133778\n",
            "2017-03-31    0.048690\n",
            "2017-04-30   -0.000070\n",
            "2017-05-31    0.067807\n",
            "2017-06-30   -0.057214\n",
            "2017-07-31    0.032704\n",
            "2017-08-31    0.106999\n",
            "2017-09-30   -0.060244\n",
            "2017-10-31    0.096808\n",
            "2017-11-30    0.020278\n",
            "2017-12-31   -0.015246\n",
            "Freq: M, Name: Close, dtype: float64\n"
          ]
        }
      ]
    },
    {
      "cell_type": "code",
      "source": [
        "print(weekly_return.diff()) #Here take weekly_return.diff()=weekly_return[n]-weekly_return[n-1]\n",
        "print(weekly_return.pct_change()) #Here take weekly_return.pct_change()=(weekly_return[n]-weekly_return[n-1])/weekly_return[n]"
      ],
      "metadata": {
        "colab": {
          "base_uri": "https://localhost:8080/"
        },
        "id": "0BgHrA8UWQVY",
        "outputId": "80fcef92-6fa0-4f6d-ee6d-3c410d27ef97"
      },
      "execution_count": null,
      "outputs": [
        {
          "output_type": "stream",
          "name": "stdout",
          "text": [
            "Date\n",
            "2018-01-07         NaN\n",
            "2018-01-14   -0.077254\n",
            "2018-01-21    0.063580\n",
            "2018-01-28    0.008721\n",
            "2018-02-04   -0.001856\n",
            "2018-02-11   -0.051533\n",
            "2018-02-18    0.033797\n",
            "2018-02-25    0.035976\n",
            "2018-03-04   -0.086297\n",
            "2018-03-11    0.071710\n",
            "2018-03-18   -0.024988\n",
            "2018-03-25   -0.078107\n",
            "2018-04-01    0.074634\n",
            "2018-04-08    0.013335\n",
            "2018-04-15    0.030079\n",
            "2018-04-22   -0.032930\n",
            "2018-04-29    0.037935\n",
            "2018-05-06   -0.019929\n",
            "2018-05-13    0.023880\n",
            "2018-05-20   -0.071900\n",
            "2018-05-27    0.023548\n",
            "2018-06-03    0.042086\n",
            "2018-06-10   -0.066044\n",
            "2018-06-17    0.044129\n",
            "2018-06-24   -0.005206\n",
            "2018-07-01   -0.027635\n",
            "2018-07-08    0.040081\n",
            "2018-07-15   -0.017141\n",
            "2018-07-22    0.000476\n",
            "2018-07-29   -0.183861\n",
            "2018-08-05    0.210068\n",
            "2018-08-12   -0.068527\n",
            "2018-08-19   -0.005470\n",
            "2018-08-26    0.047176\n",
            "2018-09-02   -0.022212\n",
            "2018-09-09   -0.037692\n",
            "2018-09-16    0.036112\n",
            "2018-09-23    0.025963\n",
            "2018-09-30   -0.020378\n",
            "2018-10-07   -0.025714\n",
            "2018-10-14    0.009137\n",
            "2018-10-21    0.025773\n",
            "2018-10-28   -0.064248\n",
            "2018-11-04    0.118928\n",
            "2018-11-11   -0.083152\n",
            "2018-11-18    0.010749\n",
            "2018-11-25    0.015639\n",
            "2018-12-02    0.029648\n",
            "2018-12-09   -0.057028\n",
            "2018-12-16    0.041592\n",
            "2018-12-23   -0.124289\n",
            "2018-12-30    0.182384\n",
            "Freq: W-SUN, Name: Close, dtype: float64\n",
            "Date\n",
            "2018-01-07          NaN\n",
            "2018-01-14    -2.581097\n",
            "2018-01-21    -1.343521\n",
            "2018-01-28     0.536439\n",
            "2018-02-04    -0.074321\n",
            "2018-02-11    -2.228859\n",
            "2018-02-18    -1.189537\n",
            "2018-02-25     6.680597\n",
            "2018-03-04    -2.086425\n",
            "2018-03-11    -1.595823\n",
            "2018-03-18    -0.933289\n",
            "2018-03-25   -43.730422\n",
            "2018-04-01    -0.977897\n",
            "2018-04-08    -7.905054\n",
            "2018-04-15     2.582339\n",
            "2018-04-22    -0.789181\n",
            "2018-04-29     4.312288\n",
            "2018-05-06    -0.426465\n",
            "2018-05-13     0.890982\n",
            "2018-05-20    -1.418631\n",
            "2018-05-27    -1.109849\n",
            "2018-06-03    18.057252\n",
            "2018-06-10    -1.486900\n",
            "2018-06-17    -2.040472\n",
            "2018-06-24    -0.231345\n",
            "2018-07-01    -1.597743\n",
            "2018-07-08    -3.876827\n",
            "2018-07-15    -0.576319\n",
            "2018-07-22     0.037768\n",
            "2018-07-29   -14.059569\n",
            "2018-08-05    -1.230025\n",
            "2018-08-12    -1.744374\n",
            "2018-08-19     0.187066\n",
            "2018-08-26    -1.359055\n",
            "2018-09-02    -1.782168\n",
            "2018-09-09     3.866379\n",
            "2018-09-16    -0.761200\n",
            "2018-09-23    -2.291771\n",
            "2018-09-30    -1.392451\n",
            "2018-10-07     4.477313\n",
            "2018-10-14    -0.290442\n",
            "2018-10-21    -1.154666\n",
            "2018-10-28   -18.610231\n",
            "2018-11-04    -1.956185\n",
            "2018-11-11    -1.430399\n",
            "2018-11-18    -0.429634\n",
            "2018-11-25    -1.095879\n",
            "2018-12-02    21.668629\n",
            "2018-12-09    -1.838649\n",
            "2018-12-16    -1.598951\n",
            "2018-12-23    -7.977612\n",
            "2018-12-30    -1.677714\n",
            "Freq: W-SUN, Name: Close, dtype: float64\n"
          ]
        }
      ]
    },
    {
      "cell_type": "markdown",
      "metadata": {
        "id": "RaMAOFepM6Io"
      },
      "source": [
        "Notice that we induced a NaN value while calculating percentage changes i.e. returns.\n",
        "\n",
        "When dealing with NaN values, we usually either removing the data point or fill it with a specific value. Here we fill it with 0:"
      ]
    },
    {
      "cell_type": "code",
      "metadata": {
        "colab": {
          "base_uri": "https://localhost:8080/"
        },
        "id": "-xyLb3A3HW99",
        "outputId": "9831c7d3-abb2-48f4-aaaa-b0451d8a1f53"
      },
      "source": [
        "daily_return = last_day.pct_change()\n",
        "print(daily_return.fillna(0))"
      ],
      "execution_count": null,
      "outputs": [
        {
          "output_type": "stream",
          "name": "stdout",
          "text": [
            "Date\n",
            "2017-01-31    0.000000\n",
            "2017-02-28    0.133778\n",
            "2017-03-31    0.048690\n",
            "2017-04-30   -0.000070\n",
            "2017-05-31    0.067807\n",
            "2017-06-30   -0.057214\n",
            "2017-07-31    0.032704\n",
            "2017-08-31    0.106999\n",
            "2017-09-30   -0.060244\n",
            "2017-10-31    0.096808\n",
            "2017-11-30    0.020278\n",
            "2017-12-31   -0.015246\n",
            "Freq: M, Name: Close, dtype: float64\n"
          ]
        }
      ]
    },
    {
      "cell_type": "code",
      "source": [
        "daily_return_week = last_day_week.pct_change() #Get Percentage change of last_day_week\n",
        "print(daily_return_week.fillna(0)) #Replace NaN values of daily_return_week with 0"
      ],
      "metadata": {
        "colab": {
          "base_uri": "https://localhost:8080/"
        },
        "id": "Zo58oCpnW2rt",
        "outputId": "2fd4bf50-15c7-40dc-ba3e-a33424bd4d60"
      },
      "execution_count": null,
      "outputs": [
        {
          "output_type": "stream",
          "name": "stdout",
          "text": [
            "Date\n",
            "2018-01-07    0.000000\n",
            "2018-01-14   -0.040032\n",
            "2018-01-21    0.010704\n",
            "2018-01-28    0.048045\n",
            "2018-02-04    0.001474\n",
            "2018-02-11   -0.074469\n",
            "2018-02-18    0.007098\n",
            "2018-02-25    0.033435\n",
            "2018-03-04   -0.036390\n",
            "2018-03-11    0.048749\n",
            "2018-03-18   -0.000756\n",
            "2018-03-25   -0.138851\n",
            "2018-04-01    0.002510\n",
            "2018-04-08   -0.016209\n",
            "2018-04-15    0.046565\n",
            "2018-04-22    0.010698\n",
            "2018-04-29    0.043962\n",
            "2018-05-06    0.017397\n",
            "2018-05-13    0.058774\n",
            "2018-05-20   -0.023049\n",
            "2018-05-27    0.012262\n",
            "2018-06-03    0.049048\n",
            "2018-06-10   -0.025207\n",
            "2018-06-17    0.035695\n",
            "2018-06-24    0.030074\n",
            "2018-07-01   -0.036780\n",
            "2018-07-08    0.045852\n",
            "2018-07-15    0.020125\n",
            "2018-07-22    0.012637\n",
            "2018-07-29   -0.166952\n",
            "2018-08-05    0.016525\n",
            "2018-08-12    0.013950\n",
            "2018-08-19   -0.035837\n",
            "2018-08-26    0.004891\n",
            "2018-09-02    0.006184\n",
            "2018-09-09   -0.072213\n",
            "2018-09-16   -0.004416\n",
            "2018-09-23    0.003758\n",
            "2018-09-30    0.009391\n",
            "2018-10-07   -0.043354\n",
            "2018-10-14   -0.022818\n",
            "2018-10-21    0.002016\n",
            "2018-10-28   -0.056345\n",
            "2018-11-04    0.034257\n",
            "2018-11-11   -0.035850\n",
            "2018-11-18   -0.037459\n",
            "2018-11-25   -0.055902\n",
            "2018-12-02    0.067411\n",
            "2018-12-09   -0.022687\n",
            "2018-12-16    0.048319\n",
            "2018-12-23   -0.132653\n",
            "2018-12-30    0.066026\n",
            "Freq: W-SUN, Name: Close, dtype: float64\n"
          ]
        }
      ]
    },
    {
      "cell_type": "markdown",
      "metadata": {
        "id": "BYS10Om1NQVC"
      },
      "source": [
        "Alternatively, we can fill a NaN with the next fitted value. This is called 'backward fill', or 'bfill' in short:"
      ]
    },
    {
      "cell_type": "code",
      "metadata": {
        "colab": {
          "base_uri": "https://localhost:8080/"
        },
        "id": "J513kHeKHW9-",
        "outputId": "3ab13c91-dcf3-46c7-94dd-39acf7616a79"
      },
      "source": [
        "daily_return = last_day.pct_change()\n",
        "print(daily_return.fillna(method = 'bfill'))"
      ],
      "execution_count": null,
      "outputs": [
        {
          "output_type": "stream",
          "name": "stdout",
          "text": [
            "Date\n",
            "2017-01-31    0.133778\n",
            "2017-02-28    0.133778\n",
            "2017-03-31    0.048690\n",
            "2017-04-30   -0.000070\n",
            "2017-05-31    0.067807\n",
            "2017-06-30   -0.057214\n",
            "2017-07-31    0.032704\n",
            "2017-08-31    0.106999\n",
            "2017-09-30   -0.060244\n",
            "2017-10-31    0.096808\n",
            "2017-11-30    0.020278\n",
            "2017-12-31   -0.015246\n",
            "Freq: M, Name: Close, dtype: float64\n"
          ]
        }
      ]
    },
    {
      "cell_type": "code",
      "source": [
        "daily_return_week = last_day_week.pct_change() #Get Percentage change of last_day_week\n",
        "print(daily_return_week.fillna(method='bfill')) #Replace NaN values of daily_return_week with the value before the NaN value  "
      ],
      "metadata": {
        "colab": {
          "base_uri": "https://localhost:8080/"
        },
        "id": "oswL_kV6Xfbm",
        "outputId": "67f0bf96-cf16-43de-b596-892ff066157a"
      },
      "execution_count": null,
      "outputs": [
        {
          "output_type": "stream",
          "name": "stdout",
          "text": [
            "Date\n",
            "2018-01-07   -0.040032\n",
            "2018-01-14   -0.040032\n",
            "2018-01-21    0.010704\n",
            "2018-01-28    0.048045\n",
            "2018-02-04    0.001474\n",
            "2018-02-11   -0.074469\n",
            "2018-02-18    0.007098\n",
            "2018-02-25    0.033435\n",
            "2018-03-04   -0.036390\n",
            "2018-03-11    0.048749\n",
            "2018-03-18   -0.000756\n",
            "2018-03-25   -0.138851\n",
            "2018-04-01    0.002510\n",
            "2018-04-08   -0.016209\n",
            "2018-04-15    0.046565\n",
            "2018-04-22    0.010698\n",
            "2018-04-29    0.043962\n",
            "2018-05-06    0.017397\n",
            "2018-05-13    0.058774\n",
            "2018-05-20   -0.023049\n",
            "2018-05-27    0.012262\n",
            "2018-06-03    0.049048\n",
            "2018-06-10   -0.025207\n",
            "2018-06-17    0.035695\n",
            "2018-06-24    0.030074\n",
            "2018-07-01   -0.036780\n",
            "2018-07-08    0.045852\n",
            "2018-07-15    0.020125\n",
            "2018-07-22    0.012637\n",
            "2018-07-29   -0.166952\n",
            "2018-08-05    0.016525\n",
            "2018-08-12    0.013950\n",
            "2018-08-19   -0.035837\n",
            "2018-08-26    0.004891\n",
            "2018-09-02    0.006184\n",
            "2018-09-09   -0.072213\n",
            "2018-09-16   -0.004416\n",
            "2018-09-23    0.003758\n",
            "2018-09-30    0.009391\n",
            "2018-10-07   -0.043354\n",
            "2018-10-14   -0.022818\n",
            "2018-10-21    0.002016\n",
            "2018-10-28   -0.056345\n",
            "2018-11-04    0.034257\n",
            "2018-11-11   -0.035850\n",
            "2018-11-18   -0.037459\n",
            "2018-11-25   -0.055902\n",
            "2018-12-02    0.067411\n",
            "2018-12-09   -0.022687\n",
            "2018-12-16    0.048319\n",
            "2018-12-23   -0.132653\n",
            "2018-12-30    0.066026\n",
            "Freq: W-SUN, Name: Close, dtype: float64\n"
          ]
        }
      ]
    },
    {
      "cell_type": "markdown",
      "metadata": {
        "id": "bj8QUSgdNepf"
      },
      "source": [
        "As expected, since there is a 'backward fill' method, there must be a 'forward fill' method, or 'ffill' in short. However we can't use it here because the NaN is the first value.\n",
        "\n",
        "We can also simply remove NaN values by **_.dropna()_**"
      ]
    },
    {
      "cell_type": "code",
      "metadata": {
        "colab": {
          "base_uri": "https://localhost:8080/"
        },
        "id": "WG5ux1lqHW9-",
        "outputId": "8de2381f-7731-446b-c31f-be094e559ed3"
      },
      "source": [
        "daily_return = last_day.pct_change()\n",
        "daily_return.dropna()"
      ],
      "execution_count": null,
      "outputs": [
        {
          "output_type": "execute_result",
          "data": {
            "text/plain": [
              "Date\n",
              "2017-02-28    0.133778\n",
              "2017-03-31    0.048690\n",
              "2017-04-30   -0.000070\n",
              "2017-05-31    0.067807\n",
              "2017-06-30   -0.057214\n",
              "2017-07-31    0.032704\n",
              "2017-08-31    0.106999\n",
              "2017-09-30   -0.060244\n",
              "2017-10-31    0.096808\n",
              "2017-11-30    0.020278\n",
              "2017-12-31   -0.015246\n",
              "Freq: M, Name: Close, dtype: float64"
            ]
          },
          "metadata": {},
          "execution_count": 102
        }
      ]
    },
    {
      "cell_type": "code",
      "source": [
        "daily_return_week = last_day_week.pct_change() #Get Percentage change of last_day_week\n",
        "daily_return_week.dropna() #Remove rows with NaN values\n",
        "daily_return_week "
      ],
      "metadata": {
        "colab": {
          "base_uri": "https://localhost:8080/"
        },
        "id": "Ia74IdhYXy-r",
        "outputId": "15bfb43f-3c31-4ec3-edec-e6abae3dedb7"
      },
      "execution_count": null,
      "outputs": [
        {
          "output_type": "execute_result",
          "data": {
            "text/plain": [
              "Date\n",
              "2018-01-07         NaN\n",
              "2018-01-14   -0.040032\n",
              "2018-01-21    0.010704\n",
              "2018-01-28    0.048045\n",
              "2018-02-04    0.001474\n",
              "2018-02-11   -0.074469\n",
              "2018-02-18    0.007098\n",
              "2018-02-25    0.033435\n",
              "2018-03-04   -0.036390\n",
              "2018-03-11    0.048749\n",
              "2018-03-18   -0.000756\n",
              "2018-03-25   -0.138851\n",
              "2018-04-01    0.002510\n",
              "2018-04-08   -0.016209\n",
              "2018-04-15    0.046565\n",
              "2018-04-22    0.010698\n",
              "2018-04-29    0.043962\n",
              "2018-05-06    0.017397\n",
              "2018-05-13    0.058774\n",
              "2018-05-20   -0.023049\n",
              "2018-05-27    0.012262\n",
              "2018-06-03    0.049048\n",
              "2018-06-10   -0.025207\n",
              "2018-06-17    0.035695\n",
              "2018-06-24    0.030074\n",
              "2018-07-01   -0.036780\n",
              "2018-07-08    0.045852\n",
              "2018-07-15    0.020125\n",
              "2018-07-22    0.012637\n",
              "2018-07-29   -0.166952\n",
              "2018-08-05    0.016525\n",
              "2018-08-12    0.013950\n",
              "2018-08-19   -0.035837\n",
              "2018-08-26    0.004891\n",
              "2018-09-02    0.006184\n",
              "2018-09-09   -0.072213\n",
              "2018-09-16   -0.004416\n",
              "2018-09-23    0.003758\n",
              "2018-09-30    0.009391\n",
              "2018-10-07   -0.043354\n",
              "2018-10-14   -0.022818\n",
              "2018-10-21    0.002016\n",
              "2018-10-28   -0.056345\n",
              "2018-11-04    0.034257\n",
              "2018-11-11   -0.035850\n",
              "2018-11-18   -0.037459\n",
              "2018-11-25   -0.055902\n",
              "2018-12-02    0.067411\n",
              "2018-12-09   -0.022687\n",
              "2018-12-16    0.048319\n",
              "2018-12-23   -0.132653\n",
              "2018-12-30    0.066026\n",
              "Freq: W-SUN, Name: Close, dtype: float64"
            ]
          },
          "metadata": {},
          "execution_count": 20
        }
      ]
    },
    {
      "cell_type": "markdown",
      "metadata": {
        "id": "nQH2eBWkNjdC"
      },
      "source": [
        "# DataFrame\n",
        "The **DataFrame** is the most commonly used data structure in Pandas. It is essentially a table, just like an Excel spreadsheet.\n",
        "\n",
        "More precisely, a DataFrame is a collection of Series objects, each of which may contain different data types. A DataFrame can be created from various data types: dictionary, 2-D numpy.ndarray, a Series or another DataFrame.\n",
        "\n",
        "## Create DataFrames\n",
        "The most common method of creating a DataFrame is passing a dictionary:"
      ]
    },
    {
      "cell_type": "code",
      "metadata": {
        "colab": {
          "base_uri": "https://localhost:8080/"
        },
        "id": "vd5Wf1ohHW9-",
        "outputId": "44179e64-8f91-4eac-9d41-bc81dac1603c"
      },
      "source": [
        "import pandas as pd\n",
        "\n",
        "dict = {'AAPL': [143.5, 144.09, 142.73, 144.18, 143.77],'GOOG':[898.7, 911.71, 906.69, 918.59, 926.99],\n",
        "        'IBM':[155.58, 153.67, 152.36, 152.94, 153.49]}\n",
        "data_index = pd.date_range('2017-07-03',periods = 5, freq = 'D')\n",
        "df = pd.DataFrame(dict, index = data_index)\n",
        "print(df)"
      ],
      "execution_count": null,
      "outputs": [
        {
          "output_type": "stream",
          "name": "stdout",
          "text": [
            "              AAPL    GOOG     IBM\n",
            "2017-07-03  143.50  898.70  155.58\n",
            "2017-07-04  144.09  911.71  153.67\n",
            "2017-07-05  142.73  906.69  152.36\n",
            "2017-07-06  144.18  918.59  152.94\n",
            "2017-07-07  143.77  926.99  153.49\n"
          ]
        }
      ]
    },
    {
      "cell_type": "code",
      "source": [
        "import pandas as pd\n",
        "\n",
        "#Define a dictionary\n",
        "dict_ex = {'FB': [243.3, 244.29, 224.73, 234.18, 234.77],'NVDA':[89.7, 91.71, 90.69, 91.59, 92.99],\n",
        "        'BAC':[55.58, 53.67, 52.36, 52.74, 53.49]}\n",
        "#Generate a sequence of 5 dates starting in 2018-07-03 daily\n",
        "data_index = pd.date_range('2018-07-03',periods = 5, freq = 'D')\n",
        "#Make a type cast from dictionary to pandas DataFrame and set row labels as data_index\n",
        "dataframe_ex = pd.DataFrame(dict_ex, index = data_index)\n",
        "print(dataframe_ex)"
      ],
      "metadata": {
        "colab": {
          "base_uri": "https://localhost:8080/"
        },
        "id": "GxvysQAbYDd8",
        "outputId": "2bede0cb-bace-492a-aeae-7a3012044b53"
      },
      "execution_count": null,
      "outputs": [
        {
          "output_type": "stream",
          "name": "stdout",
          "text": [
            "                FB   NVDA    BAC\n",
            "2018-07-03  243.30  89.70  55.58\n",
            "2018-07-04  244.29  91.71  53.67\n",
            "2018-07-05  224.73  90.69  52.36\n",
            "2018-07-06  234.18  91.59  52.74\n",
            "2018-07-07  234.77  92.99  53.49\n"
          ]
        }
      ]
    },
    {
      "cell_type": "markdown",
      "metadata": {
        "id": "0uYmLQTgOPnX"
      },
      "source": [
        "## Manipulating DataFrames\n",
        "We can fetch values in a DataFrame by columns and index. Each column in a DataFrame is essentially a Pandas Series. We can fetch a column by square brackets: **df['column_name']**\n",
        "\n",
        "If a column name contains no spaces, then we can also use df.column_name to fetch a column:"
      ]
    },
    {
      "cell_type": "code",
      "metadata": {
        "colab": {
          "base_uri": "https://localhost:8080/"
        },
        "id": "2pB2f7lBHW9_",
        "outputId": "fd17e613-08f4-470e-981d-727c3ddfb954"
      },
      "source": [
        "df = aapl_table\n",
        "print(df.Close.tail(5))\n",
        "print(df['Volume'].tail(5))"
      ],
      "execution_count": null,
      "outputs": [
        {
          "output_type": "stream",
          "name": "stdout",
          "text": [
            "Date\n",
            "2017-12-22    41.906776\n",
            "2017-12-26    40.843601\n",
            "2017-12-27    40.850777\n",
            "2017-12-28    40.965721\n",
            "2017-12-29    40.522736\n",
            "Name: Close, dtype: float64\n",
            "Date\n",
            "2017-12-22     65397600\n",
            "2017-12-26    132742000\n",
            "2017-12-27     85992800\n",
            "2017-12-28     65920800\n",
            "2017-12-29    103999600\n",
            "Name: Volume, dtype: int64\n"
          ]
        }
      ]
    },
    {
      "cell_type": "code",
      "source": [
        "dataframe_ex = fbok_table #Set dataframe_ex as the content of the variable fbok_table\n",
        "print(dataframe_ex.tail(7)) #Show the 7 last rows of the dataframe\n",
        "print(dataframe_ex['Volume'].tail(5)) #Show the column Volume with its 7 last rows"
      ],
      "metadata": {
        "colab": {
          "base_uri": "https://localhost:8080/"
        },
        "id": "4ZTqwMT4ZXR4",
        "outputId": "86a7f4ea-4fc9-4bdd-870d-a44a08b39d31"
      },
      "execution_count": null,
      "outputs": [
        {
          "output_type": "stream",
          "name": "stdout",
          "text": [
            "                  Open        High         Low       Close    Volume  \\\n",
            "Date                                                                   \n",
            "2018-12-19  141.210007  144.910004  132.500000  133.240005  57404900   \n",
            "2018-12-20  130.699997  135.570007  130.000000  133.399994  40297900   \n",
            "2018-12-21  133.389999  134.899994  123.419998  124.949997  56901500   \n",
            "2018-12-24  123.099998  129.740005  123.019997  124.059998  22066000   \n",
            "2018-12-26  126.000000  134.240005  125.889999  134.179993  39723400   \n",
            "2018-12-27  132.440002  134.990005  129.669998  134.520004  31202500   \n",
            "2018-12-28  135.339996  135.919998  132.199997  133.199997  22627600   \n",
            "\n",
            "            Dividends  Stock Splits  \n",
            "Date                                 \n",
            "2018-12-19          0             0  \n",
            "2018-12-20          0             0  \n",
            "2018-12-21          0             0  \n",
            "2018-12-24          0             0  \n",
            "2018-12-26          0             0  \n",
            "2018-12-27          0             0  \n",
            "2018-12-28          0             0  \n",
            "Date\n",
            "2018-12-21    56901500\n",
            "2018-12-24    22066000\n",
            "2018-12-26    39723400\n",
            "2018-12-27    31202500\n",
            "2018-12-28    22627600\n",
            "Name: Volume, dtype: int64\n"
          ]
        }
      ]
    },
    {
      "cell_type": "markdown",
      "metadata": {
        "id": "z0ugOel9O4-P"
      },
      "source": [
        "All the methods we applied to a Series index such as iloc[], loc[] and resampling methods, can also be applied to a DataFrame:"
      ]
    },
    {
      "cell_type": "code",
      "metadata": {
        "colab": {
          "base_uri": "https://localhost:8080/"
        },
        "id": "_8dfjkedHW9_",
        "outputId": "893c8607-cf18-4e12-a0d5-e697c91ac7c1"
      },
      "source": [
        "aapl_2016 = df['2016']\n",
        "aapl_month = aapl_2016.resample('M').agg(lambda x: x[-1])\n",
        "print(aapl_month)"
      ],
      "execution_count": null,
      "outputs": [
        {
          "output_type": "stream",
          "name": "stdout",
          "text": [
            "                 Open       High        Low  ...     Volume  Dividends  Stock Splits\n",
            "Date                                         ...                                    \n",
            "2016-01-31  21.852388  22.440250  21.750952  ...  257666000        0.0             0\n",
            "2016-02-29  22.450761  22.768308  22.402086  ...  140865200        0.0             0\n",
            "2016-03-31  25.431520  25.473242  25.236819  ...  103553600        0.0             0\n",
            "2016-04-30  21.785529  21.954734  21.442488  ...  274126000        0.0             0\n",
            "2016-05-31  23.226409  23.412967  23.044516  ...  169228800        0.0             0\n",
            "2016-06-30  22.023112  22.333262  21.990464  ...  143345600        0.0             0\n",
            "2016-07-31  24.296780  24.380731  24.177849  ...  110934800        0.0             0\n",
            "2016-08-31  24.773054  24.986412  24.768364  ...  118649600        0.0             0\n",
            "2016-09-30  26.367388  26.580747  26.212645  ...  145516400        0.0             0\n",
            "2016-10-31  26.646396  26.782384  26.540888  ...  105677600        0.0             0\n",
            "2016-11-30  26.300094  26.441492  25.986660  ...  144649200        0.0             0\n",
            "2016-12-31  27.490193  27.619807  27.202683  ...  122345200        0.0             0\n",
            "\n",
            "[12 rows x 7 columns]\n"
          ]
        }
      ]
    },
    {
      "cell_type": "code",
      "source": [
        "fbok_2017 = dataframe_ex['2017'] #Select all the rows of year 2017\n",
        "fbok_monthly = fbok_2017.resample('M').agg(lambda x: x[-1]) #Aggregate data by month using the last day of the week\n",
        "print(fbok_monthly)"
      ],
      "metadata": {
        "colab": {
          "base_uri": "https://localhost:8080/"
        },
        "id": "2Gfk4tnlaKYv",
        "outputId": "49c9b5ad-d243-42dd-87ae-4ac87f5099c2"
      },
      "execution_count": null,
      "outputs": [
        {
          "output_type": "stream",
          "name": "stdout",
          "text": [
            "                  Open        High         Low       Close    Volume  \\\n",
            "Date                                                                   \n",
            "2017-01-31  130.169998  130.660004  129.520004  130.320007  19790500   \n",
            "2017-02-28  136.789993  136.809998  134.750000  135.539993  16112100   \n",
            "2017-03-31  142.309998  142.630005  141.889999  142.050003  11478300   \n",
            "2017-04-30  149.500000  151.529999  149.070007  150.250000  30652200   \n",
            "2017-05-31  152.699997  153.350006  151.089996  151.460007  18023900   \n",
            "2017-06-30  151.899994  151.919998  150.059998  150.979996  17666000   \n",
            "2017-07-31  172.000000  172.720001  168.550003  169.250000  25478900   \n",
            "2017-08-31  170.399994  172.149994  170.059998  171.970001  17226500   \n",
            "2017-09-30  168.830002  171.660004  168.809998  170.869995  15340400   \n",
            "2017-10-31  180.570007  180.800003  178.940002  180.059998  20174200   \n",
            "2017-11-30  176.850006  178.279999  175.199997  177.179993  25307600   \n",
            "2017-12-31  178.000000  178.850006  176.460007  176.460007  10261500   \n",
            "\n",
            "            Dividends  Stock Splits  \n",
            "Date                                 \n",
            "2017-01-31          0             0  \n",
            "2017-02-28          0             0  \n",
            "2017-03-31          0             0  \n",
            "2017-04-30          0             0  \n",
            "2017-05-31          0             0  \n",
            "2017-06-30          0             0  \n",
            "2017-07-31          0             0  \n",
            "2017-08-31          0             0  \n",
            "2017-09-30          0             0  \n",
            "2017-10-31          0             0  \n",
            "2017-11-30          0             0  \n",
            "2017-12-31          0             0  \n"
          ]
        },
        {
          "output_type": "stream",
          "name": "stderr",
          "text": [
            "/usr/local/lib/python3.7/dist-packages/ipykernel_launcher.py:1: FutureWarning: Indexing a DataFrame with a datetimelike index using a single string to slice the rows, like `frame[string]`, is deprecated and will be removed in a future version. Use `frame.loc[string]` instead.\n",
            "  \"\"\"Entry point for launching an IPython kernel.\n"
          ]
        }
      ]
    },
    {
      "cell_type": "markdown",
      "metadata": {
        "id": "CqrbrbFZPTJe"
      },
      "source": [
        "We may select certain columns of a DataFrame using their names:"
      ]
    },
    {
      "cell_type": "code",
      "metadata": {
        "colab": {
          "base_uri": "https://localhost:8080/"
        },
        "id": "7bQGeyCAHW9_",
        "outputId": "7a427233-719f-482d-ec12-28baf91dd1de"
      },
      "source": [
        "aapl_bar = aapl_month[['Open', 'High', 'Low', 'Close']]\n",
        "print(aapl_bar)"
      ],
      "execution_count": null,
      "outputs": [
        {
          "output_type": "stream",
          "name": "stdout",
          "text": [
            "                 Open       High        Low      Close\n",
            "Date                                                  \n",
            "2016-01-31  21.852388  22.440250  21.750952  22.440250\n",
            "2016-02-29  22.450761  22.768308  22.402086  22.411358\n",
            "2016-03-31  25.431520  25.473242  25.236819  25.262316\n",
            "2016-04-30  21.785529  21.954734  21.442488  21.727583\n",
            "2016-05-31  23.226409  23.412967  23.044516  23.287041\n",
            "2016-06-30  22.023112  22.333262  21.990464  22.293619\n",
            "2016-07-31  24.296780  24.380731  24.177849  24.301443\n",
            "2016-08-31  24.773054  24.986412  24.768364  24.876215\n",
            "2016-09-30  26.367388  26.580747  26.212645  26.505720\n",
            "2016-10-31  26.646396  26.782384  26.540888  26.620605\n",
            "2016-11-30  26.300094  26.441492  25.986660  26.045576\n",
            "2016-12-31  27.490193  27.619807  27.202683  27.294592\n"
          ]
        }
      ]
    },
    {
      "cell_type": "code",
      "source": [
        "selected_columns = dataframe_ex[['Volume', 'Low']] #Select only the columns Volume and Low\n",
        "print(selected_columns)"
      ],
      "metadata": {
        "colab": {
          "base_uri": "https://localhost:8080/"
        },
        "id": "SpCu1KW-a_hV",
        "outputId": "1794a47a-8cab-4356-9772-e49aa063fcf2"
      },
      "execution_count": null,
      "outputs": [
        {
          "output_type": "stream",
          "name": "stdout",
          "text": [
            "              Volume         Low\n",
            "Date                            \n",
            "2017-01-03  20663900  115.510002\n",
            "2017-01-04  19630900  117.290001\n",
            "2017-01-05  19492200  118.320000\n",
            "2017-01-06  28545300  120.029999\n",
            "2017-01-09  22880400  123.040001\n",
            "...              ...         ...\n",
            "2018-12-21  56901500  123.419998\n",
            "2018-12-24  22066000  123.019997\n",
            "2018-12-26  39723400  125.889999\n",
            "2018-12-27  31202500  129.669998\n",
            "2018-12-28  22627600  132.199997\n",
            "\n",
            "[501 rows x 2 columns]\n"
          ]
        }
      ]
    },
    {
      "cell_type": "markdown",
      "metadata": {
        "id": "8CQaZCAQP68O"
      },
      "source": [
        "We can even specify both rows and columns using loc[]. The row indices and column names are separated by a comma:"
      ]
    },
    {
      "cell_type": "code",
      "metadata": {
        "colab": {
          "base_uri": "https://localhost:8080/"
        },
        "id": "YjWWiHVpHW-A",
        "outputId": "5972e593-5289-4636-f913-2c04e9fe179c"
      },
      "source": [
        "print(aapl_month.loc['2016-03':'2016-06',['Open', 'High', 'Low', 'Close']])"
      ],
      "execution_count": null,
      "outputs": [
        {
          "output_type": "stream",
          "name": "stdout",
          "text": [
            "                 Open       High        Low      Close\n",
            "Date                                                  \n",
            "2016-03-31  25.431520  25.473242  25.236819  25.262316\n",
            "2016-04-30  21.785529  21.954734  21.442488  21.727583\n",
            "2016-05-31  23.226409  23.412967  23.044516  23.287041\n",
            "2016-06-30  22.023112  22.333262  21.990464  22.293619\n"
          ]
        }
      ]
    },
    {
      "cell_type": "code",
      "source": [
        "#Access to the rows from 2018-02 to 2018-05 and the columns Volume and Low\n",
        "print(selected_columns.loc['2018-02':'2018-05'],['Volume', 'Low'])"
      ],
      "metadata": {
        "colab": {
          "base_uri": "https://localhost:8080/"
        },
        "id": "A4rjF7UAbuFm",
        "outputId": "efe43bbe-a6f0-4646-a090-ebfe76d5eb5e"
      },
      "execution_count": null,
      "outputs": [
        {
          "output_type": "stream",
          "name": "stdout",
          "text": [
            "              Volume         Low\n",
            "Date                            \n",
            "2018-02-01  54211300  187.889999\n",
            "2018-02-02  26677500  189.979996\n",
            "2018-02-05  33128200  180.610001\n",
            "2018-02-06  37758500  177.740005\n",
            "2018-02-07  27601900  179.949997\n",
            "...              ...         ...\n",
            "2018-05-24  12354700  185.029999\n",
            "2018-05-25  10965100  184.449997\n",
            "2018-05-29  16398900  183.710007\n",
            "2018-05-30  13736900  185.250000\n",
            "2018-05-31  30782600  187.479996\n",
            "\n",
            "[83 rows x 2 columns] ['Volume', 'Low']\n"
          ]
        }
      ]
    },
    {
      "cell_type": "markdown",
      "metadata": {
        "id": "Xcn_pHNLQBEH"
      },
      "source": [
        "The subset methods in DataFrame is quite useful. By writing logical statements in square brackets, we can make customized subsets:"
      ]
    },
    {
      "cell_type": "code",
      "metadata": {
        "colab": {
          "base_uri": "https://localhost:8080/"
        },
        "id": "RxKg4dObHW-A",
        "outputId": "907ce3c6-da1b-4b18-c8e2-daf5a2bb23e7"
      },
      "source": [
        "import numpy as np \n",
        "\n",
        "above = aapl_bar[aapl_bar.Close > np.mean(aapl_bar.Close)]\n",
        "print(above)"
      ],
      "execution_count": null,
      "outputs": [
        {
          "output_type": "stream",
          "name": "stdout",
          "text": [
            "                 Open       High        Low      Close\n",
            "Date                                                  \n",
            "2016-03-31  25.431520  25.473242  25.236819  25.262316\n",
            "2016-08-31  24.773054  24.986412  24.768364  24.876215\n",
            "2016-09-30  26.367388  26.580747  26.212645  26.505720\n",
            "2016-10-31  26.646396  26.782384  26.540888  26.620605\n",
            "2016-11-30  26.300094  26.441492  25.986660  26.045576\n",
            "2016-12-31  27.490193  27.619807  27.202683  27.294592\n"
          ]
        }
      ]
    },
    {
      "cell_type": "code",
      "source": [
        "import numpy as np #Import library numpy with the name np\n",
        "\n",
        "#Show the rows in the dataframe that its value in the column Low is smaller than the mean\n",
        "data = selected_columns[selected_columns.Low < np.mean(selected_columns.Low)]\n",
        "print(data)"
      ],
      "metadata": {
        "colab": {
          "base_uri": "https://localhost:8080/"
        },
        "id": "QAdxclkKcO4s",
        "outputId": "8979e397-08c6-472a-ff28-c4946edf84c5"
      },
      "execution_count": null,
      "outputs": [
        {
          "output_type": "stream",
          "name": "stdout",
          "text": [
            "              Volume         Low\n",
            "Date                            \n",
            "2017-01-03  20663900  115.510002\n",
            "2017-01-04  19630900  117.290001\n",
            "2017-01-05  19492200  118.320000\n",
            "2017-01-06  28545300  120.029999\n",
            "2017-01-09  22880400  123.040001\n",
            "...              ...         ...\n",
            "2018-12-21  56901500  123.419998\n",
            "2018-12-24  22066000  123.019997\n",
            "2018-12-26  39723400  125.889999\n",
            "2018-12-27  31202500  129.669998\n",
            "2018-12-28  22627600  132.199997\n",
            "\n",
            "[225 rows x 2 columns]\n"
          ]
        }
      ]
    },
    {
      "cell_type": "markdown",
      "metadata": {
        "id": "wcm_UadkQLL5"
      },
      "source": [
        "## Data Validation\n",
        "As mentioned, all methods that apply to a Series can also be applied to a DataFrame. Here we add a new column to an existing DataFrame:"
      ]
    },
    {
      "cell_type": "code",
      "metadata": {
        "colab": {
          "base_uri": "https://localhost:8080/"
        },
        "id": "jZXFdOVFHW-A",
        "outputId": "35e1d9c9-1460-417c-940e-c6fa70c9947b"
      },
      "source": [
        "aapl_bar['rate_return'] = aapl_bar.Close.pct_change()\n",
        "print(aapl_bar)"
      ],
      "execution_count": null,
      "outputs": [
        {
          "output_type": "stream",
          "name": "stdout",
          "text": [
            "                 Open       High        Low      Close  rate_return\n",
            "Date                                                               \n",
            "2016-01-31  21.852388  22.440250  21.750952  22.440250          NaN\n",
            "2016-02-29  22.450761  22.768308  22.402086  22.411358    -0.001288\n",
            "2016-03-31  25.431520  25.473242  25.236819  25.262316     0.127210\n",
            "2016-04-30  21.785529  21.954734  21.442488  21.727583    -0.139921\n",
            "2016-05-31  23.226409  23.412967  23.044516  23.287041     0.071773\n",
            "2016-06-30  22.023112  22.333262  21.990464  22.293619    -0.042660\n",
            "2016-07-31  24.296780  24.380731  24.177849  24.301443     0.090063\n",
            "2016-08-31  24.773054  24.986412  24.768364  24.876215     0.023652\n",
            "2016-09-30  26.367388  26.580747  26.212645  26.505720     0.065505\n",
            "2016-10-31  26.646396  26.782384  26.540888  26.620605     0.004334\n",
            "2016-11-30  26.300094  26.441492  25.986660  26.045576    -0.021601\n",
            "2016-12-31  27.490193  27.619807  27.202683  27.294592     0.047955\n"
          ]
        },
        {
          "output_type": "stream",
          "name": "stderr",
          "text": [
            "/usr/local/lib/python3.7/dist-packages/ipykernel_launcher.py:1: SettingWithCopyWarning: \n",
            "A value is trying to be set on a copy of a slice from a DataFrame.\n",
            "Try using .loc[row_indexer,col_indexer] = value instead\n",
            "\n",
            "See the caveats in the documentation: https://pandas.pydata.org/pandas-docs/stable/user_guide/indexing.html#returning-a-view-versus-a-copy\n",
            "  \"\"\"Entry point for launching an IPython kernel.\n"
          ]
        }
      ]
    },
    {
      "cell_type": "code",
      "source": [
        "#Define a new column in the DataFrame selected_columns with the name return_rate,\n",
        "#each row of the new column defined as the percentage change of that row in the column Low\n",
        "selected_columns['return_rate'] = selected_columns.Low.pct_change()\n",
        "print(selected_columns)"
      ],
      "metadata": {
        "id": "XmzMF15wdIGy",
        "colab": {
          "base_uri": "https://localhost:8080/"
        },
        "outputId": "9aa6dbdd-071c-46d2-d1b8-0f825a9297fc"
      },
      "execution_count": null,
      "outputs": [
        {
          "output_type": "stream",
          "name": "stdout",
          "text": [
            "              Volume         Low  return_rate\n",
            "Date                                         \n",
            "2017-01-03  20663900  115.510002          NaN\n",
            "2017-01-04  19630900  117.290001     0.015410\n",
            "2017-01-05  19492200  118.320000     0.008782\n",
            "2017-01-06  28545300  120.029999     0.014452\n",
            "2017-01-09  22880400  123.040001     0.025077\n",
            "...              ...         ...          ...\n",
            "2018-12-21  56901500  123.419998    -0.050615\n",
            "2018-12-24  22066000  123.019997    -0.003241\n",
            "2018-12-26  39723400  125.889999     0.023330\n",
            "2018-12-27  31202500  129.669998     0.030026\n",
            "2018-12-28  22627600  132.199997     0.019511\n",
            "\n",
            "[501 rows x 3 columns]\n"
          ]
        },
        {
          "output_type": "stream",
          "name": "stderr",
          "text": [
            "/usr/local/lib/python3.7/dist-packages/ipykernel_launcher.py:1: SettingWithCopyWarning: \n",
            "A value is trying to be set on a copy of a slice from a DataFrame.\n",
            "Try using .loc[row_indexer,col_indexer] = value instead\n",
            "\n",
            "See the caveats in the documentation: https://pandas.pydata.org/pandas-docs/stable/user_guide/indexing.html#returning-a-view-versus-a-copy\n",
            "  \"\"\"Entry point for launching an IPython kernel.\n"
          ]
        }
      ]
    },
    {
      "cell_type": "markdown",
      "metadata": {
        "id": "_or6n5-LQUa-"
      },
      "source": [
        "Here the calculation introduced a NaN value. If the DataFrame is large, we would not be able to observe it. **isnull()** provides a convenient way to check abnormal values."
      ]
    },
    {
      "cell_type": "code",
      "metadata": {
        "colab": {
          "base_uri": "https://localhost:8080/"
        },
        "id": "V5wgmhIPHW-B",
        "outputId": "cf646765-ea74-4e63-ced7-78e1ec2e1b93"
      },
      "source": [
        "missing = aapl_bar.isnull()\n",
        "print(missing)\n",
        "print('---------------------------------------------')\n",
        "print(missing.describe())"
      ],
      "execution_count": null,
      "outputs": [
        {
          "output_type": "stream",
          "name": "stdout",
          "text": [
            "             Open   High    Low  Close  rate_return\n",
            "Date                                               \n",
            "2016-01-31  False  False  False  False         True\n",
            "2016-02-29  False  False  False  False        False\n",
            "2016-03-31  False  False  False  False        False\n",
            "2016-04-30  False  False  False  False        False\n",
            "2016-05-31  False  False  False  False        False\n",
            "2016-06-30  False  False  False  False        False\n",
            "2016-07-31  False  False  False  False        False\n",
            "2016-08-31  False  False  False  False        False\n",
            "2016-09-30  False  False  False  False        False\n",
            "2016-10-31  False  False  False  False        False\n",
            "2016-11-30  False  False  False  False        False\n",
            "2016-12-31  False  False  False  False        False\n",
            "---------------------------------------------\n",
            "         Open   High    Low  Close rate_return\n",
            "count      12     12     12     12          12\n",
            "unique      1      1      1      1           2\n",
            "top     False  False  False  False       False\n",
            "freq       12     12     12     12          11\n"
          ]
        }
      ]
    },
    {
      "cell_type": "code",
      "source": [
        "#isnull() return a Dataframe with boolean values, true if value is NaN, else false\n",
        "missing_boolean = selected_columns.isnull()\n",
        "print(missing_boolean) \n",
        "print(\"............Statistical Summaries.........\")\n",
        "#Print statistical summaries of missing_boolean DataFrame\n",
        "print(missing_boolean.describe())"
      ],
      "metadata": {
        "colab": {
          "base_uri": "https://localhost:8080/"
        },
        "id": "OhANxpMS28It",
        "outputId": "407c1f0c-0e18-44a3-bfe7-e0619641947d"
      },
      "execution_count": null,
      "outputs": [
        {
          "output_type": "stream",
          "name": "stdout",
          "text": [
            "            Volume    Low  return_rate\n",
            "Date                                  \n",
            "2017-01-03   False  False         True\n",
            "2017-01-04   False  False        False\n",
            "2017-01-05   False  False        False\n",
            "2017-01-06   False  False        False\n",
            "2017-01-09   False  False        False\n",
            "...            ...    ...          ...\n",
            "2018-12-21   False  False        False\n",
            "2018-12-24   False  False        False\n",
            "2018-12-26   False  False        False\n",
            "2018-12-27   False  False        False\n",
            "2018-12-28   False  False        False\n",
            "\n",
            "[501 rows x 3 columns]\n",
            "............Statistical Summaries.........\n",
            "       Volume    Low return_rate\n",
            "count     501    501         501\n",
            "unique      1      1           2\n",
            "top     False  False       False\n",
            "freq      501    501         500\n"
          ]
        }
      ]
    },
    {
      "cell_type": "markdown",
      "metadata": {
        "id": "d6KFV4i0QfLW"
      },
      "source": [
        "The row labelled \"unique\" indicates the number of unique values in each column. Since the \"rate_return\" column has 2 unique values, it has at least one missing value.\n",
        "\n",
        "We can deduce the number of missing values by comparing \"count\" with \"freq\". There are 12 counts and 11 False values, so there is one True value which corresponds to the missing value.\n",
        "\n",
        "We can also find the rows with missing values easily:"
      ]
    },
    {
      "cell_type": "code",
      "metadata": {
        "colab": {
          "base_uri": "https://localhost:8080/"
        },
        "id": "Eo0ZAhCsHW-B",
        "outputId": "632cc9ee-2b53-4669-d329-1af7538859f6"
      },
      "source": [
        "print(missing[missing.rate_return == True])"
      ],
      "execution_count": null,
      "outputs": [
        {
          "output_type": "stream",
          "name": "stdout",
          "text": [
            "             Open   High    Low  Close  rate_return\n",
            "Date                                               \n",
            "2016-01-31  False  False  False  False         True\n"
          ]
        }
      ]
    },
    {
      "cell_type": "code",
      "source": [
        "#Use return_rate column as boolean mask\n",
        "#If missing_boolean[return_rate][i]==True, then select selected_columns dataframe at row i\n",
        "print(selected_columns[missing_boolean.return_rate])"
      ],
      "metadata": {
        "colab": {
          "base_uri": "https://localhost:8080/"
        },
        "id": "HErSlULe4WJQ",
        "outputId": "94367aa8-08b5-44bf-ef10-41c0eb8110cc"
      },
      "execution_count": null,
      "outputs": [
        {
          "output_type": "stream",
          "name": "stdout",
          "text": [
            "              Volume         Low  return_rate\n",
            "Date                                         \n",
            "2017-01-03  20663900  115.510002          NaN\n"
          ]
        }
      ]
    },
    {
      "cell_type": "markdown",
      "metadata": {
        "id": "qgggpD8OQkZX"
      },
      "source": [
        "Usually when dealing with missing data, we either delete the whole row or fill it with some value. As we introduced in the Series chapter, the same method **dropna()** and **fillna()** can be applied to a DataFrame."
      ]
    },
    {
      "cell_type": "code",
      "metadata": {
        "colab": {
          "base_uri": "https://localhost:8080/"
        },
        "id": "j8PaIokjHW-B",
        "outputId": "501fd060-83fe-4f98-e5ad-f9b0f41e525c"
      },
      "source": [
        "drop = aapl_bar.dropna()\n",
        "print(drop)\n",
        "print('\\n--------------------------------------------------\\n')\n",
        "fill = aapl_bar.fillna(0)\n",
        "print(fill)"
      ],
      "execution_count": null,
      "outputs": [
        {
          "output_type": "stream",
          "name": "stdout",
          "text": [
            "                 Open       High        Low      Close  rate_return\n",
            "Date                                                               \n",
            "2016-02-29  22.450761  22.768308  22.402086  22.411358    -0.001288\n",
            "2016-03-31  25.431520  25.473242  25.236819  25.262316     0.127210\n",
            "2016-04-30  21.785529  21.954734  21.442488  21.727583    -0.139921\n",
            "2016-05-31  23.226409  23.412967  23.044516  23.287041     0.071773\n",
            "2016-06-30  22.023112  22.333262  21.990464  22.293619    -0.042660\n",
            "2016-07-31  24.296780  24.380731  24.177849  24.301443     0.090063\n",
            "2016-08-31  24.773054  24.986412  24.768364  24.876215     0.023652\n",
            "2016-09-30  26.367388  26.580747  26.212645  26.505720     0.065505\n",
            "2016-10-31  26.646396  26.782384  26.540888  26.620605     0.004334\n",
            "2016-11-30  26.300094  26.441492  25.986660  26.045576    -0.021601\n",
            "2016-12-31  27.490193  27.619807  27.202683  27.294592     0.047955\n",
            "\n",
            "--------------------------------------------------\n",
            "\n",
            "                 Open       High        Low      Close  rate_return\n",
            "Date                                                               \n",
            "2016-01-31  21.852388  22.440250  21.750952  22.440250     0.000000\n",
            "2016-02-29  22.450761  22.768308  22.402086  22.411358    -0.001288\n",
            "2016-03-31  25.431520  25.473242  25.236819  25.262316     0.127210\n",
            "2016-04-30  21.785529  21.954734  21.442488  21.727583    -0.139921\n",
            "2016-05-31  23.226409  23.412967  23.044516  23.287041     0.071773\n",
            "2016-06-30  22.023112  22.333262  21.990464  22.293619    -0.042660\n",
            "2016-07-31  24.296780  24.380731  24.177849  24.301443     0.090063\n",
            "2016-08-31  24.773054  24.986412  24.768364  24.876215     0.023652\n",
            "2016-09-30  26.367388  26.580747  26.212645  26.505720     0.065505\n",
            "2016-10-31  26.646396  26.782384  26.540888  26.620605     0.004334\n",
            "2016-11-30  26.300094  26.441492  25.986660  26.045576    -0.021601\n",
            "2016-12-31  27.490193  27.619807  27.202683  27.294592     0.047955\n"
          ]
        }
      ]
    },
    {
      "cell_type": "code",
      "source": [
        "#Store in variable 'drop' the dataframe selected_columns with the rows without NaN values\n",
        "drop = selected_columns.dropna()\n",
        "print(drop)\n",
        "print('\\n--------------Replacing NaN with 0----------------------\\n')\n",
        "#Store in variable 'fill' the dataframe selected_columns with the samue values, replacing NaN values with 0\n",
        "fill = selected_columns.fillna(0)\n",
        "print(fill)"
      ],
      "metadata": {
        "colab": {
          "base_uri": "https://localhost:8080/"
        },
        "id": "r12wBgOZ6kAX",
        "outputId": "e61f4e1a-6b65-437b-a960-069234bcfb00"
      },
      "execution_count": null,
      "outputs": [
        {
          "output_type": "stream",
          "name": "stdout",
          "text": [
            "              Volume         Low  return_rate\n",
            "Date                                         \n",
            "2017-01-04  19630900  117.290001     0.015410\n",
            "2017-01-05  19492200  118.320000     0.008782\n",
            "2017-01-06  28545300  120.029999     0.014452\n",
            "2017-01-09  22880400  123.040001     0.025077\n",
            "2017-01-10  17324600  124.279999     0.010078\n",
            "...              ...         ...          ...\n",
            "2018-12-21  56901500  123.419998    -0.050615\n",
            "2018-12-24  22066000  123.019997    -0.003241\n",
            "2018-12-26  39723400  125.889999     0.023330\n",
            "2018-12-27  31202500  129.669998     0.030026\n",
            "2018-12-28  22627600  132.199997     0.019511\n",
            "\n",
            "[500 rows x 3 columns]\n",
            "\n",
            "--------------Replacing NaN with 0----------------------\n",
            "\n",
            "              Volume         Low  return_rate\n",
            "Date                                         \n",
            "2017-01-03  20663900  115.510002     0.000000\n",
            "2017-01-04  19630900  117.290001     0.015410\n",
            "2017-01-05  19492200  118.320000     0.008782\n",
            "2017-01-06  28545300  120.029999     0.014452\n",
            "2017-01-09  22880400  123.040001     0.025077\n",
            "...              ...         ...          ...\n",
            "2018-12-21  56901500  123.419998    -0.050615\n",
            "2018-12-24  22066000  123.019997    -0.003241\n",
            "2018-12-26  39723400  125.889999     0.023330\n",
            "2018-12-27  31202500  129.669998     0.030026\n",
            "2018-12-28  22627600  132.199997     0.019511\n",
            "\n",
            "[501 rows x 3 columns]\n"
          ]
        }
      ]
    },
    {
      "cell_type": "markdown",
      "metadata": {
        "id": "0tvoFlKWQxYG"
      },
      "source": [
        "## DataFrame Concat\n",
        "We have seen how to extract a Series from a dataFrame. Now we need to consider how to merge a Series or a DataFrame into another one.\n",
        "\n",
        "In Pandas, the function **concat()** allows us to merge multiple Series into a DataFrame:"
      ]
    },
    {
      "cell_type": "code",
      "metadata": {
        "colab": {
          "base_uri": "https://localhost:8080/"
        },
        "id": "uQrmLIWKHW-C",
        "outputId": "6e25a419-88a8-4df1-a025-f9f583699b4c"
      },
      "source": [
        "s1 = pd.Series([143.5, 144.09, 142.73, 144.18, 143.77], name = 'AAPL')\n",
        "s2 = pd.Series([898.7, 911.71, 906.69, 918.59, 926.99], name = 'GOOG')\n",
        "data_frame = pd.concat([s1,s2], axis = 1)\n",
        "print(data_frame)"
      ],
      "execution_count": null,
      "outputs": [
        {
          "output_type": "stream",
          "name": "stdout",
          "text": [
            "     AAPL    GOOG\n",
            "0  143.50  898.70\n",
            "1  144.09  911.71\n",
            "2  142.73  906.69\n",
            "3  144.18  918.59\n",
            "4  143.77  926.99\n"
          ]
        }
      ]
    },
    {
      "cell_type": "code",
      "source": [
        "fbok = [243.3, 244.29, 224.73, 234.18, 234.77]\n",
        "nvda = [89.7, 91.71, 90.69, 91.59, 92.99]\n",
        "fbok = pd.Series(fbok, name='FB') #Make a typecast from list fbok to Pandas Series and set its name to FB\n",
        "nvda = pd.Series(nvda, name='NVDA') #Make a typecast from list nvda to Pandas Series and set its name to NVDA\n",
        "\n",
        "#Concatenate pandas Series fbok and nvda by columns in a new Pandas DataFrame\n",
        "ex_dataframe = pd.concat([fbok,nvda], axis=1)\n",
        "print(ex_dataframe)"
      ],
      "metadata": {
        "colab": {
          "base_uri": "https://localhost:8080/"
        },
        "id": "kbUUIFpX7bdS",
        "outputId": "a81dea15-652e-4ede-a69e-02faa50b9069"
      },
      "execution_count": null,
      "outputs": [
        {
          "output_type": "stream",
          "name": "stdout",
          "text": [
            "       FB   NVDA\n",
            "0  243.30  89.70\n",
            "1  244.29  91.71\n",
            "2  224.73  90.69\n",
            "3  234.18  91.59\n",
            "4  234.77  92.99\n"
          ]
        }
      ]
    },
    {
      "cell_type": "markdown",
      "metadata": {
        "id": "3ojbNYJLR2vv"
      },
      "source": [
        "The \"axis = 1\" parameter will join two DataFrames by columns:"
      ]
    },
    {
      "cell_type": "code",
      "metadata": {
        "colab": {
          "base_uri": "https://localhost:8080/"
        },
        "id": "DJsaLd-cRoIm",
        "outputId": "5eecb75d-1d7d-47db-daba-e5fe5b0e009b"
      },
      "source": [
        "log_price = np.log(aapl_bar.Close)\n",
        "log_price.name = 'log_price'\n",
        "print(log_price)\n",
        "print('\\n---------------------- separate line--------------------\\n')\n",
        "concat = pd.concat([aapl_bar, log_price], axis = 1)\n",
        "print(concat)"
      ],
      "execution_count": null,
      "outputs": [
        {
          "output_type": "stream",
          "name": "stdout",
          "text": [
            "Date\n",
            "2016-01-31    3.110856\n",
            "2016-02-29    3.109568\n",
            "2016-03-31    3.229314\n",
            "2016-04-30    3.078583\n",
            "2016-05-31    3.147897\n",
            "2016-06-30    3.104301\n",
            "2016-07-31    3.190536\n",
            "2016-08-31    3.213912\n",
            "2016-09-30    3.277361\n",
            "2016-10-31    3.281686\n",
            "2016-11-30    3.259848\n",
            "2016-12-31    3.306689\n",
            "Freq: M, Name: log_price, dtype: float64\n",
            "\n",
            "---------------------- separate line--------------------\n",
            "\n",
            "                 Open       High        Low      Close  rate_return  log_price\n",
            "Date                                                                          \n",
            "2016-01-31  21.852388  22.440250  21.750952  22.440250          NaN   3.110856\n",
            "2016-02-29  22.450761  22.768308  22.402086  22.411358    -0.001288   3.109568\n",
            "2016-03-31  25.431520  25.473242  25.236819  25.262316     0.127210   3.229314\n",
            "2016-04-30  21.785529  21.954734  21.442488  21.727583    -0.139921   3.078583\n",
            "2016-05-31  23.226409  23.412967  23.044516  23.287041     0.071773   3.147897\n",
            "2016-06-30  22.023112  22.333262  21.990464  22.293619    -0.042660   3.104301\n",
            "2016-07-31  24.296780  24.380731  24.177849  24.301443     0.090063   3.190536\n",
            "2016-08-31  24.773054  24.986412  24.768364  24.876215     0.023652   3.213912\n",
            "2016-09-30  26.367388  26.580747  26.212645  26.505720     0.065505   3.277361\n",
            "2016-10-31  26.646396  26.782384  26.540888  26.620605     0.004334   3.281686\n",
            "2016-11-30  26.300094  26.441492  25.986660  26.045576    -0.021601   3.259848\n",
            "2016-12-31  27.490193  27.619807  27.202683  27.294592     0.047955   3.306689\n"
          ]
        }
      ]
    },
    {
      "cell_type": "code",
      "source": [
        "#Apply e^x to all the rows of the column Low of DataFrame selected_columns\n",
        "exp_price = np.exp(selected_columns.Low)\n",
        "exp_price.name = 'exp_price' #Set name of Pandas Series as 'exp_price'\n",
        "print(exp_price)\n",
        "print('---------New DataFrame with column exp_price------')\n",
        "\n",
        "#Concatenate the columns of DataFrame selected_columns with Series exp_price\n",
        "result_concat = pd.concat([selected_columns,exp_price], axis=1)\n",
        "print(result_concat)"
      ],
      "metadata": {
        "colab": {
          "base_uri": "https://localhost:8080/"
        },
        "id": "XPzg0oG2L4XN",
        "outputId": "ea2e9ebb-7997-4f87-e889-5513a6191f4e"
      },
      "execution_count": null,
      "outputs": [
        {
          "output_type": "stream",
          "name": "stdout",
          "text": [
            "Date\n",
            "2017-01-03    1.463378e+50\n",
            "2017-01-04    8.677611e+50\n",
            "2017-01-05    2.430653e+51\n",
            "2017-01-06    1.343897e+52\n",
            "2017-01-09    2.726424e+53\n",
            "                  ...     \n",
            "2018-12-21    3.986797e+53\n",
            "2018-12-24    2.672426e+53\n",
            "2018-12-26    4.713376e+54\n",
            "2018-12-27    2.065212e+56\n",
            "2018-12-28    2.592562e+57\n",
            "Name: exp_price, Length: 501, dtype: float64\n",
            "---------New DataFrame with column exp_price------\n",
            "              Volume         Low  return_rate     exp_price\n",
            "Date                                                       \n",
            "2017-01-03  20663900  115.510002          NaN  1.463378e+50\n",
            "2017-01-04  19630900  117.290001     0.015410  8.677611e+50\n",
            "2017-01-05  19492200  118.320000     0.008782  2.430653e+51\n",
            "2017-01-06  28545300  120.029999     0.014452  1.343897e+52\n",
            "2017-01-09  22880400  123.040001     0.025077  2.726424e+53\n",
            "...              ...         ...          ...           ...\n",
            "2018-12-21  56901500  123.419998    -0.050615  3.986797e+53\n",
            "2018-12-24  22066000  123.019997    -0.003241  2.672426e+53\n",
            "2018-12-26  39723400  125.889999     0.023330  4.713376e+54\n",
            "2018-12-27  31202500  129.669998     0.030026  2.065212e+56\n",
            "2018-12-28  22627600  132.199997     0.019511  2.592562e+57\n",
            "\n",
            "[501 rows x 4 columns]\n"
          ]
        }
      ]
    },
    {
      "cell_type": "markdown",
      "metadata": {
        "id": "mIZz-FUyR_62"
      },
      "source": [
        "We can also join two DataFrames by rows. Consider these two DataFrames:"
      ]
    },
    {
      "cell_type": "code",
      "metadata": {
        "colab": {
          "base_uri": "https://localhost:8080/"
        },
        "id": "W7uXZptLHW-C",
        "outputId": "293e68e0-a71f-4ca3-bf8d-944cb833fe78"
      },
      "source": [
        "df_volume = aapl_table.loc['2016-10':'2017-04',['Volume', 'Stock Splits']].resample('M').agg(lambda x: x[-1])\n",
        "print(df_volume)\n",
        "print('\\n---------------------- separate line--------------------\\n')\n",
        "df_2017 = aapl_table.loc['2016-10':'2017-04',['Open', 'High', 'Low', 'Close']].resample('M').agg(lambda x: x[-1])\n",
        "print(df_2017)"
      ],
      "execution_count": null,
      "outputs": [
        {
          "output_type": "stream",
          "name": "stdout",
          "text": [
            "               Volume  Stock Splits\n",
            "Date                               \n",
            "2016-10-31  105677600             0\n",
            "2016-11-30  144649200             0\n",
            "2016-12-31  122345200             0\n",
            "2017-01-31  196804000             0\n",
            "2017-02-28   93931600             0\n",
            "2017-03-31   78646800             0\n",
            "2017-04-30   83441600             0\n",
            "\n",
            "---------------------- separate line--------------------\n",
            "\n",
            "                 Open       High        Low      Close\n",
            "Date                                                  \n",
            "2016-10-31  26.646396  26.782384  26.540888  26.620605\n",
            "2016-11-30  26.300094  26.441492  25.986660  26.045576\n",
            "2016-12-31  27.490193  27.619807  27.202683  27.294592\n",
            "2017-01-31  28.550684  28.607243  28.425783  28.597816\n",
            "2017-02-28  32.444862  32.530069  32.354920  32.423561\n",
            "2017-03-31  34.016455  34.146633  33.848407  34.002254\n",
            "2017-04-30  34.104032  34.153737  33.909951  33.999889\n"
          ]
        }
      ]
    },
    {
      "cell_type": "code",
      "source": [
        "#Select rows from 2018-01 to 2018-02, columns High,Dividends and aggregate data by week using the largest value of the group\n",
        "df_high = fbok_table.loc['2018-01':'2018-02',[\"High\",\"Dividends\"]].resample(\"W\").max()\n",
        "print(df_high)\n",
        "print(\"..........Ene-Feb 2018------------\")\n",
        "#Select rows from 2018-01 to 2018-02, columns open,Volume,Low,Close and aggregate data by week using the largest value of the group\n",
        "df_2018 = fbok_table.loc['2018-01':'2018-02',['Open', 'Volume', 'Low', 'Close']].resample(\"W\").max()\n",
        "print(df_2018)"
      ],
      "metadata": {
        "colab": {
          "base_uri": "https://localhost:8080/"
        },
        "id": "7A9_GvlFNy3R",
        "outputId": "a3a46d47-a613-4961-ba86-c86e429ff360"
      },
      "execution_count": null,
      "outputs": [
        {
          "output_type": "stream",
          "name": "stdout",
          "text": [
            "                  High  Dividends\n",
            "Date                             \n",
            "2018-01-07  186.899994          0\n",
            "2018-01-14  188.899994          0\n",
            "2018-01-21  182.369995          0\n",
            "2018-01-28  190.660004          0\n",
            "2018-02-04  195.320007          0\n",
            "2018-02-11  190.610001          0\n",
            "2018-02-18  180.500000          0\n",
            "2018-02-25  183.389999          0\n",
            "2018-03-04  185.660004          0\n",
            "..........Ene-Feb 2018------------\n",
            "                  Open    Volume         Low       Close\n",
            "Date                                                    \n",
            "2018-01-07  185.589996  18151900  184.929993  186.850006\n",
            "2018-01-14  188.699997  77551300  187.380005  188.279999\n",
            "2018-01-21  181.500000  36183800  180.169998  181.289993\n",
            "2018-01-28  189.889999  25678800  186.809998  190.000000\n",
            "2018-02-04  192.039993  54211300  189.979996  193.089996\n",
            "2018-02-11  186.929993  39887600  180.610001  185.309998\n",
            "2018-02-18  180.500000  32092100  176.839996  179.960007\n",
            "2018-02-25  179.899994  23200800  179.509995  183.289993\n",
            "2018-03-04  184.580002  18783000  183.220001  184.929993\n"
          ]
        }
      ]
    },
    {
      "cell_type": "markdown",
      "metadata": {
        "id": "iZk_C9aSSLeP"
      },
      "source": [
        "Now we merge the DataFrames with our DataFrame 'aapl_bar'"
      ]
    },
    {
      "cell_type": "code",
      "metadata": {
        "colab": {
          "base_uri": "https://localhost:8080/"
        },
        "outputId": "0b04d7bc-221c-46eb-c6b8-4a7feca2f531",
        "id": "zKxTP-Dr0SIg"
      },
      "source": [
        "concat = pd.concat([aapl_bar, df_volume], axis = 1)\n",
        "print(concat)"
      ],
      "execution_count": null,
      "outputs": [
        {
          "output_type": "stream",
          "name": "stdout",
          "text": [
            "                 Open       High  ...       Volume  Stock Splits\n",
            "Date                              ...                           \n",
            "2016-01-31  21.852388  22.440250  ...          NaN           NaN\n",
            "2016-02-29  22.450761  22.768308  ...          NaN           NaN\n",
            "2016-03-31  25.431520  25.473242  ...          NaN           NaN\n",
            "2016-04-30  21.785529  21.954734  ...          NaN           NaN\n",
            "2016-05-31  23.226409  23.412967  ...          NaN           NaN\n",
            "2016-06-30  22.023112  22.333262  ...          NaN           NaN\n",
            "2016-07-31  24.296780  24.380731  ...          NaN           NaN\n",
            "2016-08-31  24.773054  24.986412  ...          NaN           NaN\n",
            "2016-09-30  26.367388  26.580747  ...          NaN           NaN\n",
            "2016-10-31  26.646396  26.782384  ...  105677600.0           0.0\n",
            "2016-11-30  26.300094  26.441492  ...  144649200.0           0.0\n",
            "2016-12-31  27.490193  27.619807  ...  122345200.0           0.0\n",
            "2017-01-31        NaN        NaN  ...  196804000.0           0.0\n",
            "2017-02-28        NaN        NaN  ...   93931600.0           0.0\n",
            "2017-03-31        NaN        NaN  ...   78646800.0           0.0\n",
            "2017-04-30        NaN        NaN  ...   83441600.0           0.0\n",
            "\n",
            "[16 rows x 7 columns]\n"
          ]
        }
      ]
    },
    {
      "cell_type": "code",
      "metadata": {
        "colab": {
          "base_uri": "https://localhost:8080/"
        },
        "id": "aFqmjokOHW-C",
        "outputId": "40dfe0fb-197c-42e2-8bff-1fb32d64170a"
      },
      "source": [
        "#Concatenate the columns of DataFrame selected_columns and the columns of df_high\n",
        "concatenation = pd.concat([selected_columns, df_high], axis = 1)\n",
        "print(concatenation)"
      ],
      "execution_count": null,
      "outputs": [
        {
          "output_type": "stream",
          "name": "stdout",
          "text": [
            "                Volume         Low  return_rate  High  Dividends\n",
            "Date                                                            \n",
            "2017-01-03  20663900.0  115.510002          NaN   NaN        NaN\n",
            "2017-01-04  19630900.0  117.290001     0.015410   NaN        NaN\n",
            "2017-01-05  19492200.0  118.320000     0.008782   NaN        NaN\n",
            "2017-01-06  28545300.0  120.029999     0.014452   NaN        NaN\n",
            "2017-01-09  22880400.0  123.040001     0.025077   NaN        NaN\n",
            "...                ...         ...          ...   ...        ...\n",
            "2018-12-21  56901500.0  123.419998    -0.050615   NaN        NaN\n",
            "2018-12-24  22066000.0  123.019997    -0.003241   NaN        NaN\n",
            "2018-12-26  39723400.0  125.889999     0.023330   NaN        NaN\n",
            "2018-12-27  31202500.0  129.669998     0.030026   NaN        NaN\n",
            "2018-12-28  22627600.0  132.199997     0.019511   NaN        NaN\n",
            "\n",
            "[510 rows x 5 columns]\n"
          ]
        }
      ]
    },
    {
      "cell_type": "markdown",
      "metadata": {
        "id": "7yI3tgB4SR4O"
      },
      "source": [
        "By default the DataFrame are joined with all of the data. This default options results in zero information loss. We can also merge them by intersection, this is called 'inner join"
      ]
    },
    {
      "cell_type": "code",
      "metadata": {
        "colab": {
          "base_uri": "https://localhost:8080/"
        },
        "id": "31QGLyijHW-C",
        "outputId": "5da6383a-4f02-4d76-8bdf-a3845a8ee40b"
      },
      "source": [
        "concat = pd.concat([aapl_bar,df_volume],axis = 1, join = 'inner')\n",
        "print(concat)"
      ],
      "execution_count": null,
      "outputs": [
        {
          "output_type": "stream",
          "name": "stdout",
          "text": [
            "                 Open       High  ...     Volume  Stock Splits\n",
            "Date                              ...                         \n",
            "2016-10-31  26.646396  26.782384  ...  105677600             0\n",
            "2016-11-30  26.300094  26.441492  ...  144649200             0\n",
            "2016-12-31  27.490193  27.619807  ...  122345200             0\n",
            "\n",
            "[3 rows x 7 columns]\n"
          ]
        }
      ]
    },
    {
      "cell_type": "code",
      "source": [
        "#Concatenate the columns of DataFrame selected_columns and the columns of df_high by its intersection\n",
        "concatenation = pd.concat([selected_columns, df_high], axis = 1, join='inner')\n",
        "print(concatenation)"
      ],
      "metadata": {
        "colab": {
          "base_uri": "https://localhost:8080/"
        },
        "id": "DSdVjTuW0nbM",
        "outputId": "70afa795-f7af-4c7f-907d-e08f937fc64b"
      },
      "execution_count": null,
      "outputs": [
        {
          "output_type": "stream",
          "name": "stdout",
          "text": [
            "Empty DataFrame\n",
            "Columns: [Volume, Low, return_rate, High, Dividends]\n",
            "Index: []\n"
          ]
        }
      ]
    },
    {
      "cell_type": "markdown",
      "metadata": {
        "id": "oudcWMm5Sd0u"
      },
      "source": [
        "Only the intersection part was left if use 'inner join' method. Now let's try to append a DataFrame to another one:"
      ]
    },
    {
      "cell_type": "code",
      "metadata": {
        "colab": {
          "base_uri": "https://localhost:8080/"
        },
        "id": "lgw0qaOsHW-D",
        "outputId": "d6287ecf-8c47-4367-9f14-5b47625de02b"
      },
      "source": [
        "append = aapl_bar.append(df_2017)\n",
        "print(append)"
      ],
      "execution_count": null,
      "outputs": [
        {
          "output_type": "stream",
          "name": "stdout",
          "text": [
            "                 Open       High        Low      Close  rate_return\n",
            "Date                                                               \n",
            "2016-01-31  21.852388  22.440250  21.750952  22.440250          NaN\n",
            "2016-02-29  22.450761  22.768308  22.402086  22.411358    -0.001288\n",
            "2016-03-31  25.431520  25.473242  25.236819  25.262316     0.127210\n",
            "2016-04-30  21.785529  21.954734  21.442488  21.727583    -0.139921\n",
            "2016-05-31  23.226409  23.412967  23.044516  23.287041     0.071773\n",
            "2016-06-30  22.023112  22.333262  21.990464  22.293619    -0.042660\n",
            "2016-07-31  24.296780  24.380731  24.177849  24.301443     0.090063\n",
            "2016-08-31  24.773054  24.986412  24.768364  24.876215     0.023652\n",
            "2016-09-30  26.367388  26.580747  26.212645  26.505720     0.065505\n",
            "2016-10-31  26.646396  26.782384  26.540888  26.620605     0.004334\n",
            "2016-11-30  26.300094  26.441492  25.986660  26.045576    -0.021601\n",
            "2016-12-31  27.490193  27.619807  27.202683  27.294592     0.047955\n",
            "2016-10-31  26.646396  26.782384  26.540888  26.620605          NaN\n",
            "2016-11-30  26.300094  26.441492  25.986660  26.045576          NaN\n",
            "2016-12-31  27.490193  27.619807  27.202683  27.294592          NaN\n",
            "2017-01-31  28.550684  28.607243  28.425783  28.597816          NaN\n",
            "2017-02-28  32.444862  32.530069  32.354920  32.423561          NaN\n",
            "2017-03-31  34.016455  34.146633  33.848407  34.002254          NaN\n",
            "2017-04-30  34.104032  34.153737  33.909951  33.999889          NaN\n"
          ]
        }
      ]
    },
    {
      "cell_type": "code",
      "source": [
        "#Add the content of df_2018 to selected_columns DataFrame\n",
        "append_example = selected_columns.append(df_2018)\n",
        "print(append_example)"
      ],
      "metadata": {
        "colab": {
          "base_uri": "https://localhost:8080/"
        },
        "id": "a0JGWbES1Lnk",
        "outputId": "2d5e2f01-0296-4596-b3f0-9abf7406b256"
      },
      "execution_count": null,
      "outputs": [
        {
          "output_type": "stream",
          "name": "stdout",
          "text": [
            "              Volume         Low  return_rate        Open       Close\n",
            "Date                                                                 \n",
            "2017-01-03  20663900  115.510002          NaN         NaN         NaN\n",
            "2017-01-04  19630900  117.290001     0.015410         NaN         NaN\n",
            "2017-01-05  19492200  118.320000     0.008782         NaN         NaN\n",
            "2017-01-06  28545300  120.029999     0.014452         NaN         NaN\n",
            "2017-01-09  22880400  123.040001     0.025077         NaN         NaN\n",
            "...              ...         ...          ...         ...         ...\n",
            "2018-02-04  54211300  189.979996          NaN  192.039993  193.089996\n",
            "2018-02-11  39887600  180.610001          NaN  186.929993  185.309998\n",
            "2018-02-18  32092100  176.839996          NaN  180.500000  179.960007\n",
            "2018-02-25  23200800  179.509995          NaN  179.899994  183.289993\n",
            "2018-03-04  18783000  183.220001          NaN  184.580002  184.929993\n",
            "\n",
            "[510 rows x 5 columns]\n"
          ]
        }
      ]
    },
    {
      "cell_type": "markdown",
      "metadata": {
        "id": "zXT6cMquSq_P"
      },
      "source": [
        "'Append' is essentially to concat two DataFrames by axis = 0, thus here is an alternative way to append:"
      ]
    },
    {
      "cell_type": "code",
      "metadata": {
        "colab": {
          "base_uri": "https://localhost:8080/"
        },
        "id": "2EuSaFO9HW-D",
        "outputId": "3bd6dad7-022a-4c62-d049-24c219feab39"
      },
      "source": [
        "concat = pd.concat([aapl_bar, df_2017], axis = 0)\n",
        "print(concat)"
      ],
      "execution_count": null,
      "outputs": [
        {
          "output_type": "stream",
          "name": "stdout",
          "text": [
            "                 Open       High        Low      Close  rate_return\n",
            "Date                                                               \n",
            "2016-01-31  21.852388  22.440250  21.750952  22.440250          NaN\n",
            "2016-02-29  22.450761  22.768308  22.402086  22.411358    -0.001288\n",
            "2016-03-31  25.431520  25.473242  25.236819  25.262316     0.127210\n",
            "2016-04-30  21.785529  21.954734  21.442488  21.727583    -0.139921\n",
            "2016-05-31  23.226409  23.412967  23.044516  23.287041     0.071773\n",
            "2016-06-30  22.023112  22.333262  21.990464  22.293619    -0.042660\n",
            "2016-07-31  24.296780  24.380731  24.177849  24.301443     0.090063\n",
            "2016-08-31  24.773054  24.986412  24.768364  24.876215     0.023652\n",
            "2016-09-30  26.367388  26.580747  26.212645  26.505720     0.065505\n",
            "2016-10-31  26.646396  26.782384  26.540888  26.620605     0.004334\n",
            "2016-11-30  26.300094  26.441492  25.986660  26.045576    -0.021601\n",
            "2016-12-31  27.490193  27.619807  27.202683  27.294592     0.047955\n",
            "2016-10-31  26.646396  26.782384  26.540888  26.620605          NaN\n",
            "2016-11-30  26.300094  26.441492  25.986660  26.045576          NaN\n",
            "2016-12-31  27.490193  27.619807  27.202683  27.294592          NaN\n",
            "2017-01-31  28.550684  28.607243  28.425783  28.597816          NaN\n",
            "2017-02-28  32.444862  32.530069  32.354920  32.423561          NaN\n",
            "2017-03-31  34.016455  34.146633  33.848407  34.002254          NaN\n",
            "2017-04-30  34.104032  34.153737  33.909951  33.999889          NaN\n"
          ]
        }
      ]
    },
    {
      "cell_type": "code",
      "source": [
        "#Concatenate the rows of selected_columns and the rows of df_2018\n",
        "concat_example = pd.concat([selected_columns,df_2018],axis=0)\n",
        "print(concat_example)"
      ],
      "metadata": {
        "colab": {
          "base_uri": "https://localhost:8080/"
        },
        "id": "Q7Hw2Uua1t97",
        "outputId": "83d0d3df-0cae-4490-e5bf-5771f8ce538c"
      },
      "execution_count": null,
      "outputs": [
        {
          "output_type": "stream",
          "name": "stdout",
          "text": [
            "              Volume         Low  return_rate        Open       Close\n",
            "Date                                                                 \n",
            "2017-01-03  20663900  115.510002          NaN         NaN         NaN\n",
            "2017-01-04  19630900  117.290001     0.015410         NaN         NaN\n",
            "2017-01-05  19492200  118.320000     0.008782         NaN         NaN\n",
            "2017-01-06  28545300  120.029999     0.014452         NaN         NaN\n",
            "2017-01-09  22880400  123.040001     0.025077         NaN         NaN\n",
            "...              ...         ...          ...         ...         ...\n",
            "2018-02-04  54211300  189.979996          NaN  192.039993  193.089996\n",
            "2018-02-11  39887600  180.610001          NaN  186.929993  185.309998\n",
            "2018-02-18  32092100  176.839996          NaN  180.500000  179.960007\n",
            "2018-02-25  23200800  179.509995          NaN  179.899994  183.289993\n",
            "2018-03-04  18783000  183.220001          NaN  184.580002  184.929993\n",
            "\n",
            "[510 rows x 5 columns]\n"
          ]
        }
      ]
    },
    {
      "cell_type": "markdown",
      "metadata": {
        "id": "-YXL7V9ASst9"
      },
      "source": [
        "Please note that if the two DataFrame have some columns with the same column names, these columns are considered to be the same and will be merged. It's very important to have the right column names. If we change a column names here:"
      ]
    },
    {
      "cell_type": "code",
      "metadata": {
        "colab": {
          "base_uri": "https://localhost:8080/"
        },
        "id": "aT1eoa8mHW-D",
        "outputId": "66a329f7-4d47-4e21-d1bb-73f24346ef24"
      },
      "source": [
        "df_2017.columns = ['Change', 'High','Low','Close']\n",
        "concat = pd.concat([aapl_bar, df_2017], axis = 0)\n",
        "print(concat)"
      ],
      "execution_count": null,
      "outputs": [
        {
          "output_type": "stream",
          "name": "stdout",
          "text": [
            "                 Open       High        Low      Close  rate_return     Change\n",
            "Date                                                                          \n",
            "2016-01-31  21.852388  22.440250  21.750952  22.440250          NaN        NaN\n",
            "2016-02-29  22.450761  22.768308  22.402086  22.411358    -0.001288        NaN\n",
            "2016-03-31  25.431520  25.473242  25.236819  25.262316     0.127210        NaN\n",
            "2016-04-30  21.785529  21.954734  21.442488  21.727583    -0.139921        NaN\n",
            "2016-05-31  23.226409  23.412967  23.044516  23.287041     0.071773        NaN\n",
            "2016-06-30  22.023112  22.333262  21.990464  22.293619    -0.042660        NaN\n",
            "2016-07-31  24.296780  24.380731  24.177849  24.301443     0.090063        NaN\n",
            "2016-08-31  24.773054  24.986412  24.768364  24.876215     0.023652        NaN\n",
            "2016-09-30  26.367388  26.580747  26.212645  26.505720     0.065505        NaN\n",
            "2016-10-31  26.646396  26.782384  26.540888  26.620605     0.004334        NaN\n",
            "2016-11-30  26.300094  26.441492  25.986660  26.045576    -0.021601        NaN\n",
            "2016-12-31  27.490193  27.619807  27.202683  27.294592     0.047955        NaN\n",
            "2016-10-31        NaN  26.782384  26.540888  26.620605          NaN  26.646396\n",
            "2016-11-30        NaN  26.441492  25.986660  26.045576          NaN  26.300094\n",
            "2016-12-31        NaN  27.619807  27.202683  27.294592          NaN  27.490193\n",
            "2017-01-31        NaN  28.607243  28.425783  28.597816          NaN  28.550684\n",
            "2017-02-28        NaN  32.530069  32.354920  32.423561          NaN  32.444862\n",
            "2017-03-31        NaN  34.146633  33.848407  34.002254          NaN  34.016455\n",
            "2017-04-30        NaN  34.153737  33.909951  33.999889          NaN  34.104032\n"
          ]
        }
      ]
    },
    {
      "cell_type": "code",
      "source": [
        "#Set the columns of df_2018 to \"Open\",\"Volume\",\"Low\" and \"Close\"\n",
        "df_2018.columns = [\"Open\",\"Volume\",\"Low\",\"Close\"]\n",
        "#Concatenate the rows of selected_columns and the rows of df_2018\n",
        "concat_example = pd.concat([selected_columns,df_2018],axis=0)\n",
        "print(concat_example)"
      ],
      "metadata": {
        "colab": {
          "base_uri": "https://localhost:8080/"
        },
        "id": "wwN7rGVM2Sx4",
        "outputId": "456ae863-ac59-4410-ef00-099c216f31bb"
      },
      "execution_count": null,
      "outputs": [
        {
          "output_type": "stream",
          "name": "stdout",
          "text": [
            "              Volume         Low  return_rate        Open       Close\n",
            "Date                                                                 \n",
            "2017-01-03  20663900  115.510002          NaN         NaN         NaN\n",
            "2017-01-04  19630900  117.290001     0.015410         NaN         NaN\n",
            "2017-01-05  19492200  118.320000     0.008782         NaN         NaN\n",
            "2017-01-06  28545300  120.029999     0.014452         NaN         NaN\n",
            "2017-01-09  22880400  123.040001     0.025077         NaN         NaN\n",
            "...              ...         ...          ...         ...         ...\n",
            "2018-02-04  54211300  189.979996          NaN  192.039993  193.089996\n",
            "2018-02-11  39887600  180.610001          NaN  186.929993  185.309998\n",
            "2018-02-18  32092100  176.839996          NaN  180.500000  179.960007\n",
            "2018-02-25  23200800  179.509995          NaN  179.899994  183.289993\n",
            "2018-03-04  18783000  183.220001          NaN  184.580002  184.929993\n",
            "\n",
            "[510 rows x 5 columns]\n"
          ]
        }
      ]
    },
    {
      "cell_type": "markdown",
      "metadata": {
        "id": "shbpOFyyS6uV"
      },
      "source": [
        "Since the column name of 'Open' has been changed, the new DataFrame has an new column named 'Change'.\n",
        "\n",
        "# Summary\n",
        "\n",
        "Hereby we introduced the most import part of python: resampling and DataFrame manipulation. We only introduced the most commonly used method in Financial data analysis. There are also many methods used in data mining, which are also beneficial. You can always check the [Pandas](https://pandas.pydata.org/pandas-docs/stable/index.html) official documentations for help."
      ]
    }
  ]
}